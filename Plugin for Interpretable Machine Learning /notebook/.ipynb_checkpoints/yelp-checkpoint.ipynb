{
 "cells": [
  {
   "cell_type": "code",
   "execution_count": 1,
   "metadata": {},
   "outputs": [],
   "source": [
    "import h2o\n",
    "import operator\n",
    "from h2o.automl import H2OAutoML\n",
    "import random, os, sys\n",
    "from datetime import datetime\n",
    "import pandas as pd\n",
    "import logging\n",
    "import csv\n",
    "import optparse\n",
    "import time\n",
    "import json\n",
    "from distutils.util import strtobool\n",
    "import psutil\n",
    "import numpy as np\n",
    "from matplotlib import pyplot as plt\n",
    "import warnings\n",
    "import sys\n",
    "sys.path.append('../plot/')\n",
    "from ice import ice, ice_plot\n",
    "from h2o.estimators.glm import H2OGeneralizedLinearEstimator\n",
    "from h2o.estimators import H2OGradientBoostingEstimator\n",
    "warnings.filterwarnings(\"ignore\")\n",
    "from h2o.estimators.random_forest import H2ORandomForestEstimator\n",
    "from IPython.display import Image, display\n",
    "from h2o.backend import H2OLocalServer\n",
    "import subprocess\n",
    "%matplotlib inline"
   ]
  },
  {
   "cell_type": "markdown",
   "metadata": {},
   "source": [
    "# 1 Data Preparation"
   ]
  },
  {
   "cell_type": "markdown",
   "metadata": {},
   "source": [
    "## 1.1 H2O Initialization"
   ]
  },
  {
   "cell_type": "code",
   "execution_count": 2,
   "metadata": {},
   "outputs": [
    {
     "name": "stdout",
     "output_type": "stream",
     "text": [
      "47\n"
     ]
    }
   ],
   "source": [
    "pct_memory=4\n",
    "virtual_memory=psutil.virtual_memory()\n",
    "min_mem_size=int(round(int(pct_memory*virtual_memory.available)/1073741824,0))\n",
    "print(min_mem_size)"
   ]
  },
  {
   "cell_type": "code",
   "execution_count": 3,
   "metadata": {},
   "outputs": [
    {
     "name": "stdout",
     "output_type": "stream",
     "text": [
      "Checking whether there is an H2O instance running at http://localhost:54321 . connected.\n"
     ]
    },
    {
     "data": {
      "text/html": [
       "<div style=\"overflow:auto\"><table style=\"width:50%\"><tr><td>H2O cluster uptime:</td>\n",
       "<td>56 mins 49 secs</td></tr>\n",
       "<tr><td>H2O cluster timezone:</td>\n",
       "<td>America/New_York</td></tr>\n",
       "<tr><td>H2O data parsing timezone:</td>\n",
       "<td>UTC</td></tr>\n",
       "<tr><td>H2O cluster version:</td>\n",
       "<td>3.24.0.2</td></tr>\n",
       "<tr><td>H2O cluster version age:</td>\n",
       "<td>9 days </td></tr>\n",
       "<tr><td>H2O cluster name:</td>\n",
       "<td>H2O_from_python_mandy_jpex0n</td></tr>\n",
       "<tr><td>H2O cluster total nodes:</td>\n",
       "<td>1</td></tr>\n",
       "<tr><td>H2O cluster free memory:</td>\n",
       "<td>27.19 Gb</td></tr>\n",
       "<tr><td>H2O cluster total cores:</td>\n",
       "<td>12</td></tr>\n",
       "<tr><td>H2O cluster allowed cores:</td>\n",
       "<td>12</td></tr>\n",
       "<tr><td>H2O cluster status:</td>\n",
       "<td>locked, healthy</td></tr>\n",
       "<tr><td>H2O connection url:</td>\n",
       "<td>http://localhost:54321</td></tr>\n",
       "<tr><td>H2O connection proxy:</td>\n",
       "<td>None</td></tr>\n",
       "<tr><td>H2O internal security:</td>\n",
       "<td>False</td></tr>\n",
       "<tr><td>H2O API Extensions:</td>\n",
       "<td>Amazon S3, XGBoost, Algos, AutoML, Core V3, Core V4</td></tr>\n",
       "<tr><td>Python version:</td>\n",
       "<td>3.7.2 final</td></tr></table></div>"
      ],
      "text/plain": [
       "--------------------------  ---------------------------------------------------\n",
       "H2O cluster uptime:         56 mins 49 secs\n",
       "H2O cluster timezone:       America/New_York\n",
       "H2O data parsing timezone:  UTC\n",
       "H2O cluster version:        3.24.0.2\n",
       "H2O cluster version age:    9 days\n",
       "H2O cluster name:           H2O_from_python_mandy_jpex0n\n",
       "H2O cluster total nodes:    1\n",
       "H2O cluster free memory:    27.19 Gb\n",
       "H2O cluster total cores:    12\n",
       "H2O cluster allowed cores:  12\n",
       "H2O cluster status:         locked, healthy\n",
       "H2O connection url:         http://localhost:54321\n",
       "H2O connection proxy:\n",
       "H2O internal security:      False\n",
       "H2O API Extensions:         Amazon S3, XGBoost, Algos, AutoML, Core V3, Core V4\n",
       "Python version:             3.7.2 final\n",
       "--------------------------  ---------------------------------------------------"
      ]
     },
     "metadata": {},
     "output_type": "display_data"
    }
   ],
   "source": [
    "h2o.init(strict_version_check=False,max_mem_size=min_mem_size)"
   ]
  },
  {
   "cell_type": "markdown",
   "metadata": {},
   "source": [
    "## 1.2 Data Import & Parse"
   ]
  },
  {
   "cell_type": "code",
   "execution_count": 4,
   "metadata": {},
   "outputs": [
    {
     "name": "stdout",
     "output_type": "stream",
     "text": [
      "Parse progress: |█████████████████████████████████████████████████████████| 100%\n"
     ]
    }
   ],
   "source": [
    "data_path = \"../data/yelp.csv\"\n",
    "\n",
    "# Load data into H2O\n",
    "reviews = h2o.import_file(data_path)"
   ]
  },
  {
   "cell_type": "code",
   "execution_count": 5,
   "metadata": {},
   "outputs": [
    {
     "data": {
      "text/plain": [
       "(10086, 10)"
      ]
     },
     "execution_count": 5,
     "metadata": {},
     "output_type": "execute_result"
    }
   ],
   "source": [
    "reviews.shape"
   ]
  },
  {
   "cell_type": "code",
   "execution_count": 6,
   "metadata": {
    "scrolled": false
   },
   "outputs": [
    {
     "data": {
      "text/html": [
       "<table>\n",
       "<thead>\n",
       "<tr><th>business_id           </th><th>date               </th><th>review_id             </th><th style=\"text-align: right;\">  stars</th><th>text                                                                        </th><th>type  </th><th>user_id               </th><th style=\"text-align: right;\">  cool</th><th style=\"text-align: right;\">  useful</th><th style=\"text-align: right;\">  funny</th></tr>\n",
       "</thead>\n",
       "<tbody>\n",
       "<tr><td>9yKzy9PApeiPPOUJEtnvkg</td><td>2011-01-26 00:00:00</td><td>fWKvX83p0-ka4JS3dc6E5A</td><td style=\"text-align: right;\">      5</td><td>My wife took me here on my birthday for breakfast and it was excellent.  The weather was perfect which made sitting outside overlooking their grounds an absolute pleasure.  Our waitress was excellent and our food arrived quickly on the semi-busy Saturday morning.  It looked like the place fills up pretty quickly so the earlier you get here the better.\n",
       "\n",
       "Do yourself a favor and get their Bloody Mary.  It was phenomenal and simply the best I've ever had.  I'm pretty sure they only use ingredients from their garden and blend them fresh when you order it.  It was amazing.\n",
       "\n",
       "While EVERYTHING on the menu looks excellent, I had the white truffle scrambled eggs vegetable skillet and it was tasty and delicious.  It came with 2 pieces of their griddled bread with was amazing and it absolutely made the meal complete.  It was the best \"toast\" I've ever had.\n",
       "\n",
       "Anyway, I can't wait to go back!                                                                             </td><td>review</td><td>rLtl8ZkDX5vH5nAx9C3q5Q</td><td style=\"text-align: right;\">     2</td><td style=\"text-align: right;\">       5</td><td style=\"text-align: right;\">      0</td></tr>\n",
       "<tr><td>ZRJwVLyzEJq1VAihDhYiow</td><td>2011-07-27 00:00:00</td><td>IjZ33sJrzXqU-0X6U8NwyA</td><td style=\"text-align: right;\">      5</td><td>I have no idea why some people give bad reviews about this place. It goes to show you, you can please everyone. They are probably griping about something that their own fault...there are many people like that.\n",
       "\n",
       "In any case, my friend and I arrived at about 5:50 PM this past Sunday. It was pretty crowded, more than I thought for a Sunday evening and thought we would have to wait forever to get a seat but they said we'll be seated when the girl comes back from seating someone else. We were seated at 5:52 and the waiter came and got our drink orders. Everyone was very pleasant from the host that seated us to the waiter to the server. The prices were very good as well. We placed our orders once we decided what we wanted at 6:02. We shared the baked spaghetti calzone and the small \"Here's The Beef\" pizza so we can both try them. The calzone was huge and we got the smallest one (personal) and got the small 11\" pizza. Both were awesome! My friend liked the pizza better and I liked the calzone better. The calzone does have a sweetish sauce but that's how I like my sauce!\n",
       "\n",
       "We had to box part of the pizza to take it home and we were out the door by 6:42. So, everything was great and not like these bad reviewers. That goes to show you that  you have to try these things yourself because all these bad reviewers have some serious issues.                                                                             </td><td>review</td><td>0a2KyEL0d3Yb1V6aivbIuQ</td><td style=\"text-align: right;\">     0</td><td style=\"text-align: right;\">       0</td><td style=\"text-align: right;\">      0</td></tr>\n",
       "<tr><td>6oRAC4uyJCsJl1X0WZpVSA</td><td>2012-06-14 00:00:00</td><td>IESLBzqUCLdSzSqm0eCSxQ</td><td style=\"text-align: right;\">      4</td><td>love the gyro plate. Rice is so good and I also dig their candy selection :)</td><td>review</td><td>0hT2KtfLiobPvh6cDC8JQg</td><td style=\"text-align: right;\">     0</td><td style=\"text-align: right;\">       1</td><td style=\"text-align: right;\">      0</td></tr>\n",
       "</tbody>\n",
       "</table>"
      ]
     },
     "metadata": {},
     "output_type": "display_data"
    },
    {
     "data": {
      "text/plain": []
     },
     "execution_count": 6,
     "metadata": {},
     "output_type": "execute_result"
    }
   ],
   "source": [
    "reviews.head(3)"
   ]
  },
  {
   "cell_type": "code",
   "execution_count": 7,
   "metadata": {},
   "outputs": [],
   "source": [
    "reviews['PositiveReview']=(reviews['stars']>=reviews['stars'].mean()[0]).ifelse('1','0')"
   ]
  },
  {
   "cell_type": "code",
   "execution_count": 8,
   "metadata": {},
   "outputs": [
    {
     "data": {
      "text/html": [
       "<table>\n",
       "<thead>\n",
       "<tr><th style=\"text-align: right;\">  PositiveReview</th><th style=\"text-align: right;\">  Count</th></tr>\n",
       "</thead>\n",
       "<tbody>\n",
       "<tr><td style=\"text-align: right;\">               0</td><td style=\"text-align: right;\">   3222</td></tr>\n",
       "<tr><td style=\"text-align: right;\">               1</td><td style=\"text-align: right;\">   6864</td></tr>\n",
       "</tbody>\n",
       "</table>"
      ]
     },
     "metadata": {},
     "output_type": "display_data"
    },
    {
     "data": {
      "text/plain": []
     },
     "execution_count": 8,
     "metadata": {},
     "output_type": "execute_result"
    }
   ],
   "source": [
    "reviews['PositiveReview'].table()"
   ]
  },
  {
   "cell_type": "code",
   "execution_count": 9,
   "metadata": {},
   "outputs": [
    {
     "name": "stdout",
     "output_type": "stream",
     "text": [
      "Parse progress: |█████████████████████████████████████████████████████████| 100%\n"
     ]
    },
    {
     "data": {
      "text/plain": [
       "(10086, 1)"
      ]
     },
     "execution_count": 9,
     "metadata": {},
     "output_type": "execute_result"
    }
   ],
   "source": [
    "cols_df = h2o.H2OFrame.from_python(np.transpose(list(range(1, 10087))), column_names=list(['Id']))\n",
    "cols_df.shape"
   ]
  },
  {
   "cell_type": "code",
   "execution_count": 10,
   "metadata": {},
   "outputs": [
    {
     "data": {
      "text/html": [
       "<table>\n",
       "<thead>\n",
       "<tr><th style=\"text-align: right;\">  Id</th><th>business_id           </th><th>date               </th><th>review_id             </th><th style=\"text-align: right;\">  stars</th><th>text                                                                        </th><th>type  </th><th>user_id               </th><th style=\"text-align: right;\">  cool</th><th style=\"text-align: right;\">  useful</th><th style=\"text-align: right;\">  funny</th><th style=\"text-align: right;\">  PositiveReview</th></tr>\n",
       "</thead>\n",
       "<tbody>\n",
       "<tr><td style=\"text-align: right;\">   1</td><td>9yKzy9PApeiPPOUJEtnvkg</td><td>2011-01-26 00:00:00</td><td>fWKvX83p0-ka4JS3dc6E5A</td><td style=\"text-align: right;\">      5</td><td>My wife took me here on my birthday for breakfast and it was excellent.  The weather was perfect which made sitting outside overlooking their grounds an absolute pleasure.  Our waitress was excellent and our food arrived quickly on the semi-busy Saturday morning.  It looked like the place fills up pretty quickly so the earlier you get here the better.\n",
       "\n",
       "Do yourself a favor and get their Bloody Mary.  It was phenomenal and simply the best I've ever had.  I'm pretty sure they only use ingredients from their garden and blend them fresh when you order it.  It was amazing.\n",
       "\n",
       "While EVERYTHING on the menu looks excellent, I had the white truffle scrambled eggs vegetable skillet and it was tasty and delicious.  It came with 2 pieces of their griddled bread with was amazing and it absolutely made the meal complete.  It was the best \"toast\" I've ever had.\n",
       "\n",
       "Anyway, I can't wait to go back!                                                                             </td><td>review</td><td>rLtl8ZkDX5vH5nAx9C3q5Q</td><td style=\"text-align: right;\">     2</td><td style=\"text-align: right;\">       5</td><td style=\"text-align: right;\">      0</td><td style=\"text-align: right;\">               1</td></tr>\n",
       "<tr><td style=\"text-align: right;\">   2</td><td>ZRJwVLyzEJq1VAihDhYiow</td><td>2011-07-27 00:00:00</td><td>IjZ33sJrzXqU-0X6U8NwyA</td><td style=\"text-align: right;\">      5</td><td>I have no idea why some people give bad reviews about this place. It goes to show you, you can please everyone. They are probably griping about something that their own fault...there are many people like that.\n",
       "\n",
       "In any case, my friend and I arrived at about 5:50 PM this past Sunday. It was pretty crowded, more than I thought for a Sunday evening and thought we would have to wait forever to get a seat but they said we'll be seated when the girl comes back from seating someone else. We were seated at 5:52 and the waiter came and got our drink orders. Everyone was very pleasant from the host that seated us to the waiter to the server. The prices were very good as well. We placed our orders once we decided what we wanted at 6:02. We shared the baked spaghetti calzone and the small \"Here's The Beef\" pizza so we can both try them. The calzone was huge and we got the smallest one (personal) and got the small 11\" pizza. Both were awesome! My friend liked the pizza better and I liked the calzone better. The calzone does have a sweetish sauce but that's how I like my sauce!\n",
       "\n",
       "We had to box part of the pizza to take it home and we were out the door by 6:42. So, everything was great and not like these bad reviewers. That goes to show you that  you have to try these things yourself because all these bad reviewers have some serious issues.                                                                             </td><td>review</td><td>0a2KyEL0d3Yb1V6aivbIuQ</td><td style=\"text-align: right;\">     0</td><td style=\"text-align: right;\">       0</td><td style=\"text-align: right;\">      0</td><td style=\"text-align: right;\">               1</td></tr>\n",
       "<tr><td style=\"text-align: right;\">   3</td><td>6oRAC4uyJCsJl1X0WZpVSA</td><td>2012-06-14 00:00:00</td><td>IESLBzqUCLdSzSqm0eCSxQ</td><td style=\"text-align: right;\">      4</td><td>love the gyro plate. Rice is so good and I also dig their candy selection :)</td><td>review</td><td>0hT2KtfLiobPvh6cDC8JQg</td><td style=\"text-align: right;\">     0</td><td style=\"text-align: right;\">       1</td><td style=\"text-align: right;\">      0</td><td style=\"text-align: right;\">               1</td></tr>\n",
       "</tbody>\n",
       "</table>"
      ]
     },
     "metadata": {},
     "output_type": "display_data"
    },
    {
     "data": {
      "text/plain": []
     },
     "execution_count": 10,
     "metadata": {},
     "output_type": "execute_result"
    }
   ],
   "source": [
    "reviews = cols_df.cbind(reviews)\n",
    "reviews.head(3)"
   ]
  },
  {
   "cell_type": "code",
   "execution_count": 11,
   "metadata": {},
   "outputs": [],
   "source": [
    "split = reviews[\"Id\"].quantile(prob = [0.8])[1]\n",
    "reviews[\"Train\"] = (reviews[\"Id\"] < split).ifelse(\"Yes\", \"No\")"
   ]
  },
  {
   "cell_type": "code",
   "execution_count": 12,
   "metadata": {},
   "outputs": [
    {
     "data": {
      "text/html": [
       "<table>\n",
       "<thead>\n",
       "<tr><th>Train  </th><th style=\"text-align: right;\">  Count</th></tr>\n",
       "</thead>\n",
       "<tbody>\n",
       "<tr><td>No     </td><td style=\"text-align: right;\">   2018</td></tr>\n",
       "<tr><td>Yes    </td><td style=\"text-align: right;\">   8068</td></tr>\n",
       "</tbody>\n",
       "</table>"
      ]
     },
     "metadata": {},
     "output_type": "display_data"
    },
    {
     "data": {
      "text/plain": []
     },
     "execution_count": 12,
     "metadata": {},
     "output_type": "execute_result"
    }
   ],
   "source": [
    "reviews['Train'].table()"
   ]
  },
  {
   "cell_type": "code",
   "execution_count": 13,
   "metadata": {},
   "outputs": [],
   "source": [
    "train = reviews[reviews[\"Train\"] == \"Yes\"]\n",
    "test = reviews[reviews[\"Train\"] == \"No\"]"
   ]
  },
  {
   "cell_type": "code",
   "execution_count": 14,
   "metadata": {},
   "outputs": [
    {
     "data": {
      "text/html": [
       "<table>\n",
       "<thead>\n",
       "<tr><th style=\"text-align: right;\">  Id</th><th>business_id           </th><th>date               </th><th>review_id             </th><th style=\"text-align: right;\">  stars</th><th>text                                                                                                                                                                                                                                                                                                                                                         </th><th>type  </th><th>user_id               </th><th style=\"text-align: right;\">  cool</th><th style=\"text-align: right;\">  useful</th><th style=\"text-align: right;\">  funny</th><th style=\"text-align: right;\">  PositiveReview</th><th>Train  </th></tr>\n",
       "</thead>\n",
       "<tbody>\n",
       "<tr><td style=\"text-align: right;\">   1</td><td>9yKzy9PApeiPPOUJEtnvkg</td><td>2011-01-26 00:00:00</td><td>fWKvX83p0-ka4JS3dc6E5A</td><td style=\"text-align: right;\">      5</td><td>My wife took me here on my birthday for breakfast and it was excellent.  The weather was perfect which made sitting outside overlooking their grounds an absolute pleasure.  Our waitress was excellent and our food arrived quickly on the semi-busy Saturday morning.  It looked like the place fills up pretty quickly so the earlier you get here the better.\n",
       "\n",
       "Do yourself a favor and get their Bloody Mary.  It was phenomenal and simply the best I've ever had.  I'm pretty sure they only use ingredients from their garden and blend them fresh when you order it.  It was amazing.\n",
       "\n",
       "While EVERYTHING on the menu looks excellent, I had the white truffle scrambled eggs vegetable skillet and it was tasty and delicious.  It came with 2 pieces of their griddled bread with was amazing and it absolutely made the meal complete.  It was the best \"toast\" I've ever had.\n",
       "\n",
       "Anyway, I can't wait to go back!                                                                                                                                                                                                                                                                                                                                                              </td><td>review</td><td>rLtl8ZkDX5vH5nAx9C3q5Q</td><td style=\"text-align: right;\">     2</td><td style=\"text-align: right;\">       5</td><td style=\"text-align: right;\">      0</td><td style=\"text-align: right;\">               1</td><td>Yes    </td></tr>\n",
       "<tr><td style=\"text-align: right;\">   2</td><td>ZRJwVLyzEJq1VAihDhYiow</td><td>2011-07-27 00:00:00</td><td>IjZ33sJrzXqU-0X6U8NwyA</td><td style=\"text-align: right;\">      5</td><td>I have no idea why some people give bad reviews about this place. It goes to show you, you can please everyone. They are probably griping about something that their own fault...there are many people like that.\n",
       "\n",
       "In any case, my friend and I arrived at about 5:50 PM this past Sunday. It was pretty crowded, more than I thought for a Sunday evening and thought we would have to wait forever to get a seat but they said we'll be seated when the girl comes back from seating someone else. We were seated at 5:52 and the waiter came and got our drink orders. Everyone was very pleasant from the host that seated us to the waiter to the server. The prices were very good as well. We placed our orders once we decided what we wanted at 6:02. We shared the baked spaghetti calzone and the small \"Here's The Beef\" pizza so we can both try them. The calzone was huge and we got the smallest one (personal) and got the small 11\" pizza. Both were awesome! My friend liked the pizza better and I liked the calzone better. The calzone does have a sweetish sauce but that's how I like my sauce!\n",
       "\n",
       "We had to box part of the pizza to take it home and we were out the door by 6:42. So, everything was great and not like these bad reviewers. That goes to show you that  you have to try these things yourself because all these bad reviewers have some serious issues.                                                                                                                                                                                                                                                                                                                                                              </td><td>review</td><td>0a2KyEL0d3Yb1V6aivbIuQ</td><td style=\"text-align: right;\">     0</td><td style=\"text-align: right;\">       0</td><td style=\"text-align: right;\">      0</td><td style=\"text-align: right;\">               1</td><td>Yes    </td></tr>\n",
       "<tr><td style=\"text-align: right;\">   3</td><td>6oRAC4uyJCsJl1X0WZpVSA</td><td>2012-06-14 00:00:00</td><td>IESLBzqUCLdSzSqm0eCSxQ</td><td style=\"text-align: right;\">      4</td><td>love the gyro plate. Rice is so good and I also dig their candy selection :)                                                                                                                                                                                                                                                                                 </td><td>review</td><td>0hT2KtfLiobPvh6cDC8JQg</td><td style=\"text-align: right;\">     0</td><td style=\"text-align: right;\">       1</td><td style=\"text-align: right;\">      0</td><td style=\"text-align: right;\">               1</td><td>Yes    </td></tr>\n",
       "<tr><td style=\"text-align: right;\">   4</td><td>_1QQZuf4zZOyFCvXc0o6Vg</td><td>2010-05-27 00:00:00</td><td>G-WvGaISbqqaMHlNnByodA</td><td style=\"text-align: right;\">      5</td><td>Rosie, Dakota, and I LOVE Chaparral Dog Park!!! It's very convenient and surrounded by a lot of paths, a desert xeriscape, baseball fields, ballparks, and a lake with ducks.\n",
       "\n",
       "The Scottsdale Park and Rec Dept. does a wonderful job of keeping the park clean and shaded.  You can find trash cans and poopy-pick up mitts located all over the park and paths.\n",
       "\n",
       "The fenced in area is huge to let the dogs run, play, and sniff!                                                                                                                                                                                                                                                                                                                                                              </td><td>review</td><td>uZetl9T0NcROGOyFfughhg</td><td style=\"text-align: right;\">     1</td><td style=\"text-align: right;\">       2</td><td style=\"text-align: right;\">      0</td><td style=\"text-align: right;\">               1</td><td>Yes    </td></tr>\n",
       "<tr><td style=\"text-align: right;\">   5</td><td>6ozycU1RpktNG2-1BroVtw</td><td>2012-01-05 00:00:00</td><td>1uJFq2r5QfJG_6ExMRCaGw</td><td style=\"text-align: right;\">      5</td><td>General Manager Scott Petello is a good egg!!! Not to go into detail, but let me assure you if you have any issues (albeit rare) speak with Scott and treat the guy with some respect as you state your case and I'd be surprised if you don't walk out totally satisfied as I just did. Like I always say..... \"Mistakes are inevitable, it's how we recover from them that is important\"!!!\n",
       "\n",
       "Thanks to Scott and his awesome staff. You've got a customer for life!! .......... :^)                                                                                                                                                                                                                                                                                                                                                              </td><td>review</td><td>vYmM4KTsC8ZfQBg-j5MWkw</td><td style=\"text-align: right;\">     0</td><td style=\"text-align: right;\">       0</td><td style=\"text-align: right;\">      0</td><td style=\"text-align: right;\">               1</td><td>Yes    </td></tr>\n",
       "<tr><td style=\"text-align: right;\">   6</td><td>-yxfBYGB6SEqszmxJxd97A</td><td>2007-12-13 00:00:00</td><td>m2CKSsepBCoRYWxiRUsxAg</td><td style=\"text-align: right;\">      4</td><td>Quiessence is, simply put, beautiful.  Full windows and earthy wooden walls give a feeling of warmth inside this restaurant perched in the middle of a farm.  The restaurant seemed fairly full even on a Tuesday evening; we had secured reservations just a couple days before.\n",
       "\n",
       "My friend and I had sampled sandwiches at the Farm Kitchen earlier that week, and were impressed enough to want to eat at the restaurant.  The crisp, fresh veggies didn't disappoint: we ordered the salad with orange and grapefruit slices and the crudites to start.  Both were very good; I didn't even know how much I liked raw radishes and turnips until I tried them with their pesto and aioli sauces.\n",
       "\n",
       "For entrees, I ordered the lamb and my friend ordered the pork shoulder.  Service started out very good, but trailed off quickly.  Waiting for our food took a very long time (a couple seated after us received and finished their entrees before we received our's), and no one bothered to explain the situation until the maitre'd apologized almost 45 minutes later.  Apparently the chef was unhappy with the sauce on my entree, so he started anew.  This isn't really a problem, but they should have communicated this to us earlier.  For our troubles, they comped me the glass of wine I ordered, but they forgot to bring out with my entree  as I had requested.  Also, they didn't offer us bread, but I will echo the lady who whispered this to us on her way out: ask for the bread.  We received warm foccacia, apple walnut, and pomegranate slices of wonder with honey and butter.  YUM.\n",
       "\n",
       "The entrees were both solid, but didn't quite live up to the innovation and freshness of the vegetables.  My lamb's sauce was delicious, but the meat was tough.  Maybe the vegetarian entrees are the way to go?  But our dessert, the gingerbread pear cake, was yet another winner.\n",
       "\n",
       "If the entrees were tad more inspired, or the service weren't so spotty, this place definitely would have warranted five stars.  If I return, I'd like to try the 75$ tasting menu.  Our bill came out to about 100$ for two people, including tip, no drinks.                                                                                                                                                                                                                                                                                                                                                              </td><td>review</td><td>sqYN3lNgvPbPCTRsMFu27g</td><td style=\"text-align: right;\">     4</td><td style=\"text-align: right;\">       3</td><td style=\"text-align: right;\">      1</td><td style=\"text-align: right;\">               1</td><td>Yes    </td></tr>\n",
       "<tr><td style=\"text-align: right;\">   7</td><td>zp713qNhx8d9KCJJnrw1xA</td><td>2010-02-12 00:00:00</td><td>riFQ3vxNpP4rWLk_CSri2A</td><td style=\"text-align: right;\">      5</td><td>Drop what you're doing and drive here. After I ate here I had to go back the next day for more.  The food is that good.\n",
       "\n",
       "This cute little green building may have gone competely unoticed if I hadn't been driving down Palm Rd to avoid construction.  While waiting to turn onto 16th Street the \"Grand Opening\" sign caught my eye and my little yelping soul leaped for joy!  A new place to try!\n",
       "\n",
       "It looked desolate from the outside but when I opened the door I was put at easy by the decor, smell and cleanliness inside.  I ordered dinner for two, to go.  The menu was awesome.  I loved seeing all the variety: poblano peppers, mole, mahi mahi, mushrooms...something wrapped in banana leaves.  It made it difficult to choose something.  Here's what I've had so far: La Condesa Shrimp Burro and Baja Sur Dogfish Shark Taco.  They are both were very delicious meals but the shrimp burro stole the show.  So much flavor.  I snagged some bites from my hubbys mole and mahi mahi burros- mmmm such a delight.  The salsa bar is endless.  I really stocked up.  I was excited to try the strawberry salsa but it was too hot, in fact it all was, but I'm a big wimp when it comes to hot peppers. The horchata is handmade and delicious.  They throw pecans and some fruit in there too which is a yummy bonus!\n",
       "\n",
       "As if the good food wasn't enough to win me over the art in this restaurant sho did!  I'm a sucker for Mexican folk art and Frida Kahlo is my Oprah.  There's a painting of her and Diego hanging over the salsa bar, it's amazing.  All the paintings are great, love the artist.                                                                                                                                                                                                                                                                                                                                                              </td><td>review</td><td>wFweIWhv2fREZV_dYkz_1g</td><td style=\"text-align: right;\">     7</td><td style=\"text-align: right;\">       7</td><td style=\"text-align: right;\">      4</td><td style=\"text-align: right;\">               1</td><td>Yes    </td></tr>\n",
       "<tr><td style=\"text-align: right;\">   8</td><td>hW0Ne_HTHEAgGF1rAdmR-g</td><td>2012-07-12 00:00:00</td><td>JL7GXJ9u4YMx7Rzs05NfiQ</td><td style=\"text-align: right;\">      4</td><td>Luckily, I didn't have to travel far to make my connecting flight. And for this, I thank you, Phoenix.\n",
       "\n",
       "My brief layover was pleasant as the employees were kind and the flight was on time.  Hopefully, next time I can grace Phoenix with my presence for a little while longer.                                                                                                                                                                                                                                                                                                                                                              </td><td>review</td><td>1ieuYcKS7zeAv_U15AB13A</td><td style=\"text-align: right;\">     0</td><td style=\"text-align: right;\">       1</td><td style=\"text-align: right;\">      0</td><td style=\"text-align: right;\">               1</td><td>Yes    </td></tr>\n",
       "<tr><td style=\"text-align: right;\">   9</td><td>wNUea3IXZWD63bbOQaOH-g</td><td>2012-08-17 00:00:00</td><td>XtnfnYmnJYi71yIuGsXIUA</td><td style=\"text-align: right;\">      4</td><td>Definitely come for Happy hour! Prices are amazing, sake bombers for $3...Great atmosphere and wait staff was incredibly nice and right on to all of our needs, didn't have to ask for a thing They were always spot on...Place gets crowded in the evening especially if you plan on sitting outside. I only wish there were one in Apollo Beach or Brandon!</td><td>review</td><td>Vh_DlizgGhSqQh4qfZ2h6A</td><td style=\"text-align: right;\">     0</td><td style=\"text-align: right;\">       0</td><td style=\"text-align: right;\">      0</td><td style=\"text-align: right;\">               1</td><td>Yes    </td></tr>\n",
       "<tr><td style=\"text-align: right;\">  10</td><td>nMHhuYan8e3cONo3PornJA</td><td>2010-08-11 00:00:00</td><td>jJAIXA46pU1swYyRCdfXtQ</td><td style=\"text-align: right;\">      5</td><td>Nobuo shows his unique talents with everything on the menu. Carefully crafted features with much to drink. Start with the pork belly buns and a stout. Then go on until you can no longer.                                                                                                                                                                   </td><td>review</td><td>sUNkXg8-KFtCMQDV6zRzQg</td><td style=\"text-align: right;\">     0</td><td style=\"text-align: right;\">       1</td><td style=\"text-align: right;\">      0</td><td style=\"text-align: right;\">               1</td><td>Yes    </td></tr>\n",
       "</tbody>\n",
       "</table>"
      ]
     },
     "metadata": {},
     "output_type": "display_data"
    },
    {
     "data": {
      "text/plain": []
     },
     "execution_count": 14,
     "metadata": {},
     "output_type": "execute_result"
    }
   ],
   "source": [
    "train.head()"
   ]
  },
  {
   "cell_type": "markdown",
   "metadata": {},
   "source": [
    "## 1.3 Tokenize Words in Review"
   ]
  },
  {
   "cell_type": "code",
   "execution_count": 15,
   "metadata": {},
   "outputs": [],
   "source": [
    "data_path = \"../data/stopwords.csv\"\n",
    "STOP_WORDS = pd.read_csv(data_path, header=0)"
   ]
  },
  {
   "cell_type": "code",
   "execution_count": 16,
   "metadata": {},
   "outputs": [
    {
     "data": {
      "text/html": [
       "<div>\n",
       "<style scoped>\n",
       "    .dataframe tbody tr th:only-of-type {\n",
       "        vertical-align: middle;\n",
       "    }\n",
       "\n",
       "    .dataframe tbody tr th {\n",
       "        vertical-align: top;\n",
       "    }\n",
       "\n",
       "    .dataframe thead th {\n",
       "        text-align: right;\n",
       "    }\n",
       "</style>\n",
       "<table border=\"1\" class=\"dataframe\">\n",
       "  <thead>\n",
       "    <tr style=\"text-align: right;\">\n",
       "      <th></th>\n",
       "      <th>STOP_WORD</th>\n",
       "    </tr>\n",
       "  </thead>\n",
       "  <tbody>\n",
       "    <tr>\n",
       "      <th>0</th>\n",
       "      <td>all</td>\n",
       "    </tr>\n",
       "    <tr>\n",
       "      <th>1</th>\n",
       "      <td>just</td>\n",
       "    </tr>\n",
       "    <tr>\n",
       "      <th>2</th>\n",
       "      <td>being</td>\n",
       "    </tr>\n",
       "    <tr>\n",
       "      <th>3</th>\n",
       "      <td>over</td>\n",
       "    </tr>\n",
       "    <tr>\n",
       "      <th>4</th>\n",
       "      <td>both</td>\n",
       "    </tr>\n",
       "  </tbody>\n",
       "</table>\n",
       "</div>"
      ],
      "text/plain": [
       "  STOP_WORD\n",
       "0       all\n",
       "1      just\n",
       "2     being\n",
       "3      over\n",
       "4      both"
      ]
     },
     "execution_count": 16,
     "metadata": {},
     "output_type": "execute_result"
    }
   ],
   "source": [
    "STOP_WORDS.head()"
   ]
  },
  {
   "cell_type": "code",
   "execution_count": 17,
   "metadata": {},
   "outputs": [],
   "source": [
    "STOP_WORDS = list(STOP_WORDS['STOP_WORD'])"
   ]
  },
  {
   "cell_type": "code",
   "execution_count": 18,
   "metadata": {},
   "outputs": [],
   "source": [
    "def tokenize(sentences, stop_word = STOP_WORDS):\n",
    "    tokenized = sentences.tokenize(\"\\\\W+\")\n",
    "    tokenized_lower = tokenized.tolower()\n",
    "    tokenized_filtered = tokenized_lower[(tokenized_lower.nchar() >= 2) | (tokenized_lower.isna()),:]\n",
    "    tokenized_words = tokenized_filtered[tokenized_filtered.grep(\"[0-9]\",invert=True,output_logical=True),:]\n",
    "    tokenized_words = tokenized_words[(tokenized_words.isna()) | (~ tokenized_words.isin(STOP_WORDS)),:]\n",
    "    return tokenized_words"
   ]
  },
  {
   "cell_type": "code",
   "execution_count": 19,
   "metadata": {},
   "outputs": [],
   "source": [
    "# Break reviews into sequence of words\n",
    "words = tokenize(reviews[\"text\"])"
   ]
  },
  {
   "cell_type": "code",
   "execution_count": 20,
   "metadata": {},
   "outputs": [
    {
     "data": {
      "text/html": [
       "<table>\n",
       "<thead>\n",
       "<tr><th>C1       </th></tr>\n",
       "</thead>\n",
       "<tbody>\n",
       "<tr><td>wife     </td></tr>\n",
       "<tr><td>took     </td></tr>\n",
       "<tr><td>birthday </td></tr>\n",
       "<tr><td>breakfast</td></tr>\n",
       "<tr><td>excellent</td></tr>\n",
       "<tr><td>weather  </td></tr>\n",
       "<tr><td>perfect  </td></tr>\n",
       "<tr><td>made     </td></tr>\n",
       "<tr><td>sitting  </td></tr>\n",
       "<tr><td>outside  </td></tr>\n",
       "</tbody>\n",
       "</table>"
      ]
     },
     "metadata": {},
     "output_type": "display_data"
    },
    {
     "data": {
      "text/plain": []
     },
     "execution_count": 20,
     "metadata": {},
     "output_type": "execute_result"
    }
   ],
   "source": [
    "words.head()"
   ]
  },
  {
   "cell_type": "markdown",
   "metadata": {},
   "source": [
    "## 1.4 Word2Vec Model"
   ]
  },
  {
   "cell_type": "code",
   "execution_count": 21,
   "metadata": {},
   "outputs": [
    {
     "name": "stdout",
     "output_type": "stream",
     "text": [
      "word2vec Model Build progress: |██████████████████████████████████████████| 100%\n"
     ]
    },
    {
     "data": {
      "text/plain": [
       "'/Users/mandy/Desktop/AI-Addin/data/w2v.hex'"
      ]
     },
     "execution_count": 21,
     "metadata": {},
     "output_type": "execute_result"
    }
   ],
   "source": [
    "# Train Word2Vec Model\n",
    "from h2o.estimators.word2vec import H2OWord2vecEstimator\n",
    "\n",
    "w2v_model = H2OWord2vecEstimator(vec_size = 100, model_id = \"w2v.hex\")\n",
    "w2v_model.train(training_frame=words)\n",
    "\n",
    "models_path='../data'\n",
    "h2o.save_model(w2v_model, path = models_path, force = True)"
   ]
  },
  {
   "cell_type": "code",
   "execution_count": 22,
   "metadata": {},
   "outputs": [
    {
     "data": {
      "text/plain": [
       "OrderedDict([('amazing', 0.7038722634315491),\n",
       "             ('great', 0.6917351484298706),\n",
       "             ('fantastic', 0.6727874279022217),\n",
       "             ('good', 0.6652485132217407),\n",
       "             ('excellent', 0.6303576827049255)])"
      ]
     },
     "execution_count": 22,
     "metadata": {},
     "output_type": "execute_result"
    }
   ],
   "source": [
    "# Sanity check - find synonyms for the word 'coffee'\n",
    "w2v_model.find_synonyms(\"awesome\", count = 5)"
   ]
  },
  {
   "cell_type": "code",
   "execution_count": 23,
   "metadata": {},
   "outputs": [
    {
     "data": {
      "text/plain": [
       "OrderedDict([('sorta', 0.5980752110481262),\n",
       "             ('lacking', 0.5876979231834412),\n",
       "             ('vinegary', 0.5866849422454834),\n",
       "             ('extent', 0.5865474343299866),\n",
       "             ('strangely', 0.5837725400924683)])"
      ]
     },
     "execution_count": 23,
     "metadata": {},
     "output_type": "execute_result"
    }
   ],
   "source": [
    "# Sanity check - find synonyms for the word 'stale'\n",
    "w2v_model.find_synonyms(\"boring\", count = 5)"
   ]
  },
  {
   "cell_type": "code",
   "execution_count": 24,
   "metadata": {},
   "outputs": [
    {
     "data": {
      "text/html": [
       "<table>\n",
       "<thead>\n",
       "<tr><th style=\"text-align: right;\">       C1</th><th style=\"text-align: right;\">         C2</th><th style=\"text-align: right;\">         C3</th><th style=\"text-align: right;\">         C4</th><th style=\"text-align: right;\">         C5</th><th style=\"text-align: right;\">         C6</th><th style=\"text-align: right;\">       C7</th><th style=\"text-align: right;\">       C8</th><th style=\"text-align: right;\">         C9</th><th style=\"text-align: right;\">      C10</th><th style=\"text-align: right;\">       C11</th><th style=\"text-align: right;\">      C12</th><th style=\"text-align: right;\">         C13</th><th style=\"text-align: right;\">        C14</th><th style=\"text-align: right;\">        C15</th><th style=\"text-align: right;\">        C16</th><th style=\"text-align: right;\">        C17</th><th style=\"text-align: right;\">        C18</th><th style=\"text-align: right;\">       C19</th><th style=\"text-align: right;\">        C20</th><th style=\"text-align: right;\">      C21</th><th style=\"text-align: right;\">       C22</th><th style=\"text-align: right;\">       C23</th><th style=\"text-align: right;\">       C24</th><th style=\"text-align: right;\">       C25</th><th style=\"text-align: right;\">       C26</th><th style=\"text-align: right;\">       C27</th><th style=\"text-align: right;\">       C28</th><th style=\"text-align: right;\">      C29</th><th style=\"text-align: right;\">      C30</th><th style=\"text-align: right;\">        C31</th><th style=\"text-align: right;\">       C32</th><th style=\"text-align: right;\">       C33</th><th style=\"text-align: right;\">      C34</th><th style=\"text-align: right;\">       C35</th><th style=\"text-align: right;\">        C36</th><th style=\"text-align: right;\">         C37</th><th style=\"text-align: right;\">      C38</th><th style=\"text-align: right;\">       C39</th><th style=\"text-align: right;\">         C40</th><th style=\"text-align: right;\">       C41</th><th style=\"text-align: right;\">         C42</th><th style=\"text-align: right;\">      C43</th><th style=\"text-align: right;\">       C44</th><th style=\"text-align: right;\">        C45</th><th style=\"text-align: right;\">        C46</th><th style=\"text-align: right;\">       C47</th><th style=\"text-align: right;\">        C48</th><th style=\"text-align: right;\">        C49</th><th style=\"text-align: right;\">       C50</th><th style=\"text-align: right;\">        C51</th><th style=\"text-align: right;\">        C52</th><th style=\"text-align: right;\">        C53</th><th style=\"text-align: right;\">        C54</th><th style=\"text-align: right;\">        C55</th><th style=\"text-align: right;\">        C56</th><th style=\"text-align: right;\">        C57</th><th style=\"text-align: right;\">       C58</th><th style=\"text-align: right;\">        C59</th><th style=\"text-align: right;\">        C60</th><th style=\"text-align: right;\">      C61</th><th style=\"text-align: right;\">         C62</th><th style=\"text-align: right;\">       C63</th><th style=\"text-align: right;\">        C64</th><th style=\"text-align: right;\">      C65</th><th style=\"text-align: right;\">        C66</th><th style=\"text-align: right;\">       C67</th><th style=\"text-align: right;\">         C68</th><th style=\"text-align: right;\">       C69</th><th style=\"text-align: right;\">        C70</th><th style=\"text-align: right;\">       C71</th><th style=\"text-align: right;\">       C72</th><th style=\"text-align: right;\">       C73</th><th style=\"text-align: right;\">        C74</th><th style=\"text-align: right;\">       C75</th><th style=\"text-align: right;\">         C76</th><th style=\"text-align: right;\">      C77</th><th style=\"text-align: right;\">       C78</th><th style=\"text-align: right;\">        C79</th><th style=\"text-align: right;\">       C80</th><th style=\"text-align: right;\">       C81</th><th style=\"text-align: right;\">        C82</th><th style=\"text-align: right;\">       C83</th><th style=\"text-align: right;\">       C84</th><th style=\"text-align: right;\">        C85</th><th style=\"text-align: right;\">       C86</th><th style=\"text-align: right;\">        C87</th><th style=\"text-align: right;\">       C88</th><th style=\"text-align: right;\">       C89</th><th style=\"text-align: right;\">        C90</th><th style=\"text-align: right;\">       C91</th><th style=\"text-align: right;\">       C92</th><th style=\"text-align: right;\">        C93</th><th style=\"text-align: right;\">       C94</th><th style=\"text-align: right;\">      C95</th><th style=\"text-align: right;\">        C96</th><th style=\"text-align: right;\">        C97</th><th style=\"text-align: right;\">        C98</th><th style=\"text-align: right;\">      C99</th><th style=\"text-align: right;\">       C100</th></tr>\n",
       "</thead>\n",
       "<tbody>\n",
       "<tr><td style=\"text-align: right;\">0.11703  </td><td style=\"text-align: right;\"> 0.0663938 </td><td style=\"text-align: right;\">-0.146722  </td><td style=\"text-align: right;\">-0.0484327 </td><td style=\"text-align: right;\">-0.0766407 </td><td style=\"text-align: right;\"> 0.0149233 </td><td style=\"text-align: right;\">0.0836394</td><td style=\"text-align: right;\">0.0872855</td><td style=\"text-align: right;\"> 0.0414275 </td><td style=\"text-align: right;\">0.118045 </td><td style=\"text-align: right;\">-0.146575 </td><td style=\"text-align: right;\">0.0814339</td><td style=\"text-align: right;\"> 0.045135   </td><td style=\"text-align: right;\"> 0.022953  </td><td style=\"text-align: right;\"> 0.0195262 </td><td style=\"text-align: right;\">-0.0139045 </td><td style=\"text-align: right;\"> 0.0215705 </td><td style=\"text-align: right;\"> 0.0350263 </td><td style=\"text-align: right;\"> 0.0166273</td><td style=\"text-align: right;\">-0.131501  </td><td style=\"text-align: right;\">0.146732 </td><td style=\"text-align: right;\"> 0.0989345</td><td style=\"text-align: right;\">-0.0570603</td><td style=\"text-align: right;\"> 0.0870881</td><td style=\"text-align: right;\">-0.159269 </td><td style=\"text-align: right;\">-0.125286 </td><td style=\"text-align: right;\">-0.0587064</td><td style=\"text-align: right;\">-0.137647 </td><td style=\"text-align: right;\">0.0941347</td><td style=\"text-align: right;\">0.124169 </td><td style=\"text-align: right;\">-0.0441021 </td><td style=\"text-align: right;\">-0.0964739</td><td style=\"text-align: right;\">-0.147309 </td><td style=\"text-align: right;\">0.0855789</td><td style=\"text-align: right;\"> 0.0764424</td><td style=\"text-align: right;\">-0.0684896 </td><td style=\"text-align: right;\">-0.0905141  </td><td style=\"text-align: right;\">0.0993233</td><td style=\"text-align: right;\"> 0.0539168</td><td style=\"text-align: right;\"> 0.0445057  </td><td style=\"text-align: right;\">-0.0836027</td><td style=\"text-align: right;\">-0.0287279  </td><td style=\"text-align: right;\">0.11751  </td><td style=\"text-align: right;\">-0.173454 </td><td style=\"text-align: right;\"> 0.0110874 </td><td style=\"text-align: right;\"> 0.00430669</td><td style=\"text-align: right;\"> 0.0606192</td><td style=\"text-align: right;\"> 0.0462155 </td><td style=\"text-align: right;\">-0.0745287 </td><td style=\"text-align: right;\">-0.188293 </td><td style=\"text-align: right;\"> 0.00229183</td><td style=\"text-align: right;\"> 0.0725792 </td><td style=\"text-align: right;\">-0.0211703 </td><td style=\"text-align: right;\"> 0.060152  </td><td style=\"text-align: right;\"> 0.030227  </td><td style=\"text-align: right;\">-0.0335543 </td><td style=\"text-align: right;\">-0.0786098 </td><td style=\"text-align: right;\">-0.123395 </td><td style=\"text-align: right;\">-0.0117427 </td><td style=\"text-align: right;\">-0.117832  </td><td style=\"text-align: right;\">0.080034 </td><td style=\"text-align: right;\"> 0.0445487  </td><td style=\"text-align: right;\">-0.0666071</td><td style=\"text-align: right;\">-0.0703849 </td><td style=\"text-align: right;\">-0.255626</td><td style=\"text-align: right;\"> 0.0309421 </td><td style=\"text-align: right;\">-0.0246605</td><td style=\"text-align: right;\">-0.0222319  </td><td style=\"text-align: right;\">-0.0398079</td><td style=\"text-align: right;\"> 0.0201798 </td><td style=\"text-align: right;\"> 0.0308746</td><td style=\"text-align: right;\">-0.107044 </td><td style=\"text-align: right;\"> 0.0457466</td><td style=\"text-align: right;\"> 0.00948756</td><td style=\"text-align: right;\"> 0.0208711</td><td style=\"text-align: right;\">-0.0104653  </td><td style=\"text-align: right;\">0.0340715</td><td style=\"text-align: right;\"> 0.0952614</td><td style=\"text-align: right;\"> 0.0357547 </td><td style=\"text-align: right;\">0.087962  </td><td style=\"text-align: right;\">-0.102038 </td><td style=\"text-align: right;\">-0.00453135</td><td style=\"text-align: right;\">-0.105647 </td><td style=\"text-align: right;\"> 0.0205061</td><td style=\"text-align: right;\"> 0.0317327 </td><td style=\"text-align: right;\">-0.0990162</td><td style=\"text-align: right;\">-0.0168819 </td><td style=\"text-align: right;\">-0.077277 </td><td style=\"text-align: right;\"> 0.0518495</td><td style=\"text-align: right;\">-0.0942048 </td><td style=\"text-align: right;\">-0.0997961</td><td style=\"text-align: right;\">-0.0101687</td><td style=\"text-align: right;\"> 0.0258774 </td><td style=\"text-align: right;\">-0.0936866</td><td style=\"text-align: right;\">0.109854 </td><td style=\"text-align: right;\"> 0.0530304 </td><td style=\"text-align: right;\">-0.00776525</td><td style=\"text-align: right;\">-0.01376   </td><td style=\"text-align: right;\">0.176674 </td><td style=\"text-align: right;\">-0.0764815 </td></tr>\n",
       "<tr><td style=\"text-align: right;\">0.0704224</td><td style=\"text-align: right;\">-0.0389024 </td><td style=\"text-align: right;\">-0.0906884 </td><td style=\"text-align: right;\">-0.11275   </td><td style=\"text-align: right;\">-0.0132987 </td><td style=\"text-align: right;\"> 0.0245468 </td><td style=\"text-align: right;\">0.0464061</td><td style=\"text-align: right;\">0.0576585</td><td style=\"text-align: right;\"> 0.00269524</td><td style=\"text-align: right;\">0.0796676</td><td style=\"text-align: right;\">-0.133157 </td><td style=\"text-align: right;\">0.0874257</td><td style=\"text-align: right;\"> 0.00713924 </td><td style=\"text-align: right;\">-0.0270894 </td><td style=\"text-align: right;\">-0.00337677</td><td style=\"text-align: right;\">-0.0447482 </td><td style=\"text-align: right;\">-0.0938267 </td><td style=\"text-align: right;\"> 0.0476232 </td><td style=\"text-align: right;\">-0.0150167</td><td style=\"text-align: right;\">-0.145615  </td><td style=\"text-align: right;\">0.143008 </td><td style=\"text-align: right;\"> 0.0984763</td><td style=\"text-align: right;\">-0.0733605</td><td style=\"text-align: right;\"> 0.0429841</td><td style=\"text-align: right;\">-0.150739 </td><td style=\"text-align: right;\">-0.0801833</td><td style=\"text-align: right;\">-0.0657928</td><td style=\"text-align: right;\">-0.0748287</td><td style=\"text-align: right;\">0.146301 </td><td style=\"text-align: right;\">0.0986593</td><td style=\"text-align: right;\"> 0.00148848</td><td style=\"text-align: right;\">-0.101393 </td><td style=\"text-align: right;\">-0.107087 </td><td style=\"text-align: right;\">0.0857062</td><td style=\"text-align: right;\"> 0.0320079</td><td style=\"text-align: right;\">-0.0998789 </td><td style=\"text-align: right;\">-0.143579   </td><td style=\"text-align: right;\">0.0663939</td><td style=\"text-align: right;\"> 0.107293 </td><td style=\"text-align: right;\">-0.00925582 </td><td style=\"text-align: right;\">-0.0501037</td><td style=\"text-align: right;\">-0.0618064  </td><td style=\"text-align: right;\">0.0987741</td><td style=\"text-align: right;\">-0.17849  </td><td style=\"text-align: right;\">-0.044182  </td><td style=\"text-align: right;\"> 0.0494349 </td><td style=\"text-align: right;\"> 0.0997183</td><td style=\"text-align: right;\">-0.0392279 </td><td style=\"text-align: right;\">-0.120312  </td><td style=\"text-align: right;\">-0.161977 </td><td style=\"text-align: right;\">-0.0473018 </td><td style=\"text-align: right;\"> 0.00857768</td><td style=\"text-align: right;\">-0.00259646</td><td style=\"text-align: right;\"> 0.0560932 </td><td style=\"text-align: right;\"> 0.0325408 </td><td style=\"text-align: right;\"> 0.0170607 </td><td style=\"text-align: right;\">-0.0122529 </td><td style=\"text-align: right;\">-0.0105235</td><td style=\"text-align: right;\"> 0.0085619 </td><td style=\"text-align: right;\">-0.0567718 </td><td style=\"text-align: right;\">0.126895 </td><td style=\"text-align: right;\">-0.0598282  </td><td style=\"text-align: right;\">-0.0981645</td><td style=\"text-align: right;\"> 0.00501797</td><td style=\"text-align: right;\">-0.25692 </td><td style=\"text-align: right;\">-0.0359178 </td><td style=\"text-align: right;\">-0.0442919</td><td style=\"text-align: right;\">-0.0191203  </td><td style=\"text-align: right;\">-0.0544886</td><td style=\"text-align: right;\">-0.0256151 </td><td style=\"text-align: right;\">-0.036256 </td><td style=\"text-align: right;\">-0.087881 </td><td style=\"text-align: right;\"> 0.0599299</td><td style=\"text-align: right;\">-0.0378678 </td><td style=\"text-align: right;\">-0.0222874</td><td style=\"text-align: right;\">-0.117145   </td><td style=\"text-align: right;\">0.0950739</td><td style=\"text-align: right;\"> 0.016974 </td><td style=\"text-align: right;\"> 0.038321  </td><td style=\"text-align: right;\">0.0776539 </td><td style=\"text-align: right;\">-0.167251 </td><td style=\"text-align: right;\"> 0.0131027 </td><td style=\"text-align: right;\">-0.133804 </td><td style=\"text-align: right;\"> 0.0124472</td><td style=\"text-align: right;\"> 0.0738388 </td><td style=\"text-align: right;\">-0.0275919</td><td style=\"text-align: right;\"> 0.0234444 </td><td style=\"text-align: right;\">-0.0661359</td><td style=\"text-align: right;\">-0.0402321</td><td style=\"text-align: right;\">-0.116819  </td><td style=\"text-align: right;\">-0.0928504</td><td style=\"text-align: right;\">-0.0576404</td><td style=\"text-align: right;\"> 0.0183026 </td><td style=\"text-align: right;\">-0.0753501</td><td style=\"text-align: right;\">0.103917 </td><td style=\"text-align: right;\">-0.00332789</td><td style=\"text-align: right;\"> 0.0401401 </td><td style=\"text-align: right;\"> 0.0434412 </td><td style=\"text-align: right;\">0.203228 </td><td style=\"text-align: right;\">-0.0291768 </td></tr>\n",
       "<tr><td style=\"text-align: right;\">0.128685 </td><td style=\"text-align: right;\">-0.0768315 </td><td style=\"text-align: right;\">-0.224169  </td><td style=\"text-align: right;\">-0.0928174 </td><td style=\"text-align: right;\">-0.00122116</td><td style=\"text-align: right;\">-0.0463278 </td><td style=\"text-align: right;\">0.0258968</td><td style=\"text-align: right;\">0.0772896</td><td style=\"text-align: right;\"> 0.147228  </td><td style=\"text-align: right;\">0.0537367</td><td style=\"text-align: right;\"> 0.0393005</td><td style=\"text-align: right;\">0.123003 </td><td style=\"text-align: right;\"> 0.093036   </td><td style=\"text-align: right;\">-0.00328522</td><td style=\"text-align: right;\"> 0.0966423 </td><td style=\"text-align: right;\">-0.00245949</td><td style=\"text-align: right;\"> 0.0146273 </td><td style=\"text-align: right;\">-0.0028631 </td><td style=\"text-align: right;\"> 0.0189154</td><td style=\"text-align: right;\">-0.150536  </td><td style=\"text-align: right;\">0.121463 </td><td style=\"text-align: right;\"> 0.0159293</td><td style=\"text-align: right;\">-0.0675431</td><td style=\"text-align: right;\"> 0.243046 </td><td style=\"text-align: right;\">-0.100849 </td><td style=\"text-align: right;\">-0.0624661</td><td style=\"text-align: right;\">-0.0122086</td><td style=\"text-align: right;\">-0.0408316</td><td style=\"text-align: right;\">0.2205   </td><td style=\"text-align: right;\">0.195462 </td><td style=\"text-align: right;\">-0.104481  </td><td style=\"text-align: right;\">-0.0807622</td><td style=\"text-align: right;\">-0.118029 </td><td style=\"text-align: right;\">0.0265886</td><td style=\"text-align: right;\">-0.0612973</td><td style=\"text-align: right;\"> 0.00179126</td><td style=\"text-align: right;\">-0.0105353  </td><td style=\"text-align: right;\">0.0710098</td><td style=\"text-align: right;\"> 0.110385 </td><td style=\"text-align: right;\">-0.0106833  </td><td style=\"text-align: right;\">-0.111512 </td><td style=\"text-align: right;\">-0.213757   </td><td style=\"text-align: right;\">0.073385 </td><td style=\"text-align: right;\">-0.153582 </td><td style=\"text-align: right;\"> 0.141218  </td><td style=\"text-align: right;\">-0.0376983 </td><td style=\"text-align: right;\">-0.0335301</td><td style=\"text-align: right;\"> 0.0531528 </td><td style=\"text-align: right;\">-0.0861279 </td><td style=\"text-align: right;\">-0.0762934</td><td style=\"text-align: right;\">-0.0815026 </td><td style=\"text-align: right;\"> 0.00668204</td><td style=\"text-align: right;\"> 0.0501057 </td><td style=\"text-align: right;\">-0.0759953 </td><td style=\"text-align: right;\"> 0.127181  </td><td style=\"text-align: right;\">-0.0119659 </td><td style=\"text-align: right;\">-0.135861  </td><td style=\"text-align: right;\">-0.122489 </td><td style=\"text-align: right;\">-0.163083  </td><td style=\"text-align: right;\">-0.171016  </td><td style=\"text-align: right;\">0.0526725</td><td style=\"text-align: right;\"> 0.0832139  </td><td style=\"text-align: right;\">-0.188425 </td><td style=\"text-align: right;\">-0.0916266 </td><td style=\"text-align: right;\">-0.338605</td><td style=\"text-align: right;\">-0.00399898</td><td style=\"text-align: right;\"> 0.0260595</td><td style=\"text-align: right;\">-0.0246237  </td><td style=\"text-align: right;\"> 0.171889 </td><td style=\"text-align: right;\"> 0.105835  </td><td style=\"text-align: right;\">-0.0518618</td><td style=\"text-align: right;\">-0.199156 </td><td style=\"text-align: right;\">-0.0302451</td><td style=\"text-align: right;\"> 0.029168  </td><td style=\"text-align: right;\">-0.0605276</td><td style=\"text-align: right;\">-0.000345358</td><td style=\"text-align: right;\">0.165904 </td><td style=\"text-align: right;\">-0.0233   </td><td style=\"text-align: right;\"> 0.0645165 </td><td style=\"text-align: right;\">0.175994  </td><td style=\"text-align: right;\">-0.0128503</td><td style=\"text-align: right;\"> 0.00556123</td><td style=\"text-align: right;\">-0.148185 </td><td style=\"text-align: right;\"> 0.0647074</td><td style=\"text-align: right;\">-0.0655133 </td><td style=\"text-align: right;\"> 0.109818 </td><td style=\"text-align: right;\">-0.160075  </td><td style=\"text-align: right;\">-0.0980714</td><td style=\"text-align: right;\"> 0.0657223</td><td style=\"text-align: right;\">-0.167929  </td><td style=\"text-align: right;\">-0.116278 </td><td style=\"text-align: right;\">-0.0826049</td><td style=\"text-align: right;\">-0.161904  </td><td style=\"text-align: right;\">-0.0532542</td><td style=\"text-align: right;\">0.0523066</td><td style=\"text-align: right;\">-0.0216527 </td><td style=\"text-align: right;\"> 0.00170167</td><td style=\"text-align: right;\">-0.0568486 </td><td style=\"text-align: right;\">0.223775 </td><td style=\"text-align: right;\"> 0.095738  </td></tr>\n",
       "<tr><td style=\"text-align: right;\">0.136485 </td><td style=\"text-align: right;\"> 0.00757886</td><td style=\"text-align: right;\"> 0.0435456 </td><td style=\"text-align: right;\">-0.00363254</td><td style=\"text-align: right;\">-0.160721  </td><td style=\"text-align: right;\">-0.11038   </td><td style=\"text-align: right;\">0.102098 </td><td style=\"text-align: right;\">0.0498022</td><td style=\"text-align: right;\">-0.00733678</td><td style=\"text-align: right;\">0.0902339</td><td style=\"text-align: right;\">-0.192966 </td><td style=\"text-align: right;\">0.0241675</td><td style=\"text-align: right;\"> 0.00400796 </td><td style=\"text-align: right;\"> 0.0376757 </td><td style=\"text-align: right;\">-0.0643877 </td><td style=\"text-align: right;\"> 0.0560354 </td><td style=\"text-align: right;\">-0.0725021 </td><td style=\"text-align: right;\">-0.0142579 </td><td style=\"text-align: right;\"> 0.0183012</td><td style=\"text-align: right;\">-0.00863781</td><td style=\"text-align: right;\">0.0883386</td><td style=\"text-align: right;\"> 0.0176596</td><td style=\"text-align: right;\"> 0.0935131</td><td style=\"text-align: right;\">-0.0134768</td><td style=\"text-align: right;\">-0.20821  </td><td style=\"text-align: right;\">-0.0364091</td><td style=\"text-align: right;\"> 0.0171913</td><td style=\"text-align: right;\">-0.0768607</td><td style=\"text-align: right;\">0.0199692</td><td style=\"text-align: right;\">0.212569 </td><td style=\"text-align: right;\"> 0.0342618 </td><td style=\"text-align: right;\">-0.0945571</td><td style=\"text-align: right;\"> 0.0907415</td><td style=\"text-align: right;\">0.150847 </td><td style=\"text-align: right;\">-0.121997 </td><td style=\"text-align: right;\"> 0.0427454 </td><td style=\"text-align: right;\"> 0.0260241  </td><td style=\"text-align: right;\">0.11752  </td><td style=\"text-align: right;\">-0.0454828</td><td style=\"text-align: right;\">-0.118001   </td><td style=\"text-align: right;\">-0.250657 </td><td style=\"text-align: right;\"> 0.0257808  </td><td style=\"text-align: right;\">0.0223411</td><td style=\"text-align: right;\">-0.0137732</td><td style=\"text-align: right;\">-0.0273321 </td><td style=\"text-align: right;\">-0.0446114 </td><td style=\"text-align: right;\"> 0.0555763</td><td style=\"text-align: right;\"> 0.162402  </td><td style=\"text-align: right;\"> 0.00480213</td><td style=\"text-align: right;\">-0.0736764</td><td style=\"text-align: right;\">-0.00575313</td><td style=\"text-align: right;\"> 0.044745  </td><td style=\"text-align: right;\"> 0.0130273 </td><td style=\"text-align: right;\">-0.119091  </td><td style=\"text-align: right;\">-0.0527755 </td><td style=\"text-align: right;\"> 0.07562   </td><td style=\"text-align: right;\"> 0.00180425</td><td style=\"text-align: right;\"> 0.026703 </td><td style=\"text-align: right;\">-0.0300601 </td><td style=\"text-align: right;\">-0.0632277 </td><td style=\"text-align: right;\">0.0767078</td><td style=\"text-align: right;\">-0.0896661  </td><td style=\"text-align: right;\">-0.0839631</td><td style=\"text-align: right;\"> 0.111044  </td><td style=\"text-align: right;\">-0.255898</td><td style=\"text-align: right;\">-0.0484065 </td><td style=\"text-align: right;\">-0.288432 </td><td style=\"text-align: right;\"> 0.000882784</td><td style=\"text-align: right;\"> 0.0393204</td><td style=\"text-align: right;\"> 0.0136382 </td><td style=\"text-align: right;\">-0.180573 </td><td style=\"text-align: right;\">-0.132654 </td><td style=\"text-align: right;\"> 0.0667909</td><td style=\"text-align: right;\"> 0.0796188 </td><td style=\"text-align: right;\"> 0.0458716</td><td style=\"text-align: right;\"> 0.183663   </td><td style=\"text-align: right;\">0.173012 </td><td style=\"text-align: right;\">-0.030988 </td><td style=\"text-align: right;\"> 0.155617  </td><td style=\"text-align: right;\">0.194074  </td><td style=\"text-align: right;\">-0.282255 </td><td style=\"text-align: right;\">-0.0608443 </td><td style=\"text-align: right;\">-0.326351 </td><td style=\"text-align: right;\">-0.0282494</td><td style=\"text-align: right;\"> 0.0532553 </td><td style=\"text-align: right;\"> 0.0332454</td><td style=\"text-align: right;\"> 0.085081  </td><td style=\"text-align: right;\">-0.0940809</td><td style=\"text-align: right;\"> 0.0580817</td><td style=\"text-align: right;\">-0.111228  </td><td style=\"text-align: right;\">-0.0720308</td><td style=\"text-align: right;\">-0.123491 </td><td style=\"text-align: right;\"> 0.240205  </td><td style=\"text-align: right;\">-0.0289129</td><td style=\"text-align: right;\">0.113517 </td><td style=\"text-align: right;\"> 0.180362  </td><td style=\"text-align: right;\"> 0.0140664 </td><td style=\"text-align: right;\">-0.00182855</td><td style=\"text-align: right;\">0.0323664</td><td style=\"text-align: right;\"> 0.145311  </td></tr>\n",
       "<tr><td style=\"text-align: right;\">0.0874345</td><td style=\"text-align: right;\">-0.0287904 </td><td style=\"text-align: right;\"> 0.00276072</td><td style=\"text-align: right;\">-0.0676653 </td><td style=\"text-align: right;\">-0.0390576 </td><td style=\"text-align: right;\"> 0.0268529 </td><td style=\"text-align: right;\">0.0821844</td><td style=\"text-align: right;\">0.0903881</td><td style=\"text-align: right;\"> 0.0530666 </td><td style=\"text-align: right;\">0.164265 </td><td style=\"text-align: right;\">-0.132545 </td><td style=\"text-align: right;\">0.0509775</td><td style=\"text-align: right;\"> 0.051841   </td><td style=\"text-align: right;\">-0.0416007 </td><td style=\"text-align: right;\">-0.0568222 </td><td style=\"text-align: right;\"> 0.110761  </td><td style=\"text-align: right;\">-0.0473409 </td><td style=\"text-align: right;\">-0.0948832 </td><td style=\"text-align: right;\">-0.0707102</td><td style=\"text-align: right;\">-0.121465  </td><td style=\"text-align: right;\">0.11028  </td><td style=\"text-align: right;\">-0.0210903</td><td style=\"text-align: right;\">-0.0736243</td><td style=\"text-align: right;\"> 0.0281145</td><td style=\"text-align: right;\">-0.045247 </td><td style=\"text-align: right;\">-0.0517399</td><td style=\"text-align: right;\">-0.134219 </td><td style=\"text-align: right;\">-0.124408 </td><td style=\"text-align: right;\">0.104102 </td><td style=\"text-align: right;\">0.223189 </td><td style=\"text-align: right;\">-0.00126974</td><td style=\"text-align: right;\">-0.104057 </td><td style=\"text-align: right;\">-0.0811157</td><td style=\"text-align: right;\">0.0509368</td><td style=\"text-align: right;\">-0.0700342</td><td style=\"text-align: right;\">-0.12036   </td><td style=\"text-align: right;\">-0.102953   </td><td style=\"text-align: right;\">0.0380809</td><td style=\"text-align: right;\">-0.0248403</td><td style=\"text-align: right;\">-0.0327734  </td><td style=\"text-align: right;\">-0.0791646</td><td style=\"text-align: right;\">-3.23616e-05</td><td style=\"text-align: right;\">0.167896 </td><td style=\"text-align: right;\">-0.165686 </td><td style=\"text-align: right;\">-0.0734252 </td><td style=\"text-align: right;\"> 0.0619889 </td><td style=\"text-align: right;\"> 0.0368276</td><td style=\"text-align: right;\"> 0.0658358 </td><td style=\"text-align: right;\">-0.0926203 </td><td style=\"text-align: right;\">-0.158385 </td><td style=\"text-align: right;\">-0.13115   </td><td style=\"text-align: right;\">-0.0308157 </td><td style=\"text-align: right;\">-0.0348899 </td><td style=\"text-align: right;\">-0.0475599 </td><td style=\"text-align: right;\">-0.0167006 </td><td style=\"text-align: right;\"> 0.0111421 </td><td style=\"text-align: right;\">-0.035762  </td><td style=\"text-align: right;\">-0.0147396</td><td style=\"text-align: right;\"> 0.0863716 </td><td style=\"text-align: right;\">-0.00684826</td><td style=\"text-align: right;\">0.142991 </td><td style=\"text-align: right;\"> 0.000109347</td><td style=\"text-align: right;\">-0.126864 </td><td style=\"text-align: right;\"> 0.0725057 </td><td style=\"text-align: right;\">-0.245097</td><td style=\"text-align: right;\">-0.0399089 </td><td style=\"text-align: right;\">-0.122539 </td><td style=\"text-align: right;\">-0.10903    </td><td style=\"text-align: right;\">-0.0726639</td><td style=\"text-align: right;\"> 0.00226207</td><td style=\"text-align: right;\">-0.0690587</td><td style=\"text-align: right;\">-0.100343 </td><td style=\"text-align: right;\"> 0.0277722</td><td style=\"text-align: right;\"> 0.0169652 </td><td style=\"text-align: right;\">-0.0449576</td><td style=\"text-align: right;\">-0.0147382  </td><td style=\"text-align: right;\">0.0884565</td><td style=\"text-align: right;\"> 0.114317 </td><td style=\"text-align: right;\"> 0.0904743 </td><td style=\"text-align: right;\">0.0199527 </td><td style=\"text-align: right;\">-0.221245 </td><td style=\"text-align: right;\">-0.0216085 </td><td style=\"text-align: right;\">-0.0695719</td><td style=\"text-align: right;\"> 0.0500164</td><td style=\"text-align: right;\"> 0.0525848 </td><td style=\"text-align: right;\">-0.136185 </td><td style=\"text-align: right;\">-0.0455115 </td><td style=\"text-align: right;\">-0.0468036</td><td style=\"text-align: right;\">-0.0856472</td><td style=\"text-align: right;\">-0.00162729</td><td style=\"text-align: right;\">-0.120263 </td><td style=\"text-align: right;\">-0.0290355</td><td style=\"text-align: right;\">-0.0336885 </td><td style=\"text-align: right;\">-0.030098 </td><td style=\"text-align: right;\">0.0517285</td><td style=\"text-align: right;\"> 0.0406833 </td><td style=\"text-align: right;\"> 0.0973501 </td><td style=\"text-align: right;\">-0.0332238 </td><td style=\"text-align: right;\">0.128408 </td><td style=\"text-align: right;\"> 0.00652419</td></tr>\n",
       "<tr><td style=\"text-align: right;\">0.0305086</td><td style=\"text-align: right;\"> 0.0130135 </td><td style=\"text-align: right;\">-0.154228  </td><td style=\"text-align: right;\">-0.0759126 </td><td style=\"text-align: right;\"> 0.0172602 </td><td style=\"text-align: right;\"> 0.0309321 </td><td style=\"text-align: right;\">0.0458301</td><td style=\"text-align: right;\">0.099963 </td><td style=\"text-align: right;\"> 0.0553284 </td><td style=\"text-align: right;\">0.0541407</td><td style=\"text-align: right;\">-0.0721384</td><td style=\"text-align: right;\">0.08048  </td><td style=\"text-align: right;\"> 0.0222626  </td><td style=\"text-align: right;\"> 0.0238677 </td><td style=\"text-align: right;\"> 0.0151029 </td><td style=\"text-align: right;\"> 0.0199025 </td><td style=\"text-align: right;\">-0.00700925</td><td style=\"text-align: right;\"> 0.0311871 </td><td style=\"text-align: right;\">-0.028383 </td><td style=\"text-align: right;\">-0.117136  </td><td style=\"text-align: right;\">0.134611 </td><td style=\"text-align: right;\"> 0.104622 </td><td style=\"text-align: right;\">-0.0351247</td><td style=\"text-align: right;\"> 0.0523127</td><td style=\"text-align: right;\">-0.164899 </td><td style=\"text-align: right;\">-0.121232 </td><td style=\"text-align: right;\">-0.0333293</td><td style=\"text-align: right;\">-0.102876 </td><td style=\"text-align: right;\">0.103495 </td><td style=\"text-align: right;\">0.111362 </td><td style=\"text-align: right;\">-0.0189697 </td><td style=\"text-align: right;\">-0.09112  </td><td style=\"text-align: right;\">-0.165687 </td><td style=\"text-align: right;\">0.0302215</td><td style=\"text-align: right;\"> 0.0623995</td><td style=\"text-align: right;\">-0.0592675 </td><td style=\"text-align: right;\">-0.0767762  </td><td style=\"text-align: right;\">0.0447726</td><td style=\"text-align: right;\"> 0.108216 </td><td style=\"text-align: right;\"> 0.0719634  </td><td style=\"text-align: right;\">-0.0796874</td><td style=\"text-align: right;\">-0.0441232  </td><td style=\"text-align: right;\">0.136676 </td><td style=\"text-align: right;\">-0.201052 </td><td style=\"text-align: right;\"> 0.00258899</td><td style=\"text-align: right;\"> 0.0375839 </td><td style=\"text-align: right;\"> 0.0490523</td><td style=\"text-align: right;\">-0.00763784</td><td style=\"text-align: right;\">-0.0427072 </td><td style=\"text-align: right;\">-0.20604  </td><td style=\"text-align: right;\">-0.0337726 </td><td style=\"text-align: right;\"> 0.0406719 </td><td style=\"text-align: right;\">-0.0259966 </td><td style=\"text-align: right;\"> 0.00640817</td><td style=\"text-align: right;\"> 0.103895  </td><td style=\"text-align: right;\"> 0.025906  </td><td style=\"text-align: right;\">-0.070556  </td><td style=\"text-align: right;\">-0.0806581</td><td style=\"text-align: right;\">-0.0162645 </td><td style=\"text-align: right;\">-0.0843702 </td><td style=\"text-align: right;\">0.0681748</td><td style=\"text-align: right;\"> 0.00814503 </td><td style=\"text-align: right;\">-0.0619112</td><td style=\"text-align: right;\">-0.0552965 </td><td style=\"text-align: right;\">-0.270407</td><td style=\"text-align: right;\">-0.0337432 </td><td style=\"text-align: right;\">-0.0493832</td><td style=\"text-align: right;\">-0.0385777  </td><td style=\"text-align: right;\">-0.0273887</td><td style=\"text-align: right;\"> 0.0160295 </td><td style=\"text-align: right;\">-0.0301018</td><td style=\"text-align: right;\">-0.136719 </td><td style=\"text-align: right;\"> 0.102195 </td><td style=\"text-align: right;\">-0.0628603 </td><td style=\"text-align: right;\">-0.0180789</td><td style=\"text-align: right;\">-0.0854239  </td><td style=\"text-align: right;\">0.0888867</td><td style=\"text-align: right;\"> 0.016333 </td><td style=\"text-align: right;\"> 0.00233601</td><td style=\"text-align: right;\">0.0848176 </td><td style=\"text-align: right;\">-0.128984 </td><td style=\"text-align: right;\">-0.00222821</td><td style=\"text-align: right;\">-0.0802207</td><td style=\"text-align: right;\"> 0.0256003</td><td style=\"text-align: right;\"> 0.0813965 </td><td style=\"text-align: right;\">-0.0418749</td><td style=\"text-align: right;\">-0.00604901</td><td style=\"text-align: right;\">-0.055731 </td><td style=\"text-align: right;\">-0.0297814</td><td style=\"text-align: right;\">-0.0807892 </td><td style=\"text-align: right;\">-0.0764522</td><td style=\"text-align: right;\">-0.0588463</td><td style=\"text-align: right;\">-0.00904447</td><td style=\"text-align: right;\">-0.099953 </td><td style=\"text-align: right;\">0.075166 </td><td style=\"text-align: right;\">-0.0132798 </td><td style=\"text-align: right;\"> 0.0594838 </td><td style=\"text-align: right;\"> 0.0868177 </td><td style=\"text-align: right;\">0.207479 </td><td style=\"text-align: right;\">-0.0193458 </td></tr>\n",
       "<tr><td style=\"text-align: right;\">0.0791039</td><td style=\"text-align: right;\">-0.0082516 </td><td style=\"text-align: right;\">-0.135275  </td><td style=\"text-align: right;\">-0.05383   </td><td style=\"text-align: right;\">-0.0798776 </td><td style=\"text-align: right;\">-0.0266774 </td><td style=\"text-align: right;\">0.0303487</td><td style=\"text-align: right;\">0.0523054</td><td style=\"text-align: right;\"> 0.0618527 </td><td style=\"text-align: right;\">0.0537986</td><td style=\"text-align: right;\">-0.130573 </td><td style=\"text-align: right;\">0.0326198</td><td style=\"text-align: right;\"> 0.0285103  </td><td style=\"text-align: right;\"> 0.0385421 </td><td style=\"text-align: right;\">-0.0418849 </td><td style=\"text-align: right;\"> 0.0404994 </td><td style=\"text-align: right;\"> 0.0234097 </td><td style=\"text-align: right;\"> 0.0796258 </td><td style=\"text-align: right;\"> 0.0384668</td><td style=\"text-align: right;\">-0.120581  </td><td style=\"text-align: right;\">0.106119 </td><td style=\"text-align: right;\"> 0.0800778</td><td style=\"text-align: right;\">-0.0603569</td><td style=\"text-align: right;\"> 0.0976856</td><td style=\"text-align: right;\">-0.12735  </td><td style=\"text-align: right;\">-0.0667561</td><td style=\"text-align: right;\">-0.0375742</td><td style=\"text-align: right;\">-0.0622056</td><td style=\"text-align: right;\">0.111857 </td><td style=\"text-align: right;\">0.115662 </td><td style=\"text-align: right;\">-0.0181997 </td><td style=\"text-align: right;\">-0.135337 </td><td style=\"text-align: right;\">-0.117615 </td><td style=\"text-align: right;\">0.0722266</td><td style=\"text-align: right;\"> 0.0870666</td><td style=\"text-align: right;\">-0.041583  </td><td style=\"text-align: right;\"> 0.0125529  </td><td style=\"text-align: right;\">0.0635019</td><td style=\"text-align: right;\"> 0.053133 </td><td style=\"text-align: right;\">-0.000301068</td><td style=\"text-align: right;\">-0.147843 </td><td style=\"text-align: right;\">-0.0864063  </td><td style=\"text-align: right;\">0.060582 </td><td style=\"text-align: right;\">-0.157308 </td><td style=\"text-align: right;\">-0.0138027 </td><td style=\"text-align: right;\">-0.0491564 </td><td style=\"text-align: right;\"> 0.0632558</td><td style=\"text-align: right;\"> 0.0177454 </td><td style=\"text-align: right;\">-0.0600779 </td><td style=\"text-align: right;\">-0.217443 </td><td style=\"text-align: right;\">-0.0229518 </td><td style=\"text-align: right;\"> 0.0115186 </td><td style=\"text-align: right;\">-0.0173012 </td><td style=\"text-align: right;\">-0.00813978</td><td style=\"text-align: right;\"> 0.0594117 </td><td style=\"text-align: right;\">-0.0198819 </td><td style=\"text-align: right;\">-0.0670846 </td><td style=\"text-align: right;\">-0.0851551</td><td style=\"text-align: right;\"> 0.00113911</td><td style=\"text-align: right;\">-0.0284615 </td><td style=\"text-align: right;\">0.0963138</td><td style=\"text-align: right;\">-0.0107528  </td><td style=\"text-align: right;\">-0.0921264</td><td style=\"text-align: right;\">-0.0309988 </td><td style=\"text-align: right;\">-0.257635</td><td style=\"text-align: right;\">-0.0652291 </td><td style=\"text-align: right;\">-0.0407139</td><td style=\"text-align: right;\"> 0.0485219  </td><td style=\"text-align: right;\"> 0.0757116</td><td style=\"text-align: right;\"> 0.044687  </td><td style=\"text-align: right;\">-0.0481646</td><td style=\"text-align: right;\">-0.143576 </td><td style=\"text-align: right;\"> 0.0173146</td><td style=\"text-align: right;\">-0.00697857</td><td style=\"text-align: right;\">-0.0967818</td><td style=\"text-align: right;\"> 0.0158701  </td><td style=\"text-align: right;\">0.163751 </td><td style=\"text-align: right;\"> 0.0372302</td><td style=\"text-align: right;\">-0.0296322 </td><td style=\"text-align: right;\">0.0599559 </td><td style=\"text-align: right;\">-0.0942141</td><td style=\"text-align: right;\">-0.0629572 </td><td style=\"text-align: right;\">-0.153425 </td><td style=\"text-align: right;\"> 0.0284248</td><td style=\"text-align: right;\">-0.00508654</td><td style=\"text-align: right;\">-0.0325739</td><td style=\"text-align: right;\"> 0.00539808</td><td style=\"text-align: right;\">-0.0542669</td><td style=\"text-align: right;\"> 0.060513 </td><td style=\"text-align: right;\">-0.0997257 </td><td style=\"text-align: right;\">-0.103967 </td><td style=\"text-align: right;\">-0.0640921</td><td style=\"text-align: right;\">-0.0580711 </td><td style=\"text-align: right;\">-0.123048 </td><td style=\"text-align: right;\">0.117352 </td><td style=\"text-align: right;\"> 0.0550059 </td><td style=\"text-align: right;\"> 0.0502823 </td><td style=\"text-align: right;\"> 0.0894891 </td><td style=\"text-align: right;\">0.182701 </td><td style=\"text-align: right;\"> 0.0545678 </td></tr>\n",
       "<tr><td style=\"text-align: right;\">0.0343135</td><td style=\"text-align: right;\">-0.0739792 </td><td style=\"text-align: right;\"> 0.0456055 </td><td style=\"text-align: right;\">-0.0316826 </td><td style=\"text-align: right;\">-0.14364   </td><td style=\"text-align: right;\">-0.083243  </td><td style=\"text-align: right;\">0.039123 </td><td style=\"text-align: right;\">0.0283905</td><td style=\"text-align: right;\">-0.026998  </td><td style=\"text-align: right;\">0.166801 </td><td style=\"text-align: right;\">-0.185842 </td><td style=\"text-align: right;\">0.101    </td><td style=\"text-align: right;\">-0.0490116  </td><td style=\"text-align: right;\"> 0.00402879</td><td style=\"text-align: right;\">-0.00856436</td><td style=\"text-align: right;\"> 0.0883475 </td><td style=\"text-align: right;\">-0.0979362 </td><td style=\"text-align: right;\">-0.0407504 </td><td style=\"text-align: right;\">-0.0847625</td><td style=\"text-align: right;\">-0.168022  </td><td style=\"text-align: right;\">0.11655  </td><td style=\"text-align: right;\"> 0.0244257</td><td style=\"text-align: right;\"> 0.0222629</td><td style=\"text-align: right;\">-0.0482101</td><td style=\"text-align: right;\">-0.178285 </td><td style=\"text-align: right;\">-0.0604816</td><td style=\"text-align: right;\">-0.0565699</td><td style=\"text-align: right;\">-0.0219462</td><td style=\"text-align: right;\">0.0104174</td><td style=\"text-align: right;\">0.216268 </td><td style=\"text-align: right;\">-0.0229062 </td><td style=\"text-align: right;\">-0.0594553</td><td style=\"text-align: right;\">-0.0867456</td><td style=\"text-align: right;\">0.108666 </td><td style=\"text-align: right;\"> 0.0155899</td><td style=\"text-align: right;\">-0.0340574 </td><td style=\"text-align: right;\">-0.187022   </td><td style=\"text-align: right;\">0.0600452</td><td style=\"text-align: right;\"> 0.0190307</td><td style=\"text-align: right;\"> 0.00634346 </td><td style=\"text-align: right;\">-0.1201   </td><td style=\"text-align: right;\"> 0.00308158 </td><td style=\"text-align: right;\">0.19424  </td><td style=\"text-align: right;\">-0.130111 </td><td style=\"text-align: right;\">-0.0370715 </td><td style=\"text-align: right;\"> 0.0411682 </td><td style=\"text-align: right;\"> 0.212759 </td><td style=\"text-align: right;\"> 0.0834049 </td><td style=\"text-align: right;\">-0.102964  </td><td style=\"text-align: right;\">-0.162708 </td><td style=\"text-align: right;\">-0.0397133 </td><td style=\"text-align: right;\">-0.0562453 </td><td style=\"text-align: right;\">-0.0643537 </td><td style=\"text-align: right;\"> 0.0203536 </td><td style=\"text-align: right;\"> 0.00313664</td><td style=\"text-align: right;\">-0.0637342 </td><td style=\"text-align: right;\">-0.0247487 </td><td style=\"text-align: right;\">-0.0541261</td><td style=\"text-align: right;\"> 0.00791487</td><td style=\"text-align: right;\"> 0.0711934 </td><td style=\"text-align: right;\">0.187185 </td><td style=\"text-align: right;\">-0.128863   </td><td style=\"text-align: right;\">-0.0841008</td><td style=\"text-align: right;\"> 0.0731536 </td><td style=\"text-align: right;\">-0.231603</td><td style=\"text-align: right;\"> 0.011884  </td><td style=\"text-align: right;\">-0.15004  </td><td style=\"text-align: right;\"> 0.0208951  </td><td style=\"text-align: right;\">-0.065478 </td><td style=\"text-align: right;\">-0.119354  </td><td style=\"text-align: right;\">-0.094573 </td><td style=\"text-align: right;\">-0.0497101</td><td style=\"text-align: right;\"> 0.0434393</td><td style=\"text-align: right;\"> 0.0184401 </td><td style=\"text-align: right;\">-0.0281867</td><td style=\"text-align: right;\">-0.0106439  </td><td style=\"text-align: right;\">0.0739611</td><td style=\"text-align: right;\"> 0.0880064</td><td style=\"text-align: right;\"> 0.0298391 </td><td style=\"text-align: right;\">0.0542452 </td><td style=\"text-align: right;\">-0.2089   </td><td style=\"text-align: right;\"> 0.02069   </td><td style=\"text-align: right;\">-0.171078 </td><td style=\"text-align: right;\">-0.0672092</td><td style=\"text-align: right;\"> 0.0381471 </td><td style=\"text-align: right;\">-0.142741 </td><td style=\"text-align: right;\">-0.00890736</td><td style=\"text-align: right;\">-0.0450636</td><td style=\"text-align: right;\">-0.0296898</td><td style=\"text-align: right;\"> 0.0712541 </td><td style=\"text-align: right;\">-0.0348185</td><td style=\"text-align: right;\">-0.0732396</td><td style=\"text-align: right;\"> 0.147918  </td><td style=\"text-align: right;\">-0.0248755</td><td style=\"text-align: right;\">0.0483437</td><td style=\"text-align: right;\"> 0.13708   </td><td style=\"text-align: right;\"> 0.134302  </td><td style=\"text-align: right;\"> 0.038468  </td><td style=\"text-align: right;\">0.102758 </td><td style=\"text-align: right;\"> 0.08069   </td></tr>\n",
       "<tr><td style=\"text-align: right;\">0.0853562</td><td style=\"text-align: right;\"> 0.039462  </td><td style=\"text-align: right;\">-0.0308977 </td><td style=\"text-align: right;\">-0.113407  </td><td style=\"text-align: right;\">-0.105288  </td><td style=\"text-align: right;\"> 0.00421014</td><td style=\"text-align: right;\">0.11466  </td><td style=\"text-align: right;\">0.0406447</td><td style=\"text-align: right;\"> 0.0350027 </td><td style=\"text-align: right;\">0.17381  </td><td style=\"text-align: right;\">-0.177307 </td><td style=\"text-align: right;\">0.092163 </td><td style=\"text-align: right;\"> 0.0753994  </td><td style=\"text-align: right;\">-0.0352355 </td><td style=\"text-align: right;\"> 0.00751322</td><td style=\"text-align: right;\">-0.120764  </td><td style=\"text-align: right;\">-0.0230309 </td><td style=\"text-align: right;\">-0.00581269</td><td style=\"text-align: right;\"> 0.0701636</td><td style=\"text-align: right;\">-0.162453  </td><td style=\"text-align: right;\">0.094292 </td><td style=\"text-align: right;\">-0.0453355</td><td style=\"text-align: right;\">-0.0271723</td><td style=\"text-align: right;\">-0.0329504</td><td style=\"text-align: right;\">-0.0690069</td><td style=\"text-align: right;\">-0.0447247</td><td style=\"text-align: right;\">-0.0359753</td><td style=\"text-align: right;\">-0.0888892</td><td style=\"text-align: right;\">0.151715 </td><td style=\"text-align: right;\">0.192381 </td><td style=\"text-align: right;\">-0.0507958 </td><td style=\"text-align: right;\">-0.120294 </td><td style=\"text-align: right;\">-0.14241  </td><td style=\"text-align: right;\">0.114574 </td><td style=\"text-align: right;\">-0.0585252</td><td style=\"text-align: right;\"> 0.00388449</td><td style=\"text-align: right;\">-0.148369   </td><td style=\"text-align: right;\">0.132302 </td><td style=\"text-align: right;\"> 0.0947106</td><td style=\"text-align: right;\"> 0.0201545  </td><td style=\"text-align: right;\">-0.108388 </td><td style=\"text-align: right;\"> 0.0518807  </td><td style=\"text-align: right;\">0.0857642</td><td style=\"text-align: right;\">-0.189412 </td><td style=\"text-align: right;\"> 0.00245335</td><td style=\"text-align: right;\">-0.00922506</td><td style=\"text-align: right;\"> 0.0550239</td><td style=\"text-align: right;\"> 0.0517584 </td><td style=\"text-align: right;\">-0.112794  </td><td style=\"text-align: right;\">-0.101022 </td><td style=\"text-align: right;\"> 0.0210743 </td><td style=\"text-align: right;\"> 0.0213502 </td><td style=\"text-align: right;\"> 0.00602724</td><td style=\"text-align: right;\"> 0.0483891 </td><td style=\"text-align: right;\"> 0.135395  </td><td style=\"text-align: right;\"> 0.0189801 </td><td style=\"text-align: right;\">-0.0877383 </td><td style=\"text-align: right;\">-0.0428152</td><td style=\"text-align: right;\">-0.0154197 </td><td style=\"text-align: right;\">-0.0972774 </td><td style=\"text-align: right;\">0.113602 </td><td style=\"text-align: right;\">-0.0374768  </td><td style=\"text-align: right;\">-0.11277  </td><td style=\"text-align: right;\"> 0.0260602 </td><td style=\"text-align: right;\">-0.239224</td><td style=\"text-align: right;\"> 0.038969  </td><td style=\"text-align: right;\">-0.0472359</td><td style=\"text-align: right;\"> 0.0117829  </td><td style=\"text-align: right;\">-0.0960796</td><td style=\"text-align: right;\">-0.0137323 </td><td style=\"text-align: right;\">-0.0964549</td><td style=\"text-align: right;\">-0.0800028</td><td style=\"text-align: right;\"> 0.0292619</td><td style=\"text-align: right;\">-0.0159538 </td><td style=\"text-align: right;\">-0.0345359</td><td style=\"text-align: right;\">-0.0533     </td><td style=\"text-align: right;\">0.0795661</td><td style=\"text-align: right;\"> 0.103105 </td><td style=\"text-align: right;\">-0.0224103 </td><td style=\"text-align: right;\">0.00514724</td><td style=\"text-align: right;\">-0.204009 </td><td style=\"text-align: right;\"> 0.0149335 </td><td style=\"text-align: right;\">-0.167371 </td><td style=\"text-align: right;\"> 0.0260961</td><td style=\"text-align: right;\"> 0.0708194 </td><td style=\"text-align: right;\">-0.0243824</td><td style=\"text-align: right;\">-0.00048527</td><td style=\"text-align: right;\">-0.0322251</td><td style=\"text-align: right;\">-0.0248133</td><td style=\"text-align: right;\">-0.0917157 </td><td style=\"text-align: right;\">-0.106622 </td><td style=\"text-align: right;\">-0.0503943</td><td style=\"text-align: right;\"> 0.0744188 </td><td style=\"text-align: right;\">-0.130195 </td><td style=\"text-align: right;\">0.129938 </td><td style=\"text-align: right;\"> 0.136787  </td><td style=\"text-align: right;\"> 0.0960114 </td><td style=\"text-align: right;\">-0.0562296 </td><td style=\"text-align: right;\">0.0737118</td><td style=\"text-align: right;\"> 0.0868225 </td></tr>\n",
       "<tr><td style=\"text-align: right;\">0.0797047</td><td style=\"text-align: right;\"> 0.0379341 </td><td style=\"text-align: right;\">-0.196545  </td><td style=\"text-align: right;\">-0.0752997 </td><td style=\"text-align: right;\"> 0.043574  </td><td style=\"text-align: right;\"> 0.00608375</td><td style=\"text-align: right;\">0.03409  </td><td style=\"text-align: right;\">0.0628035</td><td style=\"text-align: right;\"> 0.00872199</td><td style=\"text-align: right;\">0.0932211</td><td style=\"text-align: right;\">-0.139683 </td><td style=\"text-align: right;\">0.0675631</td><td style=\"text-align: right;\">-0.000789636</td><td style=\"text-align: right;\"> 0.0941553 </td><td style=\"text-align: right;\"> 0.039575  </td><td style=\"text-align: right;\"> 0.00343969</td><td style=\"text-align: right;\">-0.0230359 </td><td style=\"text-align: right;\"> 0.0028147 </td><td style=\"text-align: right;\"> 0.0243236</td><td style=\"text-align: right;\">-0.191865  </td><td style=\"text-align: right;\">0.0439588</td><td style=\"text-align: right;\"> 0.0635491</td><td style=\"text-align: right;\">-0.0999872</td><td style=\"text-align: right;\"> 0.0611265</td><td style=\"text-align: right;\">-0.0795804</td><td style=\"text-align: right;\">-0.135972 </td><td style=\"text-align: right;\"> 0.0309279</td><td style=\"text-align: right;\">-0.0492709</td><td style=\"text-align: right;\">0.124196 </td><td style=\"text-align: right;\">0.121458 </td><td style=\"text-align: right;\"> 0.00199514</td><td style=\"text-align: right;\">-0.0438239</td><td style=\"text-align: right;\">-0.133356 </td><td style=\"text-align: right;\">0.0299753</td><td style=\"text-align: right;\">-0.038329 </td><td style=\"text-align: right;\">-0.0591245 </td><td style=\"text-align: right;\"> 0.000694066</td><td style=\"text-align: right;\">0.0531895</td><td style=\"text-align: right;\"> 0.0697942</td><td style=\"text-align: right;\"> 0.120902   </td><td style=\"text-align: right;\">-0.128542 </td><td style=\"text-align: right;\">-0.0912281  </td><td style=\"text-align: right;\">0.109683 </td><td style=\"text-align: right;\">-0.133103 </td><td style=\"text-align: right;\">-0.0516904 </td><td style=\"text-align: right;\"> 0.00931343</td><td style=\"text-align: right;\"> 0.100735 </td><td style=\"text-align: right;\"> 0.0810829 </td><td style=\"text-align: right;\">-0.102182  </td><td style=\"text-align: right;\">-0.163438 </td><td style=\"text-align: right;\">-0.0443452 </td><td style=\"text-align: right;\"> 0.0277823 </td><td style=\"text-align: right;\"> 0.0151525 </td><td style=\"text-align: right;\">-0.0624181 </td><td style=\"text-align: right;\"> 0.086171  </td><td style=\"text-align: right;\"> 0.00262378</td><td style=\"text-align: right;\">-0.1421    </td><td style=\"text-align: right;\">-0.107489 </td><td style=\"text-align: right;\">-0.0757813 </td><td style=\"text-align: right;\">-0.0990843 </td><td style=\"text-align: right;\">0.0649852</td><td style=\"text-align: right;\"> 0.032547   </td><td style=\"text-align: right;\">-0.126444 </td><td style=\"text-align: right;\">-0.100442  </td><td style=\"text-align: right;\">-0.272608</td><td style=\"text-align: right;\">-0.0997605 </td><td style=\"text-align: right;\">-0.091118 </td><td style=\"text-align: right;\">-0.048715   </td><td style=\"text-align: right;\">-0.0519274</td><td style=\"text-align: right;\"> 0.11624   </td><td style=\"text-align: right;\">-0.0605563</td><td style=\"text-align: right;\">-0.121591 </td><td style=\"text-align: right;\"> 0.0509868</td><td style=\"text-align: right;\"> 0.00208421</td><td style=\"text-align: right;\">-0.0652864</td><td style=\"text-align: right;\">-0.00119048 </td><td style=\"text-align: right;\">0.0466839</td><td style=\"text-align: right;\"> 0.0299641</td><td style=\"text-align: right;\">-0.00637463</td><td style=\"text-align: right;\">0.0385259 </td><td style=\"text-align: right;\">-0.0778177</td><td style=\"text-align: right;\">-0.0777869 </td><td style=\"text-align: right;\">-0.170024 </td><td style=\"text-align: right;\"> 0.110011 </td><td style=\"text-align: right;\"> 0.0379118 </td><td style=\"text-align: right;\"> 0.0484374</td><td style=\"text-align: right;\">-0.0679967 </td><td style=\"text-align: right;\">-0.0606802</td><td style=\"text-align: right;\"> 0.0398855</td><td style=\"text-align: right;\">-0.0979322 </td><td style=\"text-align: right;\">-0.114298 </td><td style=\"text-align: right;\">-0.0419674</td><td style=\"text-align: right;\">-0.0240017 </td><td style=\"text-align: right;\">-0.0460858</td><td style=\"text-align: right;\">0.0581434</td><td style=\"text-align: right;\"> 0.00273625</td><td style=\"text-align: right;\"> 0.0751852 </td><td style=\"text-align: right;\"> 0.154058  </td><td style=\"text-align: right;\">0.115174 </td><td style=\"text-align: right;\"> 0.0505804 </td></tr>\n",
       "</tbody>\n",
       "</table>"
      ]
     },
     "metadata": {},
     "output_type": "display_data"
    },
    {
     "data": {
      "text/plain": []
     },
     "execution_count": 24,
     "metadata": {},
     "output_type": "execute_result"
    }
   ],
   "source": [
    "# Calculate a vector for each review\n",
    "review_vecs = w2v_model.transform(words, aggregate_method = \"AVERAGE\")\n",
    "review_vecs"
   ]
  },
  {
   "cell_type": "code",
   "execution_count": 25,
   "metadata": {},
   "outputs": [],
   "source": [
    "# Add aggregated word embeddings \n",
    "ext_reviews = reviews.cbind(review_vecs)"
   ]
  },
  {
   "cell_type": "code",
   "execution_count": 26,
   "metadata": {},
   "outputs": [],
   "source": [
    "ext_reviews = ext_reviews.drop([1, 5])"
   ]
  },
  {
   "cell_type": "code",
   "execution_count": 27,
   "metadata": {},
   "outputs": [
    {
     "data": {
      "text/html": [
       "<table>\n",
       "<thead>\n",
       "<tr><th style=\"text-align: right;\">  Id</th><th>date               </th><th>review_id             </th><th style=\"text-align: right;\">  stars</th><th>type  </th><th>user_id               </th><th style=\"text-align: right;\">  cool</th><th style=\"text-align: right;\">  useful</th><th style=\"text-align: right;\">  funny</th><th style=\"text-align: right;\">  PositiveReview</th><th>Train  </th><th style=\"text-align: right;\">       C1</th><th style=\"text-align: right;\">        C2</th><th style=\"text-align: right;\">        C3</th><th style=\"text-align: right;\">        C4</th><th style=\"text-align: right;\">         C5</th><th style=\"text-align: right;\">        C6</th><th style=\"text-align: right;\">       C7</th><th style=\"text-align: right;\">       C8</th><th style=\"text-align: right;\">        C9</th><th style=\"text-align: right;\">      C10</th><th style=\"text-align: right;\">       C11</th><th style=\"text-align: right;\">      C12</th><th style=\"text-align: right;\">       C13</th><th style=\"text-align: right;\">        C14</th><th style=\"text-align: right;\">        C15</th><th style=\"text-align: right;\">        C16</th><th style=\"text-align: right;\">       C17</th><th style=\"text-align: right;\">       C18</th><th style=\"text-align: right;\">       C19</th><th style=\"text-align: right;\">      C20</th><th style=\"text-align: right;\">     C21</th><th style=\"text-align: right;\">      C22</th><th style=\"text-align: right;\">       C23</th><th style=\"text-align: right;\">      C24</th><th style=\"text-align: right;\">      C25</th><th style=\"text-align: right;\">       C26</th><th style=\"text-align: right;\">       C27</th><th style=\"text-align: right;\">       C28</th><th style=\"text-align: right;\">      C29</th><th style=\"text-align: right;\">      C30</th><th style=\"text-align: right;\">        C31</th><th style=\"text-align: right;\">       C32</th><th style=\"text-align: right;\">      C33</th><th style=\"text-align: right;\">      C34</th><th style=\"text-align: right;\">       C35</th><th style=\"text-align: right;\">        C36</th><th style=\"text-align: right;\">       C37</th><th style=\"text-align: right;\">      C38</th><th style=\"text-align: right;\">      C39</th><th style=\"text-align: right;\">        C40</th><th style=\"text-align: right;\">       C41</th><th style=\"text-align: right;\">       C42</th><th style=\"text-align: right;\">      C43</th><th style=\"text-align: right;\">      C44</th><th style=\"text-align: right;\">       C45</th><th style=\"text-align: right;\">        C46</th><th style=\"text-align: right;\">       C47</th><th style=\"text-align: right;\">       C48</th><th style=\"text-align: right;\">       C49</th><th style=\"text-align: right;\">       C50</th><th style=\"text-align: right;\">        C51</th><th style=\"text-align: right;\">       C52</th><th style=\"text-align: right;\">        C53</th><th style=\"text-align: right;\">       C54</th><th style=\"text-align: right;\">      C55</th><th style=\"text-align: right;\">       C56</th><th style=\"text-align: right;\">       C57</th><th style=\"text-align: right;\">       C58</th><th style=\"text-align: right;\">       C59</th><th style=\"text-align: right;\">       C60</th><th style=\"text-align: right;\">      C61</th><th style=\"text-align: right;\">       C62</th><th style=\"text-align: right;\">       C63</th><th style=\"text-align: right;\">        C64</th><th style=\"text-align: right;\">      C65</th><th style=\"text-align: right;\">        C66</th><th style=\"text-align: right;\">       C67</th><th style=\"text-align: right;\">       C68</th><th style=\"text-align: right;\">       C69</th><th style=\"text-align: right;\">       C70</th><th style=\"text-align: right;\">       C71</th><th style=\"text-align: right;\">      C72</th><th style=\"text-align: right;\">       C73</th><th style=\"text-align: right;\">        C74</th><th style=\"text-align: right;\">       C75</th><th style=\"text-align: right;\">         C76</th><th style=\"text-align: right;\">      C77</th><th style=\"text-align: right;\">       C78</th><th style=\"text-align: right;\">      C79</th><th style=\"text-align: right;\">      C80</th><th style=\"text-align: right;\">       C81</th><th style=\"text-align: right;\">        C82</th><th style=\"text-align: right;\">      C83</th><th style=\"text-align: right;\">      C84</th><th style=\"text-align: right;\">       C85</th><th style=\"text-align: right;\">       C86</th><th style=\"text-align: right;\">       C87</th><th style=\"text-align: right;\">       C88</th><th style=\"text-align: right;\">       C89</th><th style=\"text-align: right;\">       C90</th><th style=\"text-align: right;\">       C91</th><th style=\"text-align: right;\">       C92</th><th style=\"text-align: right;\">       C93</th><th style=\"text-align: right;\">       C94</th><th style=\"text-align: right;\">      C95</th><th style=\"text-align: right;\">        C96</th><th style=\"text-align: right;\">        C97</th><th style=\"text-align: right;\">       C98</th><th style=\"text-align: right;\">     C99</th><th style=\"text-align: right;\">      C100</th></tr>\n",
       "</thead>\n",
       "<tbody>\n",
       "<tr><td style=\"text-align: right;\">   1</td><td>2011-01-26 00:00:00</td><td>fWKvX83p0-ka4JS3dc6E5A</td><td style=\"text-align: right;\">      5</td><td>review</td><td>rLtl8ZkDX5vH5nAx9C3q5Q</td><td style=\"text-align: right;\">     2</td><td style=\"text-align: right;\">       5</td><td style=\"text-align: right;\">      0</td><td style=\"text-align: right;\">               1</td><td>Yes    </td><td style=\"text-align: right;\">0.11703  </td><td style=\"text-align: right;\"> 0.0663938</td><td style=\"text-align: right;\">-0.146722 </td><td style=\"text-align: right;\">-0.0484327</td><td style=\"text-align: right;\">-0.0766407 </td><td style=\"text-align: right;\"> 0.0149233</td><td style=\"text-align: right;\">0.0836394</td><td style=\"text-align: right;\">0.0872855</td><td style=\"text-align: right;\">0.0414275 </td><td style=\"text-align: right;\">0.118045 </td><td style=\"text-align: right;\">-0.146575 </td><td style=\"text-align: right;\">0.0814339</td><td style=\"text-align: right;\">0.045135  </td><td style=\"text-align: right;\"> 0.022953  </td><td style=\"text-align: right;\"> 0.0195262 </td><td style=\"text-align: right;\">-0.0139045 </td><td style=\"text-align: right;\"> 0.0215705</td><td style=\"text-align: right;\"> 0.0350263</td><td style=\"text-align: right;\"> 0.0166273</td><td style=\"text-align: right;\">-0.131501</td><td style=\"text-align: right;\">0.146732</td><td style=\"text-align: right;\">0.0989345</td><td style=\"text-align: right;\">-0.0570603</td><td style=\"text-align: right;\">0.0870881</td><td style=\"text-align: right;\">-0.159269</td><td style=\"text-align: right;\">-0.125286 </td><td style=\"text-align: right;\">-0.0587064</td><td style=\"text-align: right;\">-0.137647 </td><td style=\"text-align: right;\">0.0941347</td><td style=\"text-align: right;\">0.124169 </td><td style=\"text-align: right;\">-0.0441021 </td><td style=\"text-align: right;\">-0.0964739</td><td style=\"text-align: right;\">-0.147309</td><td style=\"text-align: right;\">0.0855789</td><td style=\"text-align: right;\"> 0.0764424</td><td style=\"text-align: right;\">-0.0684896 </td><td style=\"text-align: right;\">-0.0905141</td><td style=\"text-align: right;\">0.0993233</td><td style=\"text-align: right;\">0.0539168</td><td style=\"text-align: right;\"> 0.0445057 </td><td style=\"text-align: right;\">-0.0836027</td><td style=\"text-align: right;\">-0.0287279</td><td style=\"text-align: right;\">0.11751  </td><td style=\"text-align: right;\">-0.173454</td><td style=\"text-align: right;\"> 0.0110874</td><td style=\"text-align: right;\"> 0.00430669</td><td style=\"text-align: right;\"> 0.0606192</td><td style=\"text-align: right;\"> 0.0462155</td><td style=\"text-align: right;\">-0.0745287</td><td style=\"text-align: right;\">-0.188293 </td><td style=\"text-align: right;\"> 0.00229183</td><td style=\"text-align: right;\">0.0725792 </td><td style=\"text-align: right;\">-0.0211703 </td><td style=\"text-align: right;\"> 0.060152 </td><td style=\"text-align: right;\">0.030227 </td><td style=\"text-align: right;\">-0.0335543</td><td style=\"text-align: right;\">-0.0786098</td><td style=\"text-align: right;\">-0.123395 </td><td style=\"text-align: right;\">-0.0117427</td><td style=\"text-align: right;\">-0.117832 </td><td style=\"text-align: right;\">0.080034 </td><td style=\"text-align: right;\"> 0.0445487</td><td style=\"text-align: right;\">-0.0666071</td><td style=\"text-align: right;\">-0.0703849 </td><td style=\"text-align: right;\">-0.255626</td><td style=\"text-align: right;\"> 0.0309421 </td><td style=\"text-align: right;\">-0.0246605</td><td style=\"text-align: right;\">-0.0222319</td><td style=\"text-align: right;\">-0.0398079</td><td style=\"text-align: right;\"> 0.0201798</td><td style=\"text-align: right;\"> 0.0308746</td><td style=\"text-align: right;\">-0.107044</td><td style=\"text-align: right;\"> 0.0457466</td><td style=\"text-align: right;\"> 0.00948756</td><td style=\"text-align: right;\"> 0.0208711</td><td style=\"text-align: right;\">-0.0104653  </td><td style=\"text-align: right;\">0.0340715</td><td style=\"text-align: right;\"> 0.0952614</td><td style=\"text-align: right;\">0.0357547</td><td style=\"text-align: right;\">0.087962 </td><td style=\"text-align: right;\">-0.102038 </td><td style=\"text-align: right;\">-0.00453135</td><td style=\"text-align: right;\">-0.105647</td><td style=\"text-align: right;\">0.0205061</td><td style=\"text-align: right;\"> 0.0317327</td><td style=\"text-align: right;\">-0.0990162</td><td style=\"text-align: right;\">-0.0168819</td><td style=\"text-align: right;\">-0.077277 </td><td style=\"text-align: right;\"> 0.0518495</td><td style=\"text-align: right;\">-0.0942048</td><td style=\"text-align: right;\">-0.0997961</td><td style=\"text-align: right;\">-0.0101687</td><td style=\"text-align: right;\"> 0.0258774</td><td style=\"text-align: right;\">-0.0936866</td><td style=\"text-align: right;\">0.109854 </td><td style=\"text-align: right;\"> 0.0530304 </td><td style=\"text-align: right;\">-0.00776525</td><td style=\"text-align: right;\">-0.01376  </td><td style=\"text-align: right;\">0.176674</td><td style=\"text-align: right;\">-0.0764815</td></tr>\n",
       "<tr><td style=\"text-align: right;\">   2</td><td>2011-07-27 00:00:00</td><td>IjZ33sJrzXqU-0X6U8NwyA</td><td style=\"text-align: right;\">      5</td><td>review</td><td>0a2KyEL0d3Yb1V6aivbIuQ</td><td style=\"text-align: right;\">     0</td><td style=\"text-align: right;\">       0</td><td style=\"text-align: right;\">      0</td><td style=\"text-align: right;\">               1</td><td>Yes    </td><td style=\"text-align: right;\">0.0704224</td><td style=\"text-align: right;\">-0.0389024</td><td style=\"text-align: right;\">-0.0906884</td><td style=\"text-align: right;\">-0.11275  </td><td style=\"text-align: right;\">-0.0132987 </td><td style=\"text-align: right;\"> 0.0245468</td><td style=\"text-align: right;\">0.0464061</td><td style=\"text-align: right;\">0.0576585</td><td style=\"text-align: right;\">0.00269524</td><td style=\"text-align: right;\">0.0796676</td><td style=\"text-align: right;\">-0.133157 </td><td style=\"text-align: right;\">0.0874257</td><td style=\"text-align: right;\">0.00713924</td><td style=\"text-align: right;\">-0.0270894 </td><td style=\"text-align: right;\">-0.00337677</td><td style=\"text-align: right;\">-0.0447482 </td><td style=\"text-align: right;\">-0.0938267</td><td style=\"text-align: right;\"> 0.0476232</td><td style=\"text-align: right;\">-0.0150167</td><td style=\"text-align: right;\">-0.145615</td><td style=\"text-align: right;\">0.143008</td><td style=\"text-align: right;\">0.0984763</td><td style=\"text-align: right;\">-0.0733605</td><td style=\"text-align: right;\">0.0429841</td><td style=\"text-align: right;\">-0.150739</td><td style=\"text-align: right;\">-0.0801833</td><td style=\"text-align: right;\">-0.0657928</td><td style=\"text-align: right;\">-0.0748287</td><td style=\"text-align: right;\">0.146301 </td><td style=\"text-align: right;\">0.0986593</td><td style=\"text-align: right;\"> 0.00148848</td><td style=\"text-align: right;\">-0.101393 </td><td style=\"text-align: right;\">-0.107087</td><td style=\"text-align: right;\">0.0857062</td><td style=\"text-align: right;\"> 0.0320079</td><td style=\"text-align: right;\">-0.0998789 </td><td style=\"text-align: right;\">-0.143579 </td><td style=\"text-align: right;\">0.0663939</td><td style=\"text-align: right;\">0.107293 </td><td style=\"text-align: right;\">-0.00925582</td><td style=\"text-align: right;\">-0.0501037</td><td style=\"text-align: right;\">-0.0618064</td><td style=\"text-align: right;\">0.0987741</td><td style=\"text-align: right;\">-0.17849 </td><td style=\"text-align: right;\">-0.044182 </td><td style=\"text-align: right;\"> 0.0494349 </td><td style=\"text-align: right;\"> 0.0997183</td><td style=\"text-align: right;\">-0.0392279</td><td style=\"text-align: right;\">-0.120312 </td><td style=\"text-align: right;\">-0.161977 </td><td style=\"text-align: right;\">-0.0473018 </td><td style=\"text-align: right;\">0.00857768</td><td style=\"text-align: right;\">-0.00259646</td><td style=\"text-align: right;\"> 0.0560932</td><td style=\"text-align: right;\">0.0325408</td><td style=\"text-align: right;\"> 0.0170607</td><td style=\"text-align: right;\">-0.0122529</td><td style=\"text-align: right;\">-0.0105235</td><td style=\"text-align: right;\"> 0.0085619</td><td style=\"text-align: right;\">-0.0567718</td><td style=\"text-align: right;\">0.126895 </td><td style=\"text-align: right;\">-0.0598282</td><td style=\"text-align: right;\">-0.0981645</td><td style=\"text-align: right;\"> 0.00501797</td><td style=\"text-align: right;\">-0.25692 </td><td style=\"text-align: right;\">-0.0359178 </td><td style=\"text-align: right;\">-0.0442919</td><td style=\"text-align: right;\">-0.0191203</td><td style=\"text-align: right;\">-0.0544886</td><td style=\"text-align: right;\">-0.0256151</td><td style=\"text-align: right;\">-0.036256 </td><td style=\"text-align: right;\">-0.087881</td><td style=\"text-align: right;\"> 0.0599299</td><td style=\"text-align: right;\">-0.0378678 </td><td style=\"text-align: right;\">-0.0222874</td><td style=\"text-align: right;\">-0.117145   </td><td style=\"text-align: right;\">0.0950739</td><td style=\"text-align: right;\"> 0.016974 </td><td style=\"text-align: right;\">0.038321 </td><td style=\"text-align: right;\">0.0776539</td><td style=\"text-align: right;\">-0.167251 </td><td style=\"text-align: right;\"> 0.0131027 </td><td style=\"text-align: right;\">-0.133804</td><td style=\"text-align: right;\">0.0124472</td><td style=\"text-align: right;\"> 0.0738388</td><td style=\"text-align: right;\">-0.0275919</td><td style=\"text-align: right;\"> 0.0234444</td><td style=\"text-align: right;\">-0.0661359</td><td style=\"text-align: right;\">-0.0402321</td><td style=\"text-align: right;\">-0.116819 </td><td style=\"text-align: right;\">-0.0928504</td><td style=\"text-align: right;\">-0.0576404</td><td style=\"text-align: right;\"> 0.0183026</td><td style=\"text-align: right;\">-0.0753501</td><td style=\"text-align: right;\">0.103917 </td><td style=\"text-align: right;\">-0.00332789</td><td style=\"text-align: right;\"> 0.0401401 </td><td style=\"text-align: right;\"> 0.0434412</td><td style=\"text-align: right;\">0.203228</td><td style=\"text-align: right;\">-0.0291768</td></tr>\n",
       "<tr><td style=\"text-align: right;\">   3</td><td>2012-06-14 00:00:00</td><td>IESLBzqUCLdSzSqm0eCSxQ</td><td style=\"text-align: right;\">      4</td><td>review</td><td>0hT2KtfLiobPvh6cDC8JQg</td><td style=\"text-align: right;\">     0</td><td style=\"text-align: right;\">       1</td><td style=\"text-align: right;\">      0</td><td style=\"text-align: right;\">               1</td><td>Yes    </td><td style=\"text-align: right;\">0.128685 </td><td style=\"text-align: right;\">-0.0768315</td><td style=\"text-align: right;\">-0.224169 </td><td style=\"text-align: right;\">-0.0928174</td><td style=\"text-align: right;\">-0.00122116</td><td style=\"text-align: right;\">-0.0463278</td><td style=\"text-align: right;\">0.0258968</td><td style=\"text-align: right;\">0.0772896</td><td style=\"text-align: right;\">0.147228  </td><td style=\"text-align: right;\">0.0537367</td><td style=\"text-align: right;\"> 0.0393005</td><td style=\"text-align: right;\">0.123003 </td><td style=\"text-align: right;\">0.093036  </td><td style=\"text-align: right;\">-0.00328522</td><td style=\"text-align: right;\"> 0.0966423 </td><td style=\"text-align: right;\">-0.00245949</td><td style=\"text-align: right;\"> 0.0146273</td><td style=\"text-align: right;\">-0.0028631</td><td style=\"text-align: right;\"> 0.0189154</td><td style=\"text-align: right;\">-0.150536</td><td style=\"text-align: right;\">0.121463</td><td style=\"text-align: right;\">0.0159293</td><td style=\"text-align: right;\">-0.0675431</td><td style=\"text-align: right;\">0.243046 </td><td style=\"text-align: right;\">-0.100849</td><td style=\"text-align: right;\">-0.0624661</td><td style=\"text-align: right;\">-0.0122086</td><td style=\"text-align: right;\">-0.0408316</td><td style=\"text-align: right;\">0.2205   </td><td style=\"text-align: right;\">0.195462 </td><td style=\"text-align: right;\">-0.104481  </td><td style=\"text-align: right;\">-0.0807622</td><td style=\"text-align: right;\">-0.118029</td><td style=\"text-align: right;\">0.0265886</td><td style=\"text-align: right;\">-0.0612973</td><td style=\"text-align: right;\"> 0.00179126</td><td style=\"text-align: right;\">-0.0105353</td><td style=\"text-align: right;\">0.0710098</td><td style=\"text-align: right;\">0.110385 </td><td style=\"text-align: right;\">-0.0106833 </td><td style=\"text-align: right;\">-0.111512 </td><td style=\"text-align: right;\">-0.213757 </td><td style=\"text-align: right;\">0.073385 </td><td style=\"text-align: right;\">-0.153582</td><td style=\"text-align: right;\"> 0.141218 </td><td style=\"text-align: right;\">-0.0376983 </td><td style=\"text-align: right;\">-0.0335301</td><td style=\"text-align: right;\"> 0.0531528</td><td style=\"text-align: right;\">-0.0861279</td><td style=\"text-align: right;\">-0.0762934</td><td style=\"text-align: right;\">-0.0815026 </td><td style=\"text-align: right;\">0.00668204</td><td style=\"text-align: right;\"> 0.0501057 </td><td style=\"text-align: right;\">-0.0759953</td><td style=\"text-align: right;\">0.127181 </td><td style=\"text-align: right;\">-0.0119659</td><td style=\"text-align: right;\">-0.135861 </td><td style=\"text-align: right;\">-0.122489 </td><td style=\"text-align: right;\">-0.163083 </td><td style=\"text-align: right;\">-0.171016 </td><td style=\"text-align: right;\">0.0526725</td><td style=\"text-align: right;\"> 0.0832139</td><td style=\"text-align: right;\">-0.188425 </td><td style=\"text-align: right;\">-0.0916266 </td><td style=\"text-align: right;\">-0.338605</td><td style=\"text-align: right;\">-0.00399898</td><td style=\"text-align: right;\"> 0.0260595</td><td style=\"text-align: right;\">-0.0246237</td><td style=\"text-align: right;\"> 0.171889 </td><td style=\"text-align: right;\"> 0.105835 </td><td style=\"text-align: right;\">-0.0518618</td><td style=\"text-align: right;\">-0.199156</td><td style=\"text-align: right;\">-0.0302451</td><td style=\"text-align: right;\"> 0.029168  </td><td style=\"text-align: right;\">-0.0605276</td><td style=\"text-align: right;\">-0.000345358</td><td style=\"text-align: right;\">0.165904 </td><td style=\"text-align: right;\">-0.0233   </td><td style=\"text-align: right;\">0.0645165</td><td style=\"text-align: right;\">0.175994 </td><td style=\"text-align: right;\">-0.0128503</td><td style=\"text-align: right;\"> 0.00556123</td><td style=\"text-align: right;\">-0.148185</td><td style=\"text-align: right;\">0.0647074</td><td style=\"text-align: right;\">-0.0655133</td><td style=\"text-align: right;\"> 0.109818 </td><td style=\"text-align: right;\">-0.160075 </td><td style=\"text-align: right;\">-0.0980714</td><td style=\"text-align: right;\"> 0.0657223</td><td style=\"text-align: right;\">-0.167929 </td><td style=\"text-align: right;\">-0.116278 </td><td style=\"text-align: right;\">-0.0826049</td><td style=\"text-align: right;\">-0.161904 </td><td style=\"text-align: right;\">-0.0532542</td><td style=\"text-align: right;\">0.0523066</td><td style=\"text-align: right;\">-0.0216527 </td><td style=\"text-align: right;\"> 0.00170167</td><td style=\"text-align: right;\">-0.0568486</td><td style=\"text-align: right;\">0.223775</td><td style=\"text-align: right;\"> 0.095738 </td></tr>\n",
       "</tbody>\n",
       "</table>"
      ]
     },
     "metadata": {},
     "output_type": "display_data"
    },
    {
     "data": {
      "text/plain": []
     },
     "execution_count": 27,
     "metadata": {},
     "output_type": "execute_result"
    }
   ],
   "source": [
    "ext_reviews.head(3)"
   ]
  },
  {
   "cell_type": "code",
   "execution_count": 28,
   "metadata": {},
   "outputs": [],
   "source": [
    "ext_train = ext_reviews[ext_reviews[\"Train\"] == \"Yes\"]\n",
    "ext_test = ext_reviews[ext_reviews[\"Train\"] == \"No\"]"
   ]
  },
  {
   "cell_type": "code",
   "execution_count": 29,
   "metadata": {},
   "outputs": [],
   "source": [
    "predictors = ['date','review_id','user_id','cool','useful','funny'] + review_vecs.names\n",
    "response = 'PositiveReview'"
   ]
  },
  {
   "cell_type": "markdown",
   "metadata": {},
   "source": [
    "## 1.5 Leaderboard"
   ]
  },
  {
   "cell_type": "code",
   "execution_count": 90,
   "metadata": {},
   "outputs": [],
   "source": [
    "aml = H2OAutoML()"
   ]
  },
  {
   "cell_type": "code",
   "execution_count": 92,
   "metadata": {},
   "outputs": [
    {
     "name": "stdout",
     "output_type": "stream",
     "text": [
      "AutoML progress: |████████████████████████████████████████████████████████| 100%\n"
     ]
    }
   ],
   "source": [
    "aml.train(x=predictors,y=response,training_frame=ext_test)"
   ]
  },
  {
   "cell_type": "code",
   "execution_count": 93,
   "metadata": {},
   "outputs": [
    {
     "data": {
      "text/html": [
       "<table>\n",
       "<thead>\n",
       "<tr><th>model_id                                          </th><th style=\"text-align: right;\">     auc</th><th style=\"text-align: right;\">  logloss</th><th style=\"text-align: right;\">  mean_per_class_error</th><th style=\"text-align: right;\">    rmse</th><th style=\"text-align: right;\">     mse</th></tr>\n",
       "</thead>\n",
       "<tbody>\n",
       "<tr><td>XGBoost_1_AutoML_20190426_140523                  </td><td style=\"text-align: right;\">0.846889</td><td style=\"text-align: right;\"> 0.436274</td><td style=\"text-align: right;\">              0.275104</td><td style=\"text-align: right;\">0.374472</td><td style=\"text-align: right;\">0.140229</td></tr>\n",
       "<tr><td>GLM_grid_1_AutoML_20190426_140523_model_1         </td><td style=\"text-align: right;\">0.84419 </td><td style=\"text-align: right;\"> 0.44428 </td><td style=\"text-align: right;\">              0.271968</td><td style=\"text-align: right;\">0.376596</td><td style=\"text-align: right;\">0.141824</td></tr>\n",
       "<tr><td>XGBoost_grid_1_AutoML_20190426_140523_model_8     </td><td style=\"text-align: right;\">0.843375</td><td style=\"text-align: right;\"> 0.440441</td><td style=\"text-align: right;\">              0.260929</td><td style=\"text-align: right;\">0.377569</td><td style=\"text-align: right;\">0.142559</td></tr>\n",
       "<tr><td>DeepLearning_grid_1_AutoML_20190426_140523_model_1</td><td style=\"text-align: right;\">0.841085</td><td style=\"text-align: right;\"> 0.466155</td><td style=\"text-align: right;\">              0.280023</td><td style=\"text-align: right;\">0.382047</td><td style=\"text-align: right;\">0.14596 </td></tr>\n",
       "<tr><td>XGBoost_2_AutoML_20190426_140523                  </td><td style=\"text-align: right;\">0.840194</td><td style=\"text-align: right;\"> 0.448026</td><td style=\"text-align: right;\">              0.32472 </td><td style=\"text-align: right;\">0.380326</td><td style=\"text-align: right;\">0.144648</td></tr>\n",
       "<tr><td>XGBoost_grid_1_AutoML_20190426_140523_model_10    </td><td style=\"text-align: right;\">0.839452</td><td style=\"text-align: right;\"> 0.450697</td><td style=\"text-align: right;\">              0.317931</td><td style=\"text-align: right;\">0.380994</td><td style=\"text-align: right;\">0.145157</td></tr>\n",
       "<tr><td>XGBoost_grid_1_AutoML_20190426_140523_model_3     </td><td style=\"text-align: right;\">0.83757 </td><td style=\"text-align: right;\"> 0.455414</td><td style=\"text-align: right;\">              0.298487</td><td style=\"text-align: right;\">0.383773</td><td style=\"text-align: right;\">0.147282</td></tr>\n",
       "<tr><td>XGBoost_3_AutoML_20190426_140523                  </td><td style=\"text-align: right;\">0.837124</td><td style=\"text-align: right;\"> 0.45012 </td><td style=\"text-align: right;\">              0.307592</td><td style=\"text-align: right;\">0.381667</td><td style=\"text-align: right;\">0.14567 </td></tr>\n",
       "<tr><td>GBM_5_AutoML_20190426_140523                      </td><td style=\"text-align: right;\">0.836641</td><td style=\"text-align: right;\"> 0.452982</td><td style=\"text-align: right;\">              0.327585</td><td style=\"text-align: right;\">0.383299</td><td style=\"text-align: right;\">0.146918</td></tr>\n",
       "<tr><td>XGBoost_grid_1_AutoML_20190426_140523_model_2     </td><td style=\"text-align: right;\">0.836577</td><td style=\"text-align: right;\"> 0.455647</td><td style=\"text-align: right;\">              0.303127</td><td style=\"text-align: right;\">0.383852</td><td style=\"text-align: right;\">0.147342</td></tr>\n",
       "</tbody>\n",
       "</table>"
      ]
     },
     "metadata": {},
     "output_type": "display_data"
    },
    {
     "name": "stdout",
     "output_type": "stream",
     "text": [
      "\n"
     ]
    }
   ],
   "source": [
    "print(aml.leaderboard)"
   ]
  },
  {
   "cell_type": "markdown",
   "metadata": {},
   "source": [
    "# 2 Training Models"
   ]
  },
  {
   "cell_type": "markdown",
   "metadata": {},
   "source": [
    "## 2.1 Generalized Linear Model"
   ]
  },
  {
   "cell_type": "markdown",
   "metadata": {},
   "source": [
    "### 2.1.1 Train & Fit Model"
   ]
  },
  {
   "cell_type": "code",
   "execution_count": 71,
   "metadata": {},
   "outputs": [
    {
     "name": "stdout",
     "output_type": "stream",
     "text": [
      "glm Model Build progress: |███████████████████████████████████████████████| 100%\n"
     ]
    }
   ],
   "source": [
    "# Initialize\n",
    "local_glm_plus = H2OGeneralizedLinearEstimator(family='binomial', model_id='glm_surrogate', lambda_search=True)\n",
    "# train \n",
    "local_glm_plus.train(x=predictors, y=response, training_frame=ext_train)"
   ]
  },
  {
   "cell_type": "markdown",
   "metadata": {},
   "source": [
    "### 2.1.2 Interpretability"
   ]
  },
  {
   "cell_type": "markdown",
   "metadata": {},
   "source": [
    "#### Variable Importance"
   ]
  },
  {
   "cell_type": "code",
   "execution_count": 72,
   "metadata": {},
   "outputs": [
    {
     "data": {
      "image/png": "[encoded data removed]",
      "text/plain": [
       "<Figure size 1008x720 with 1 Axes>"
      ]
     },
     "metadata": {
      "needs_background": "light"
     },
     "output_type": "display_data"
    }
   ],
   "source": [
    "local_glm_plus.varimp_plot()"
   ]
  },
  {
   "cell_type": "markdown",
   "metadata": {},
   "source": [
    "#### Partial Dependence Plot (PDP)"
   ]
  },
  {
   "cell_type": "code",
   "execution_count": 81,
   "metadata": {},
   "outputs": [
    {
     "name": "stdout",
     "output_type": "stream",
     "text": [
      "PartialDependencePlot progress: |█████████████████████████████████████████| 100%\n"
     ]
    },
    {
     "data": {
      "image/png": "[encoded data removed]",
      "text/plain": [
       "<Figure size 504x720 with 1 Axes>"
      ]
     },
     "metadata": {
      "needs_background": "light"
     },
     "output_type": "display_data"
    }
   ],
   "source": [
    "pdp_local_linear_plus = local_glm_plus.partial_plot(data = ext_train, cols = [\"cool\"])"
   ]
  },
  {
   "cell_type": "markdown",
   "metadata": {},
   "source": [
    "#### Individual Conditional Expectation (ICE)"
   ]
  },
  {
   "cell_type": "code",
   "execution_count": 39,
   "metadata": {},
   "outputs": [
    {
     "name": "stdout",
     "output_type": "stream",
     "text": [
      "Parse progress: |█████████████████████████████████████████████████████████| 100%\n",
      "glm prediction progress: |████████████████████████████████████████████████| 100%\n"
     ]
    }
   ],
   "source": [
    "cool_ice_df = ice(data=ext_test, column='cool', model=local_glm_plus)"
   ]
  },
  {
   "cell_type": "code",
   "execution_count": 40,
   "metadata": {
    "scrolled": false
   },
   "outputs": [
    {
     "data": {
      "image/png": "[encoded data removed]",
      "text/plain": [
       "<Figure size 1008x792 with 2 Axes>"
      ]
     },
     "metadata": {
      "needs_background": "light"
     },
     "output_type": "display_data"
    }
   ],
   "source": [
    "ice_plot(cool_ice_df, linewidth=0.5, color_by='Id', cmap='coolwarm',\n",
    "        plot_pdp=True, pdp_kwargs={'c': 'k', 'linewidth': 3})\n",
    "vals = cool_ice_df.columns.get_level_values('Id').values\n",
    "sm = plt.cm.ScalarMappable(cmap='coolwarm', norm=plt.Normalize(vmin=vals.min(), vmax=vals.max()))\n",
    "sm._A = []\n",
    "plt.colorbar(sm, label='Id')\n",
    "plt.ylabel('Pred. AV %ile')\n",
    "plt.xlabel('cool');"
   ]
  },
  {
   "cell_type": "markdown",
   "metadata": {},
   "source": [
    "### 2.1.3 Matrix"
   ]
  },
  {
   "cell_type": "code",
   "execution_count": 41,
   "metadata": {},
   "outputs": [
    {
     "name": "stdout",
     "output_type": "stream",
     "text": [
      "\n",
      "Local GLM Coefficients:\n",
      "C79:                      -5.018925505102411\n",
      "C57:                      -4.644016082846337\n",
      "C41:                      -3.878943522779333\n",
      "C60:                      -3.5380527217071758\n",
      "C8:                       -3.5320296316417052\n",
      "C56:                      -3.5291116491948458\n",
      "C63:                      -2.795024660672351\n",
      "C45:                      -2.5072228961521676\n",
      "C77:                      -2.4424988538820256\n",
      "C64:                      -2.350217340582202\n",
      "C18:                      -2.1559747144246257\n",
      "C71:                      -2.0820763289959894\n",
      "C31:                      -2.070175151884911\n",
      "C5:                       -1.9937596154786532\n",
      "C73:                      -1.9482301970044602\n",
      "C39:                      -1.8800649674481873\n",
      "C94:                      -1.869277240029466\n",
      "C14:                      -1.7688666222541425\n",
      "C100:                     -1.7632479917523838\n",
      "C28:                      -1.5875909568990183\n",
      "C88:                      -1.5156756235278732\n",
      "C69:                      -1.1406926282090912\n",
      "user_id.fczQCSmaWF78toLEmb0Zsw: -1.1110106344877169\n",
      "C19:                      -1.0904553812907343\n",
      "C32:                      -0.7176208703866809\n",
      "C7:                       -0.6869439610295494\n",
      "C46:                      -0.6217167614468501\n",
      "C75:                      -0.5346385301191888\n",
      "C3:                       -0.50278587873823\n",
      "C99:                      -0.3898386978414276\n",
      "C11:                      -0.2989818642968408\n",
      "funny:                    -0.17288981368685458\n",
      "useful:                   -0.11061874451015238\n",
      "C27:                      -0.09629239922693454\n",
      "C87:                      -0.09547572415528903\n",
      "C89:                      -0.0768356409292549\n",
      "C82:                      -0.03721980125102483\n",
      "C52:                      -0.03667192514840263\n",
      "C24:                      -0.03176722644739944\n",
      "date:                     4.847044966885466e-14\n",
      "C97:                      0.05558650072476078\n",
      "C22:                      0.12936962261884358\n",
      "C91:                      0.144815382218925\n",
      "cool:                     0.35226119283416735\n",
      "C61:                      0.36385588516798556\n",
      "Intercept:                0.4032689783160389\n",
      "C26:                      0.4641640357138388\n",
      "C54:                      0.5106084661594232\n",
      "C44:                      0.7553362182666102\n",
      "C67:                      0.8108793527527715\n",
      "C43:                      0.8618824189788714\n",
      "C4:                       0.9292350520057298\n",
      "C21:                      1.00973310019791\n",
      "C58:                      1.092905481465508\n",
      "C12:                      1.1174752440904268\n",
      "C47:                      1.2015070717617657\n",
      "C66:                      1.2054554684718173\n",
      "C20:                      1.216121487290742\n",
      "C95:                      1.2823107015554085\n",
      "C68:                      1.3052078136065177\n",
      "C84:                      1.3218629368478712\n",
      "C62:                      1.3235832596567534\n",
      "C72:                      1.6257180753145248\n",
      "C33:                      1.6550800031907713\n",
      "C36:                      1.8205031738610118\n",
      "C48:                      1.8330479274652771\n",
      "C81:                      1.8910365071612805\n",
      "C42:                      1.8962973700282149\n",
      "C93:                      1.9232043624250799\n",
      "C40:                      1.9444123548983732\n",
      "C90:                      2.2841290181492644\n",
      "C98:                      2.4088549089445044\n",
      "C70:                      2.536408909817701\n",
      "C16:                      2.563553019272578\n",
      "C85:                      2.5663995053991595\n",
      "C76:                      2.663099428528668\n",
      "C35:                      2.834828609771225\n",
      "C2:                       2.862676245422924\n",
      "C83:                      2.8704512378780955\n",
      "C13:                      2.9616164412968935\n",
      "C25:                      3.291022494216098\n",
      "C74:                      3.362097941420352\n",
      "C37:                      3.4931992513665833\n",
      "C96:                      3.513221171435621\n",
      "C78:                      3.6692328554401428\n",
      "C55:                      4.010816823260895\n",
      "C92:                      4.042594822176366\n",
      "C86:                      4.223601862406334\n",
      "C1:                       4.320939837632764\n",
      "C53:                      4.4518901854270565\n",
      "C29:                      4.637415537428451\n",
      "C23:                      4.884620073420407\n",
      "C10:                      4.897270054880323\n",
      "C49:                      5.037391035586386\n",
      "C30:                      6.4983402576081515\n",
      "C34:                      6.8098970113700785\n"
     ]
    }
   ],
   "source": [
    "print('\\nLocal GLM Coefficients:')\n",
    "for c_name, c_val in sorted(local_glm_plus.coef().items(), key=operator.itemgetter(1)):\n",
    "    if c_val != 0.0:\n",
    "        print('%s %s' % (str(c_name + ':').ljust(25), c_val))"
   ]
  },
  {
   "cell_type": "code",
   "execution_count": 42,
   "metadata": {},
   "outputs": [
    {
     "data": {
      "text/plain": [
       "{'train': 0.3984611909068989, 'valid': None}"
      ]
     },
     "execution_count": 42,
     "metadata": {},
     "output_type": "execute_result"
    }
   ],
   "source": [
    "local_glm_plus.r2(train=True, valid=True)"
   ]
  },
  {
   "cell_type": "code",
   "execution_count": 43,
   "metadata": {},
   "outputs": [
    {
     "data": {
      "text/plain": [
       "0.8728432206966407"
      ]
     },
     "execution_count": 43,
     "metadata": {},
     "output_type": "execute_result"
    }
   ],
   "source": [
    "local_glm_plus.auc()"
   ]
  },
  {
   "cell_type": "code",
   "execution_count": 44,
   "metadata": {},
   "outputs": [
    {
     "name": "stdout",
     "output_type": "stream",
     "text": [
      "Confusion Matrix (Act/Pred) for max f1 @ threshold = 0.5361433357375776: \n"
     ]
    },
    {
     "data": {
      "text/html": [
       "<div style=\"overflow:auto\"><table style=\"width:50%\"><tr><td><b></b></td>\n",
       "<td><b>0</b></td>\n",
       "<td><b>1</b></td>\n",
       "<td><b>Error</b></td>\n",
       "<td><b>Rate</b></td></tr>\n",
       "<tr><td>0</td>\n",
       "<td>1762.0</td>\n",
       "<td>838.0</td>\n",
       "<td>0.3223</td>\n",
       "<td> (838.0/2600.0)</td></tr>\n",
       "<tr><td>1</td>\n",
       "<td>635.0</td>\n",
       "<td>4833.0</td>\n",
       "<td>0.1161</td>\n",
       "<td> (635.0/5468.0)</td></tr>\n",
       "<tr><td>Total</td>\n",
       "<td>2397.0</td>\n",
       "<td>5671.0</td>\n",
       "<td>0.1826</td>\n",
       "<td> (1473.0/8068.0)</td></tr></table></div>"
      ],
      "text/plain": [
       "       0     1     Error    Rate\n",
       "-----  ----  ----  -------  ---------------\n",
       "0      1762  838   0.3223   (838.0/2600.0)\n",
       "1      635   4833  0.1161   (635.0/5468.0)\n",
       "Total  2397  5671  0.1826   (1473.0/8068.0)"
      ]
     },
     "metadata": {},
     "output_type": "display_data"
    },
    {
     "data": {
      "text/plain": []
     },
     "execution_count": 44,
     "metadata": {},
     "output_type": "execute_result"
    }
   ],
   "source": [
    "local_glm_plus.confusion_matrix()"
   ]
  },
  {
   "cell_type": "markdown",
   "metadata": {},
   "source": [
    "## 2.2 Logistic Regression"
   ]
  },
  {
   "cell_type": "markdown",
   "metadata": {},
   "source": [
    "### 2.2.1 Train & Fit Model"
   ]
  },
  {
   "cell_type": "code",
   "execution_count": 34,
   "metadata": {},
   "outputs": [
    {
     "name": "stdout",
     "output_type": "stream",
     "text": [
      "glm Model Build progress: |███████████████████████████████████████████████| 100%\n"
     ]
    }
   ],
   "source": [
    "glm_logistic_plus_summary = H2OGeneralizedLinearEstimator(family = \"binomial\")\n",
    "glm_logistic_plus_summary.train(x=predictors, \n",
    "                               y= response, \n",
    "                               training_frame = ext_train, \n",
    "                               validation_frame = ext_test, \n",
    "                               model_id=\"glm_logistic\")"
   ]
  },
  {
   "cell_type": "markdown",
   "metadata": {},
   "source": [
    "### 2.2.2 Interpretability"
   ]
  },
  {
   "cell_type": "markdown",
   "metadata": {},
   "source": [
    "#### Variable Importance"
   ]
  },
  {
   "cell_type": "code",
   "execution_count": 35,
   "metadata": {},
   "outputs": [
    {
     "data": {
      "image/png": "[encoded data removed]",
      "text/plain": [
       "<Figure size 1008x720 with 1 Axes>"
      ]
     },
     "metadata": {
      "needs_background": "light"
     },
     "output_type": "display_data"
    }
   ],
   "source": [
    "glm_logistic_plus_summary.varimp_plot()"
   ]
  },
  {
   "cell_type": "markdown",
   "metadata": {},
   "source": [
    "#### Partial Dependence Plot (PDP)"
   ]
  },
  {
   "cell_type": "code",
   "execution_count": 36,
   "metadata": {},
   "outputs": [
    {
     "name": "stdout",
     "output_type": "stream",
     "text": [
      "PartialDependencePlot progress: |█████████████████████████████████████████| 100%\n"
     ]
    },
    {
     "data": {
      "image/png": "[encoded data removed]",
      "text/plain": [
       "<Figure size 504x720 with 1 Axes>"
      ]
     },
     "metadata": {
      "needs_background": "light"
     },
     "output_type": "display_data"
    }
   ],
   "source": [
    "pdp_word_vecs = glm_logistic_plus_summary.partial_plot(data = ext_train, cols = [\"C39\"])"
   ]
  },
  {
   "cell_type": "markdown",
   "metadata": {},
   "source": [
    "#### Individual Conditional Expectation (ICE)"
   ]
  },
  {
   "cell_type": "code",
   "execution_count": 37,
   "metadata": {},
   "outputs": [],
   "source": [
    "ext_train_lice = ext_train_simple.sort('C39')"
   ]
  },
  {
   "cell_type": "code",
   "execution_count": 39,
   "metadata": {},
   "outputs": [
    {
     "name": "stdout",
     "output_type": "stream",
     "text": [
      "Parse progress: |█████████████████████████████████████████████████████████| 100%\n"
     ]
    }
   ],
   "source": [
    "ext_train_lice = h2o.H2OFrame(ext_train_lice.as_data_frame().iloc[::25])"
   ]
  },
  {
   "cell_type": "code",
   "execution_count": 38,
   "metadata": {},
   "outputs": [
    {
     "data": {
      "text/plain": [
       "(8068, 111)"
      ]
     },
     "execution_count": 38,
     "metadata": {},
     "output_type": "execute_result"
    }
   ],
   "source": [
    "ext_train_lice.shape"
   ]
  },
  {
   "cell_type": "code",
   "execution_count": 41,
   "metadata": {},
   "outputs": [
    {
     "name": "stdout",
     "output_type": "stream",
     "text": [
      "Parse progress: |█████████████████████████████████████████████████████████| 100%\n",
      "glm prediction progress: |████████████████████████████████████████████████| 100%\n"
     ]
    }
   ],
   "source": [
    "C39_ice_df = ice(data=ext_train_lice, column='C39', model=glm_logistic_plus_summary)"
   ]
  },
  {
   "cell_type": "code",
   "execution_count": 43,
   "metadata": {},
   "outputs": [
    {
     "data": {
      "image/png": "[encoded data removed]",
      "text/plain": [
       "<Figure size 1008x792 with 2 Axes>"
      ]
     },
     "metadata": {
      "needs_background": "light"
     },
     "output_type": "display_data"
    }
   ],
   "source": [
    "ice_plot(C39_ice_df, linewidth=0.5, color_by='Id', cmap='coolwarm',\n",
    "        plot_pdp=True, pdp_kwargs={'c': 'k', 'linewidth': 3})\n",
    "vals = C39_ice_df.columns.get_level_values('Id').values\n",
    "sm = plt.cm.ScalarMappable(cmap='coolwarm', norm=plt.Normalize(vmin=vals.min(), vmax=vals.max()))\n",
    "sm._A = []\n",
    "plt.colorbar(sm, label='Id')\n",
    "plt.ylabel('Pred. AV %ile')\n",
    "plt.xlabel('C39');"
   ]
  },
  {
   "cell_type": "markdown",
   "metadata": {},
   "source": [
    "### 2.2.3 Matrix"
   ]
  },
  {
   "cell_type": "code",
   "execution_count": 44,
   "metadata": {},
   "outputs": [
    {
     "name": "stdout",
     "output_type": "stream",
     "text": [
      "With Summary and Review Embeddings AUC: 0.842\n"
     ]
    }
   ],
   "source": [
    "print(\"With Summary and Review Embeddings AUC: \" + str(round(glm_logistic_plus_summary.auc(valid = True), 3)))"
   ]
  },
  {
   "cell_type": "code",
   "execution_count": 45,
   "metadata": {},
   "outputs": [
    {
     "name": "stdout",
     "output_type": "stream",
     "text": [
      "Confusion Matrix (Act/Pred) for max f1 @ threshold = 0.5070642821523546: \n"
     ]
    },
    {
     "data": {
      "text/html": [
       "<div style=\"overflow:auto\"><table style=\"width:50%\"><tr><td><b></b></td>\n",
       "<td><b>0</b></td>\n",
       "<td><b>1</b></td>\n",
       "<td><b>Error</b></td>\n",
       "<td><b>Rate</b></td></tr>\n",
       "<tr><td>0</td>\n",
       "<td>336.0</td>\n",
       "<td>286.0</td>\n",
       "<td>0.4598</td>\n",
       "<td> (286.0/622.0)</td></tr>\n",
       "<tr><td>1</td>\n",
       "<td>121.0</td>\n",
       "<td>1275.0</td>\n",
       "<td>0.0867</td>\n",
       "<td> (121.0/1396.0)</td></tr>\n",
       "<tr><td>Total</td>\n",
       "<td>457.0</td>\n",
       "<td>1561.0</td>\n",
       "<td>0.2017</td>\n",
       "<td> (407.0/2018.0)</td></tr></table></div>"
      ],
      "text/plain": [
       "       0    1     Error    Rate\n",
       "-----  ---  ----  -------  --------------\n",
       "0      336  286   0.4598   (286.0/622.0)\n",
       "1      121  1275  0.0867   (121.0/1396.0)\n",
       "Total  457  1561  0.2017   (407.0/2018.0)"
      ]
     },
     "metadata": {},
     "output_type": "display_data"
    },
    {
     "data": {
      "text/plain": []
     },
     "execution_count": 45,
     "metadata": {},
     "output_type": "execute_result"
    }
   ],
   "source": [
    "glm_logistic_plus_summary.confusion_matrix(valid = True)"
   ]
  },
  {
   "cell_type": "code",
   "execution_count": 46,
   "metadata": {},
   "outputs": [
    {
     "name": "stdout",
     "output_type": "stream",
     "text": [
      "Confusion Matrix (Act/Pred) for max f1 @ threshold = 0.5070642821523546: \n"
     ]
    },
    {
     "data": {
      "text/html": [
       "<div style=\"overflow:auto\"><table style=\"width:50%\"><tr><td><b></b></td>\n",
       "<td><b>0</b></td>\n",
       "<td><b>1</b></td>\n",
       "<td><b>Error</b></td>\n",
       "<td><b>Rate</b></td></tr>\n",
       "<tr><td>0</td>\n",
       "<td>336.0</td>\n",
       "<td>286.0</td>\n",
       "<td>0.4598</td>\n",
       "<td> (286.0/622.0)</td></tr>\n",
       "<tr><td>1</td>\n",
       "<td>121.0</td>\n",
       "<td>1275.0</td>\n",
       "<td>0.0867</td>\n",
       "<td> (121.0/1396.0)</td></tr>\n",
       "<tr><td>Total</td>\n",
       "<td>457.0</td>\n",
       "<td>1561.0</td>\n",
       "<td>0.2017</td>\n",
       "<td> (407.0/2018.0)</td></tr></table></div>"
      ],
      "text/plain": [
       "       0    1     Error    Rate\n",
       "-----  ---  ----  -------  --------------\n",
       "0      336  286   0.4598   (286.0/622.0)\n",
       "1      121  1275  0.0867   (121.0/1396.0)\n",
       "Total  457  1561  0.2017   (407.0/2018.0)"
      ]
     },
     "metadata": {},
     "output_type": "display_data"
    },
    {
     "data": {
      "text/plain": []
     },
     "execution_count": 46,
     "metadata": {},
     "output_type": "execute_result"
    }
   ],
   "source": [
    "glm_logistic_plus_summary.confusion_matrix(valid = True)"
   ]
  },
  {
   "cell_type": "markdown",
   "metadata": {},
   "source": [
    "## 2.3 Decision Tree"
   ]
  },
  {
   "cell_type": "markdown",
   "metadata": {},
   "source": [
    "### 2.3.1 Train & Fit Model"
   ]
  },
  {
   "cell_type": "code",
   "execution_count": 31,
   "metadata": {},
   "outputs": [
    {
     "name": "stdout",
     "output_type": "stream",
     "text": [
      "gbm Model Build progress: |███████████████████████████████████████████████| 100%\n"
     ]
    }
   ],
   "source": [
    "# initialize single tree surrogate model\n",
    "model_id = 'dt_surrogate_mojo'\n",
    "\n",
    "# train single tree surrogate model\n",
    "surrogate = H2OGradientBoostingEstimator(ntrees=1,\n",
    "                                         sample_rate=1,\n",
    "                                         col_sample_rate=1,\n",
    "                                         max_depth=3,\n",
    "                                         seed=12345,\n",
    "                                         model_id=model_id)\n",
    "\n",
    "_ = surrogate.train(x=predictors, y=response, training_frame=ext_train)"
   ]
  },
  {
   "cell_type": "code",
   "execution_count": 32,
   "metadata": {},
   "outputs": [
    {
     "name": "stdout",
     "output_type": "stream",
     "text": [
      "Model Details\n",
      "=============\n",
      "H2OGradientBoostingEstimator :  Gradient Boosting Machine\n",
      "Model Key:  dt_surrogate_mojo\n",
      "\n",
      "\n",
      "ModelMetricsBinomial: gbm\n",
      "** Reported on train data. **\n",
      "\n",
      "MSE: 0.21083847996491153\n",
      "RMSE: 0.45917151475773355\n",
      "LogLoss: 0.6113959663662526\n",
      "Mean Per-Class Error: 0.30551375837037864\n",
      "AUC: 0.7475232119745653\n",
      "pr_auc: 0.5517806090318984\n",
      "Gini: 0.49504642394913057\n",
      "Confusion Matrix (Act/Pred) for max f1 @ threshold = 0.6563125396395844: \n"
     ]
    },
    {
     "data": {
      "text/html": [
       "<div style=\"overflow:auto\"><table style=\"width:50%\"><tr><td><b></b></td>\n",
       "<td><b>0</b></td>\n",
       "<td><b>1</b></td>\n",
       "<td><b>Error</b></td>\n",
       "<td><b>Rate</b></td></tr>\n",
       "<tr><td>0</td>\n",
       "<td>998.0</td>\n",
       "<td>1602.0</td>\n",
       "<td>0.6162</td>\n",
       "<td> (1602.0/2600.0)</td></tr>\n",
       "<tr><td>1</td>\n",
       "<td>504.0</td>\n",
       "<td>4964.0</td>\n",
       "<td>0.0922</td>\n",
       "<td> (504.0/5468.0)</td></tr>\n",
       "<tr><td>Total</td>\n",
       "<td>1502.0</td>\n",
       "<td>6566.0</td>\n",
       "<td>0.261</td>\n",
       "<td> (2106.0/8068.0)</td></tr></table></div>"
      ],
      "text/plain": [
       "       0     1     Error    Rate\n",
       "-----  ----  ----  -------  ---------------\n",
       "0      998   1602  0.6162   (1602.0/2600.0)\n",
       "1      504   4964  0.0922   (504.0/5468.0)\n",
       "Total  1502  6566  0.261    (2106.0/8068.0)"
      ]
     },
     "metadata": {},
     "output_type": "display_data"
    },
    {
     "name": "stdout",
     "output_type": "stream",
     "text": [
      "Maximum Metrics: Maximum metrics at their respective thresholds\n",
      "\n"
     ]
    },
    {
     "data": {
      "text/html": [
       "<div style=\"overflow:auto\"><table style=\"width:50%\"><tr><td><b>metric</b></td>\n",
       "<td><b>threshold</b></td>\n",
       "<td><b>value</b></td>\n",
       "<td><b>idx</b></td></tr>\n",
       "<tr><td>max f1</td>\n",
       "<td>0.6563125</td>\n",
       "<td>0.8249958</td>\n",
       "<td>6.0</td></tr>\n",
       "<tr><td>max f2</td>\n",
       "<td>0.6426143</td>\n",
       "<td>0.9131597</td>\n",
       "<td>7.0</td></tr>\n",
       "<tr><td>max f0point5</td>\n",
       "<td>0.6739827</td>\n",
       "<td>0.8002268</td>\n",
       "<td>4.0</td></tr>\n",
       "<tr><td>max accuracy</td>\n",
       "<td>0.6678134</td>\n",
       "<td>0.7424393</td>\n",
       "<td>5.0</td></tr>\n",
       "<tr><td>max precision</td>\n",
       "<td>0.6993376</td>\n",
       "<td>0.8977733</td>\n",
       "<td>0.0</td></tr>\n",
       "<tr><td>max recall</td>\n",
       "<td>0.6426143</td>\n",
       "<td>1.0</td>\n",
       "<td>7.0</td></tr>\n",
       "<tr><td>max specificity</td>\n",
       "<td>0.6993376</td>\n",
       "<td>0.9223077</td>\n",
       "<td>0.0</td></tr>\n",
       "<tr><td>max absolute_mcc</td>\n",
       "<td>0.6739827</td>\n",
       "<td>0.3800714</td>\n",
       "<td>4.0</td></tr>\n",
       "<tr><td>max min_per_class_accuracy</td>\n",
       "<td>0.6847630</td>\n",
       "<td>0.6376923</td>\n",
       "<td>3.0</td></tr>\n",
       "<tr><td>max mean_per_class_accuracy</td>\n",
       "<td>0.6847630</td>\n",
       "<td>0.6944862</td>\n",
       "<td>3.0</td></tr></table></div>"
      ],
      "text/plain": [
       "metric                       threshold    value     idx\n",
       "---------------------------  -----------  --------  -----\n",
       "max f1                       0.656313     0.824996  6\n",
       "max f2                       0.642614     0.91316   7\n",
       "max f0point5                 0.673983     0.800227  4\n",
       "max accuracy                 0.667813     0.742439  5\n",
       "max precision                0.699338     0.897773  0\n",
       "max recall                   0.642614     1         7\n",
       "max specificity              0.699338     0.922308  0\n",
       "max absolute_mcc             0.673983     0.380071  4\n",
       "max min_per_class_accuracy   0.684763     0.637692  3\n",
       "max mean_per_class_accuracy  0.684763     0.694486  3"
      ]
     },
     "metadata": {},
     "output_type": "display_data"
    },
    {
     "name": "stdout",
     "output_type": "stream",
     "text": [
      "Gains/Lift Table: Avg response rate: 67.77 %, avg score: 67.74 %\n",
      "\n"
     ]
    },
    {
     "data": {
      "text/html": [
       "<div style=\"overflow:auto\"><table style=\"width:50%\"><tr><td><b></b></td>\n",
       "<td><b>group</b></td>\n",
       "<td><b>cumulative_data_fraction</b></td>\n",
       "<td><b>lower_threshold</b></td>\n",
       "<td><b>lift</b></td>\n",
       "<td><b>cumulative_lift</b></td>\n",
       "<td><b>response_rate</b></td>\n",
       "<td><b>score</b></td>\n",
       "<td><b>cumulative_response_rate</b></td>\n",
       "<td><b>cumulative_score</b></td>\n",
       "<td><b>capture_rate</b></td>\n",
       "<td><b>cumulative_capture_rate</b></td>\n",
       "<td><b>gain</b></td>\n",
       "<td><b>cumulative_gain</b></td></tr>\n",
       "<tr><td></td>\n",
       "<td>1</td>\n",
       "<td>0.2449182</td>\n",
       "<td>0.6993376</td>\n",
       "<td>1.3246589</td>\n",
       "<td>1.3246589</td>\n",
       "<td>0.8977733</td>\n",
       "<td>0.6993376</td>\n",
       "<td>0.8977733</td>\n",
       "<td>0.6993376</td>\n",
       "<td>0.3244331</td>\n",
       "<td>0.3244331</td>\n",
       "<td>32.4658891</td>\n",
       "<td>32.4658891</td></tr>\n",
       "<tr><td></td>\n",
       "<td>2</td>\n",
       "<td>0.3242439</td>\n",
       "<td>0.6878483</td>\n",
       "<td>1.1504241</td>\n",
       "<td>1.2820326</td>\n",
       "<td>0.7796875</td>\n",
       "<td>0.6878483</td>\n",
       "<td>0.8688838</td>\n",
       "<td>0.6965268</td>\n",
       "<td>0.0912582</td>\n",
       "<td>0.4156913</td>\n",
       "<td>15.0424058</td>\n",
       "<td>28.2032632</td></tr>\n",
       "<tr><td></td>\n",
       "<td>3</td>\n",
       "<td>0.6259296</td>\n",
       "<td>0.6847630</td>\n",
       "<td>1.1123792</td>\n",
       "<td>1.2002631</td>\n",
       "<td>0.7539030</td>\n",
       "<td>0.6853071</td>\n",
       "<td>0.8134653</td>\n",
       "<td>0.6911191</td>\n",
       "<td>0.3355889</td>\n",
       "<td>0.7512802</td>\n",
       "<td>11.2379248</td>\n",
       "<td>20.0263061</td></tr>\n",
       "<tr><td></td>\n",
       "<td>4</td>\n",
       "<td>0.7612791</td>\n",
       "<td>0.6678134</td>\n",
       "<td>0.8890796</td>\n",
       "<td>1.1449371</td>\n",
       "<td>0.6025641</td>\n",
       "<td>0.6701692</td>\n",
       "<td>0.7759687</td>\n",
       "<td>0.6873944</td>\n",
       "<td>0.1203365</td>\n",
       "<td>0.8716167</td>\n",
       "<td>-11.0920413</td>\n",
       "<td>14.4937051</td></tr>\n",
       "<tr><td></td>\n",
       "<td>5</td>\n",
       "<td>0.8138324</td>\n",
       "<td>0.6563125</td>\n",
       "<td>0.6890278</td>\n",
       "<td>1.1154967</td>\n",
       "<td>0.4669811</td>\n",
       "<td>0.6563125</td>\n",
       "<td>0.7560158</td>\n",
       "<td>0.6853873</td>\n",
       "<td>0.0362107</td>\n",
       "<td>0.9078274</td>\n",
       "<td>-31.0972243</td>\n",
       "<td>11.5496670</td></tr>\n",
       "<tr><td></td>\n",
       "<td>6</td>\n",
       "<td>1.0</td>\n",
       "<td>0.6426143</td>\n",
       "<td>0.4951058</td>\n",
       "<td>1.0</td>\n",
       "<td>0.3355526</td>\n",
       "<td>0.6426143</td>\n",
       "<td>0.6777392</td>\n",
       "<td>0.6774243</td>\n",
       "<td>0.0921726</td>\n",
       "<td>1.0</td>\n",
       "<td>-50.4894230</td>\n",
       "<td>0.0</td></tr></table></div>"
      ],
      "text/plain": [
       "    group    cumulative_data_fraction    lower_threshold    lift      cumulative_lift    response_rate    score     cumulative_response_rate    cumulative_score    capture_rate    cumulative_capture_rate    gain      cumulative_gain\n",
       "--  -------  --------------------------  -----------------  --------  -----------------  ---------------  --------  --------------------------  ------------------  --------------  -------------------------  --------  -----------------\n",
       "    1        0.244918                    0.699338           1.32466   1.32466            0.897773         0.699338  0.897773                    0.699338            0.324433        0.324433                   32.4659   32.4659\n",
       "    2        0.324244                    0.687848           1.15042   1.28203            0.779687         0.687848  0.868884                    0.696527            0.0912582       0.415691                   15.0424   28.2033\n",
       "    3        0.62593                     0.684763           1.11238   1.20026            0.753903         0.685307  0.813465                    0.691119            0.335589        0.75128                    11.2379   20.0263\n",
       "    4        0.761279                    0.667813           0.88908   1.14494            0.602564         0.670169  0.775969                    0.687394            0.120337        0.871617                   -11.092   14.4937\n",
       "    5        0.813832                    0.656313           0.689028  1.1155             0.466981         0.656313  0.756016                    0.685387            0.0362107       0.907827                   -31.0972  11.5497\n",
       "    6        1                           0.642614           0.495106  1                  0.335553         0.642614  0.677739                    0.677424            0.0921726       1                          -50.4894  0"
      ]
     },
     "metadata": {},
     "output_type": "display_data"
    },
    {
     "name": "stdout",
     "output_type": "stream",
     "text": [
      "\n",
      "Scoring History: \n"
     ]
    },
    {
     "data": {
      "text/html": [
       "<div style=\"overflow:auto\"><table style=\"width:50%\"><tr><td><b></b></td>\n",
       "<td><b>timestamp</b></td>\n",
       "<td><b>duration</b></td>\n",
       "<td><b>number_of_trees</b></td>\n",
       "<td><b>training_rmse</b></td>\n",
       "<td><b>training_logloss</b></td>\n",
       "<td><b>training_auc</b></td>\n",
       "<td><b>training_pr_auc</b></td>\n",
       "<td><b>training_lift</b></td>\n",
       "<td><b>training_classification_error</b></td></tr>\n",
       "<tr><td></td>\n",
       "<td>2019-04-26 13:01:22</td>\n",
       "<td> 0.040 sec</td>\n",
       "<td>0.0</td>\n",
       "<td>0.4673422</td>\n",
       "<td>0.6285618</td>\n",
       "<td>0.5</td>\n",
       "<td>0.0</td>\n",
       "<td>1.0</td>\n",
       "<td>0.3222608</td></tr>\n",
       "<tr><td></td>\n",
       "<td>2019-04-26 13:01:23</td>\n",
       "<td> 0.270 sec</td>\n",
       "<td>1.0</td>\n",
       "<td>0.4591715</td>\n",
       "<td>0.6113960</td>\n",
       "<td>0.7475232</td>\n",
       "<td>0.5517806</td>\n",
       "<td>1.3246589</td>\n",
       "<td>0.2610312</td></tr></table></div>"
      ],
      "text/plain": [
       "    timestamp            duration    number_of_trees    training_rmse    training_logloss    training_auc    training_pr_auc    training_lift    training_classification_error\n",
       "--  -------------------  ----------  -----------------  ---------------  ------------------  --------------  -----------------  ---------------  -------------------------------\n",
       "    2019-04-26 13:01:22  0.040 sec   0                  0.467342         0.628562            0.5             0                  1                0.322261\n",
       "    2019-04-26 13:01:23  0.270 sec   1                  0.459172         0.611396            0.747523        0.551781           1.32466          0.261031"
      ]
     },
     "metadata": {},
     "output_type": "display_data"
    },
    {
     "name": "stdout",
     "output_type": "stream",
     "text": [
      "Variable Importances: \n"
     ]
    },
    {
     "data": {
      "text/html": [
       "<div style=\"overflow:auto\"><table style=\"width:50%\"><tr><td><b>variable</b></td>\n",
       "<td><b>relative_importance</b></td>\n",
       "<td><b>scaled_importance</b></td>\n",
       "<td><b>percentage</b></td></tr>\n",
       "<tr><td>C78</td>\n",
       "<td>152.7242279</td>\n",
       "<td>1.0</td>\n",
       "<td>0.4794871</td></tr>\n",
       "<tr><td>C39</td>\n",
       "<td>78.1902924</td>\n",
       "<td>0.5119705</td>\n",
       "<td>0.2454832</td></tr>\n",
       "<tr><td>C76</td>\n",
       "<td>53.5171318</td>\n",
       "<td>0.3504168</td>\n",
       "<td>0.1680203</td></tr>\n",
       "<tr><td>C89</td>\n",
       "<td>27.3431969</td>\n",
       "<td>0.1790364</td>\n",
       "<td>0.0858456</td></tr>\n",
       "<tr><td>C41</td>\n",
       "<td>6.7410007</td>\n",
       "<td>0.0441384</td>\n",
       "<td>0.0211638</td></tr>\n",
       "<tr><td>---</td>\n",
       "<td>---</td>\n",
       "<td>---</td>\n",
       "<td>---</td></tr>\n",
       "<tr><td>C96</td>\n",
       "<td>0.0</td>\n",
       "<td>0.0</td>\n",
       "<td>0.0</td></tr>\n",
       "<tr><td>C97</td>\n",
       "<td>0.0</td>\n",
       "<td>0.0</td>\n",
       "<td>0.0</td></tr>\n",
       "<tr><td>C98</td>\n",
       "<td>0.0</td>\n",
       "<td>0.0</td>\n",
       "<td>0.0</td></tr>\n",
       "<tr><td>C99</td>\n",
       "<td>0.0</td>\n",
       "<td>0.0</td>\n",
       "<td>0.0</td></tr>\n",
       "<tr><td>C100</td>\n",
       "<td>0.0</td>\n",
       "<td>0.0</td>\n",
       "<td>0.0</td></tr></table></div>"
      ],
      "text/plain": [
       "variable    relative_importance    scaled_importance     percentage\n",
       "----------  ---------------------  --------------------  -------------------\n",
       "C78         152.72422790527344     1.0                   0.47948705881267306\n",
       "C39         78.19029235839844      0.5119704543989945    0.24548320737876164\n",
       "C76         53.51713180541992      0.3504167776092062    0.16802031005445284\n",
       "C89         27.343196868896484     0.17903640597126466   0.0858456397195534\n",
       "C41         6.741000652313232      0.044138384228691666  0.02116378403455904\n",
       "---         ---                    ---                   ---\n",
       "C96         0.0                    0.0                   0.0\n",
       "C97         0.0                    0.0                   0.0\n",
       "C98         0.0                    0.0                   0.0\n",
       "C99         0.0                    0.0                   0.0\n",
       "C100        0.0                    0.0                   0.0"
      ]
     },
     "metadata": {},
     "output_type": "display_data"
    },
    {
     "name": "stdout",
     "output_type": "stream",
     "text": [
      "\n",
      "See the whole table with table.as_data_frame()\n",
      "\n",
      "Generated MOJO path:\n",
      " /Users/mandy/Desktop/AI-Addin/notebook/data\n"
     ]
    }
   ],
   "source": [
    "# persist MOJO (compiled, representation of trained model)\n",
    "# from which to generate plot of surrogate\n",
    "mojo_path = surrogate.download_mojo(path='data')\n",
    "\n",
    "print(surrogate)\n",
    "print('Generated MOJO path:\\n', mojo_path)"
   ]
  },
  {
   "cell_type": "code",
   "execution_count": 33,
   "metadata": {},
   "outputs": [
    {
     "name": "stdout",
     "output_type": "stream",
     "text": [
      "Discovered H2O jar path:\n",
      " /anaconda3/lib/python3.7/site-packages/h2o/backend/bin/h2o.jar\n",
      "\n",
      "Calling external process ...\n",
      "java -cp /anaconda3/lib/python3.7/site-packages/h2o/backend/bin/h2o.jar hex.genmodel.tools.PrintMojo --tree 0 -i /Users/mandy/Desktop/AI-Addin/notebook/data -o dt_surrogate_mojo.gv --title Yelp Reviews Decision Tree Surrogate\n"
     ]
    }
   ],
   "source": [
    "details = False # print more info on tree, details = True\n",
    "title = 'Yelp Reviews Decision Tree Surrogate'\n",
    "\n",
    "hs = H2OLocalServer()\n",
    "h2o_jar_path = hs._find_jar()\n",
    "print('Discovered H2O jar path:\\n', h2o_jar_path)\n",
    "\n",
    "gv_file_name = model_id + '.gv'\n",
    "gv_args = str('-cp ' + h2o_jar_path +\n",
    "              ' hex.genmodel.tools.PrintMojo --tree 0 -i '\n",
    "              + mojo_path + ' -o ').split()\n",
    "gv_args.insert(0, 'java')\n",
    "gv_args.append(gv_file_name)\n",
    "\n",
    "if details:\n",
    "    gv_args.append('--detail')\n",
    "\n",
    "if title is not None:\n",
    "    gv_args = gv_args + ['--title', title]\n",
    "    \n",
    "print()\n",
    "print('Calling external process ...')\n",
    "print(' '.join(gv_args))\n",
    "    \n",
    "_ = subprocess.call(gv_args)"
   ]
  },
  {
   "cell_type": "code",
   "execution_count": 34,
   "metadata": {},
   "outputs": [
    {
     "name": "stdout",
     "output_type": "stream",
     "text": [
      "Calling external process ...\n",
      "dot -Tpng dt_surrogate_mojo.gv -o dt_surrogate_mojo.png\n"
     ]
    }
   ],
   "source": [
    "png_file_name = model_id + '.png'\n",
    "png_args = str('dot -Tpng ' + gv_file_name + ' -o ' + png_file_name)\n",
    "png_args = png_args.split()\n",
    "\n",
    "print('Calling external process ...')\n",
    "print(' '.join(png_args))\n",
    "\n",
    "_ = subprocess.call(png_args)"
   ]
  },
  {
   "cell_type": "code",
   "execution_count": 35,
   "metadata": {},
   "outputs": [
    {
     "data": {
      "image/png": "[encoded data removed]",
      "text/plain": [
       "<IPython.core.display.Image object>"
      ]
     },
     "metadata": {},
     "output_type": "display_data"
    }
   ],
   "source": [
    "display(Image((png_file_name)))"
   ]
  },
  {
   "cell_type": "markdown",
   "metadata": {},
   "source": [
    "### 2.3.2 Interpretability"
   ]
  },
  {
   "cell_type": "markdown",
   "metadata": {},
   "source": [
    "#### Variable Importance"
   ]
  },
  {
   "cell_type": "code",
   "execution_count": 36,
   "metadata": {},
   "outputs": [
    {
     "data": {
      "image/png": "[encoded data removed]",
      "text/plain": [
       "<Figure size 1008x720 with 1 Axes>"
      ]
     },
     "metadata": {
      "needs_background": "light"
     },
     "output_type": "display_data"
    }
   ],
   "source": [
    "surrogate.varimp_plot()"
   ]
  },
  {
   "cell_type": "markdown",
   "metadata": {},
   "source": [
    "#### Partial Dependence Plot (PDP)"
   ]
  },
  {
   "cell_type": "code",
   "execution_count": 38,
   "metadata": {},
   "outputs": [
    {
     "name": "stdout",
     "output_type": "stream",
     "text": [
      "PartialDependencePlot progress: |█████████████████████████████████████████| 100%\n"
     ]
    },
    {
     "data": {
      "image/png": "[encoded data removed]",
      "text/plain": [
       "<Figure size 504x720 with 1 Axes>"
      ]
     },
     "metadata": {
      "needs_background": "light"
     },
     "output_type": "display_data"
    }
   ],
   "source": [
    "pdp_word_vecs = surrogate.partial_plot(data = ext_train, cols = [\"C78\"])"
   ]
  },
  {
   "cell_type": "markdown",
   "metadata": {},
   "source": [
    "#### Individual Conditional Expectation (ICE)"
   ]
  },
  {
   "cell_type": "code",
   "execution_count": 40,
   "metadata": {},
   "outputs": [],
   "source": [
    "ext_test_dice = ext_test.sort('C78')[['C78', 'C39', 'C76', 'C89', 'C41']]"
   ]
  },
  {
   "cell_type": "code",
   "execution_count": 41,
   "metadata": {},
   "outputs": [
    {
     "name": "stdout",
     "output_type": "stream",
     "text": [
      "Parse progress: |█████████████████████████████████████████████████████████| 100%\n",
      "gbm prediction progress: |████████████████████████████████████████████████| 100%\n"
     ]
    }
   ],
   "source": [
    "C78_ice_df = ice(data=ext_test_dice, column='C78', model=surrogate)"
   ]
  },
  {
   "cell_type": "code",
   "execution_count": 42,
   "metadata": {},
   "outputs": [
    {
     "data": {
      "image/png": "[encoded data removed]",
      "text/plain": [
       "<Figure size 1008x792 with 2 Axes>"
      ]
     },
     "metadata": {
      "needs_background": "light"
     },
     "output_type": "display_data"
    }
   ],
   "source": [
    "ice_plot(C78_ice_df, linewidth=0.5, color_by='C41', cmap='coolwarm',\n",
    "        plot_pdp=True, pdp_kwargs={'c': 'k', 'linewidth': 3})\n",
    "vals = C78_ice_df.columns.get_level_values('C41').values\n",
    "sm = plt.cm.ScalarMappable(cmap='coolwarm', norm=plt.Normalize(vmin=vals.min(), vmax=vals.max()))\n",
    "sm._A = []\n",
    "plt.colorbar(sm, label='C41')\n",
    "plt.ylabel('Pred. AV %ile')\n",
    "plt.xlabel('C78');"
   ]
  },
  {
   "cell_type": "markdown",
   "metadata": {},
   "source": [
    "### 2.3.3 Matrix"
   ]
  },
  {
   "cell_type": "code",
   "execution_count": 43,
   "metadata": {},
   "outputs": [
    {
     "name": "stdout",
     "output_type": "stream",
     "text": [
      "Model Details\n",
      "=============\n",
      "H2OGradientBoostingEstimator :  Gradient Boosting Machine\n",
      "Model Key:  dt_surrogate_mojo\n",
      "\n",
      "\n",
      "ModelMetricsBinomial: gbm\n",
      "** Reported on train data. **\n",
      "\n",
      "MSE: 0.21083847996491153\n",
      "RMSE: 0.45917151475773355\n",
      "LogLoss: 0.6113959663662526\n",
      "Mean Per-Class Error: 0.30551375837037864\n",
      "AUC: 0.7475232119745653\n",
      "pr_auc: 0.5517806090318984\n",
      "Gini: 0.49504642394913057\n",
      "Confusion Matrix (Act/Pred) for max f1 @ threshold = 0.6563125396395844: \n"
     ]
    },
    {
     "data": {
      "text/html": [
       "<div style=\"overflow:auto\"><table style=\"width:50%\"><tr><td><b></b></td>\n",
       "<td><b>0</b></td>\n",
       "<td><b>1</b></td>\n",
       "<td><b>Error</b></td>\n",
       "<td><b>Rate</b></td></tr>\n",
       "<tr><td>0</td>\n",
       "<td>998.0</td>\n",
       "<td>1602.0</td>\n",
       "<td>0.6162</td>\n",
       "<td> (1602.0/2600.0)</td></tr>\n",
       "<tr><td>1</td>\n",
       "<td>504.0</td>\n",
       "<td>4964.0</td>\n",
       "<td>0.0922</td>\n",
       "<td> (504.0/5468.0)</td></tr>\n",
       "<tr><td>Total</td>\n",
       "<td>1502.0</td>\n",
       "<td>6566.0</td>\n",
       "<td>0.261</td>\n",
       "<td> (2106.0/8068.0)</td></tr></table></div>"
      ],
      "text/plain": [
       "       0     1     Error    Rate\n",
       "-----  ----  ----  -------  ---------------\n",
       "0      998   1602  0.6162   (1602.0/2600.0)\n",
       "1      504   4964  0.0922   (504.0/5468.0)\n",
       "Total  1502  6566  0.261    (2106.0/8068.0)"
      ]
     },
     "metadata": {},
     "output_type": "display_data"
    },
    {
     "name": "stdout",
     "output_type": "stream",
     "text": [
      "Maximum Metrics: Maximum metrics at their respective thresholds\n",
      "\n"
     ]
    },
    {
     "data": {
      "text/html": [
       "<div style=\"overflow:auto\"><table style=\"width:50%\"><tr><td><b>metric</b></td>\n",
       "<td><b>threshold</b></td>\n",
       "<td><b>value</b></td>\n",
       "<td><b>idx</b></td></tr>\n",
       "<tr><td>max f1</td>\n",
       "<td>0.6563125</td>\n",
       "<td>0.8249958</td>\n",
       "<td>6.0</td></tr>\n",
       "<tr><td>max f2</td>\n",
       "<td>0.6426143</td>\n",
       "<td>0.9131597</td>\n",
       "<td>7.0</td></tr>\n",
       "<tr><td>max f0point5</td>\n",
       "<td>0.6739827</td>\n",
       "<td>0.8002268</td>\n",
       "<td>4.0</td></tr>\n",
       "<tr><td>max accuracy</td>\n",
       "<td>0.6678134</td>\n",
       "<td>0.7424393</td>\n",
       "<td>5.0</td></tr>\n",
       "<tr><td>max precision</td>\n",
       "<td>0.6993376</td>\n",
       "<td>0.8977733</td>\n",
       "<td>0.0</td></tr>\n",
       "<tr><td>max recall</td>\n",
       "<td>0.6426143</td>\n",
       "<td>1.0</td>\n",
       "<td>7.0</td></tr>\n",
       "<tr><td>max specificity</td>\n",
       "<td>0.6993376</td>\n",
       "<td>0.9223077</td>\n",
       "<td>0.0</td></tr>\n",
       "<tr><td>max absolute_mcc</td>\n",
       "<td>0.6739827</td>\n",
       "<td>0.3800714</td>\n",
       "<td>4.0</td></tr>\n",
       "<tr><td>max min_per_class_accuracy</td>\n",
       "<td>0.6847630</td>\n",
       "<td>0.6376923</td>\n",
       "<td>3.0</td></tr>\n",
       "<tr><td>max mean_per_class_accuracy</td>\n",
       "<td>0.6847630</td>\n",
       "<td>0.6944862</td>\n",
       "<td>3.0</td></tr></table></div>"
      ],
      "text/plain": [
       "metric                       threshold    value     idx\n",
       "---------------------------  -----------  --------  -----\n",
       "max f1                       0.656313     0.824996  6\n",
       "max f2                       0.642614     0.91316   7\n",
       "max f0point5                 0.673983     0.800227  4\n",
       "max accuracy                 0.667813     0.742439  5\n",
       "max precision                0.699338     0.897773  0\n",
       "max recall                   0.642614     1         7\n",
       "max specificity              0.699338     0.922308  0\n",
       "max absolute_mcc             0.673983     0.380071  4\n",
       "max min_per_class_accuracy   0.684763     0.637692  3\n",
       "max mean_per_class_accuracy  0.684763     0.694486  3"
      ]
     },
     "metadata": {},
     "output_type": "display_data"
    },
    {
     "name": "stdout",
     "output_type": "stream",
     "text": [
      "Gains/Lift Table: Avg response rate: 67.77 %, avg score: 67.74 %\n",
      "\n"
     ]
    },
    {
     "data": {
      "text/html": [
       "<div style=\"overflow:auto\"><table style=\"width:50%\"><tr><td><b></b></td>\n",
       "<td><b>group</b></td>\n",
       "<td><b>cumulative_data_fraction</b></td>\n",
       "<td><b>lower_threshold</b></td>\n",
       "<td><b>lift</b></td>\n",
       "<td><b>cumulative_lift</b></td>\n",
       "<td><b>response_rate</b></td>\n",
       "<td><b>score</b></td>\n",
       "<td><b>cumulative_response_rate</b></td>\n",
       "<td><b>cumulative_score</b></td>\n",
       "<td><b>capture_rate</b></td>\n",
       "<td><b>cumulative_capture_rate</b></td>\n",
       "<td><b>gain</b></td>\n",
       "<td><b>cumulative_gain</b></td></tr>\n",
       "<tr><td></td>\n",
       "<td>1</td>\n",
       "<td>0.2449182</td>\n",
       "<td>0.6993376</td>\n",
       "<td>1.3246589</td>\n",
       "<td>1.3246589</td>\n",
       "<td>0.8977733</td>\n",
       "<td>0.6993376</td>\n",
       "<td>0.8977733</td>\n",
       "<td>0.6993376</td>\n",
       "<td>0.3244331</td>\n",
       "<td>0.3244331</td>\n",
       "<td>32.4658891</td>\n",
       "<td>32.4658891</td></tr>\n",
       "<tr><td></td>\n",
       "<td>2</td>\n",
       "<td>0.3242439</td>\n",
       "<td>0.6878483</td>\n",
       "<td>1.1504241</td>\n",
       "<td>1.2820326</td>\n",
       "<td>0.7796875</td>\n",
       "<td>0.6878483</td>\n",
       "<td>0.8688838</td>\n",
       "<td>0.6965268</td>\n",
       "<td>0.0912582</td>\n",
       "<td>0.4156913</td>\n",
       "<td>15.0424058</td>\n",
       "<td>28.2032632</td></tr>\n",
       "<tr><td></td>\n",
       "<td>3</td>\n",
       "<td>0.6259296</td>\n",
       "<td>0.6847630</td>\n",
       "<td>1.1123792</td>\n",
       "<td>1.2002631</td>\n",
       "<td>0.7539030</td>\n",
       "<td>0.6853071</td>\n",
       "<td>0.8134653</td>\n",
       "<td>0.6911191</td>\n",
       "<td>0.3355889</td>\n",
       "<td>0.7512802</td>\n",
       "<td>11.2379248</td>\n",
       "<td>20.0263061</td></tr>\n",
       "<tr><td></td>\n",
       "<td>4</td>\n",
       "<td>0.7612791</td>\n",
       "<td>0.6678134</td>\n",
       "<td>0.8890796</td>\n",
       "<td>1.1449371</td>\n",
       "<td>0.6025641</td>\n",
       "<td>0.6701692</td>\n",
       "<td>0.7759687</td>\n",
       "<td>0.6873944</td>\n",
       "<td>0.1203365</td>\n",
       "<td>0.8716167</td>\n",
       "<td>-11.0920413</td>\n",
       "<td>14.4937051</td></tr>\n",
       "<tr><td></td>\n",
       "<td>5</td>\n",
       "<td>0.8138324</td>\n",
       "<td>0.6563125</td>\n",
       "<td>0.6890278</td>\n",
       "<td>1.1154967</td>\n",
       "<td>0.4669811</td>\n",
       "<td>0.6563125</td>\n",
       "<td>0.7560158</td>\n",
       "<td>0.6853873</td>\n",
       "<td>0.0362107</td>\n",
       "<td>0.9078274</td>\n",
       "<td>-31.0972243</td>\n",
       "<td>11.5496670</td></tr>\n",
       "<tr><td></td>\n",
       "<td>6</td>\n",
       "<td>1.0</td>\n",
       "<td>0.6426143</td>\n",
       "<td>0.4951058</td>\n",
       "<td>1.0</td>\n",
       "<td>0.3355526</td>\n",
       "<td>0.6426143</td>\n",
       "<td>0.6777392</td>\n",
       "<td>0.6774243</td>\n",
       "<td>0.0921726</td>\n",
       "<td>1.0</td>\n",
       "<td>-50.4894230</td>\n",
       "<td>0.0</td></tr></table></div>"
      ],
      "text/plain": [
       "    group    cumulative_data_fraction    lower_threshold    lift      cumulative_lift    response_rate    score     cumulative_response_rate    cumulative_score    capture_rate    cumulative_capture_rate    gain      cumulative_gain\n",
       "--  -------  --------------------------  -----------------  --------  -----------------  ---------------  --------  --------------------------  ------------------  --------------  -------------------------  --------  -----------------\n",
       "    1        0.244918                    0.699338           1.32466   1.32466            0.897773         0.699338  0.897773                    0.699338            0.324433        0.324433                   32.4659   32.4659\n",
       "    2        0.324244                    0.687848           1.15042   1.28203            0.779687         0.687848  0.868884                    0.696527            0.0912582       0.415691                   15.0424   28.2033\n",
       "    3        0.62593                     0.684763           1.11238   1.20026            0.753903         0.685307  0.813465                    0.691119            0.335589        0.75128                    11.2379   20.0263\n",
       "    4        0.761279                    0.667813           0.88908   1.14494            0.602564         0.670169  0.775969                    0.687394            0.120337        0.871617                   -11.092   14.4937\n",
       "    5        0.813832                    0.656313           0.689028  1.1155             0.466981         0.656313  0.756016                    0.685387            0.0362107       0.907827                   -31.0972  11.5497\n",
       "    6        1                           0.642614           0.495106  1                  0.335553         0.642614  0.677739                    0.677424            0.0921726       1                          -50.4894  0"
      ]
     },
     "metadata": {},
     "output_type": "display_data"
    },
    {
     "name": "stdout",
     "output_type": "stream",
     "text": [
      "\n",
      "Scoring History: \n"
     ]
    },
    {
     "data": {
      "text/html": [
       "<div style=\"overflow:auto\"><table style=\"width:50%\"><tr><td><b></b></td>\n",
       "<td><b>timestamp</b></td>\n",
       "<td><b>duration</b></td>\n",
       "<td><b>number_of_trees</b></td>\n",
       "<td><b>training_rmse</b></td>\n",
       "<td><b>training_logloss</b></td>\n",
       "<td><b>training_auc</b></td>\n",
       "<td><b>training_pr_auc</b></td>\n",
       "<td><b>training_lift</b></td>\n",
       "<td><b>training_classification_error</b></td></tr>\n",
       "<tr><td></td>\n",
       "<td>2019-04-26 13:01:22</td>\n",
       "<td> 0.040 sec</td>\n",
       "<td>0.0</td>\n",
       "<td>0.4673422</td>\n",
       "<td>0.6285618</td>\n",
       "<td>0.5</td>\n",
       "<td>0.0</td>\n",
       "<td>1.0</td>\n",
       "<td>0.3222608</td></tr>\n",
       "<tr><td></td>\n",
       "<td>2019-04-26 13:01:23</td>\n",
       "<td> 0.270 sec</td>\n",
       "<td>1.0</td>\n",
       "<td>0.4591715</td>\n",
       "<td>0.6113960</td>\n",
       "<td>0.7475232</td>\n",
       "<td>0.5517806</td>\n",
       "<td>1.3246589</td>\n",
       "<td>0.2610312</td></tr></table></div>"
      ],
      "text/plain": [
       "    timestamp            duration    number_of_trees    training_rmse    training_logloss    training_auc    training_pr_auc    training_lift    training_classification_error\n",
       "--  -------------------  ----------  -----------------  ---------------  ------------------  --------------  -----------------  ---------------  -------------------------------\n",
       "    2019-04-26 13:01:22  0.040 sec   0                  0.467342         0.628562            0.5             0                  1                0.322261\n",
       "    2019-04-26 13:01:23  0.270 sec   1                  0.459172         0.611396            0.747523        0.551781           1.32466          0.261031"
      ]
     },
     "metadata": {},
     "output_type": "display_data"
    },
    {
     "name": "stdout",
     "output_type": "stream",
     "text": [
      "Variable Importances: \n"
     ]
    },
    {
     "data": {
      "text/html": [
       "<div style=\"overflow:auto\"><table style=\"width:50%\"><tr><td><b>variable</b></td>\n",
       "<td><b>relative_importance</b></td>\n",
       "<td><b>scaled_importance</b></td>\n",
       "<td><b>percentage</b></td></tr>\n",
       "<tr><td>C78</td>\n",
       "<td>152.7242279</td>\n",
       "<td>1.0</td>\n",
       "<td>0.4794871</td></tr>\n",
       "<tr><td>C39</td>\n",
       "<td>78.1902924</td>\n",
       "<td>0.5119705</td>\n",
       "<td>0.2454832</td></tr>\n",
       "<tr><td>C76</td>\n",
       "<td>53.5171318</td>\n",
       "<td>0.3504168</td>\n",
       "<td>0.1680203</td></tr>\n",
       "<tr><td>C89</td>\n",
       "<td>27.3431969</td>\n",
       "<td>0.1790364</td>\n",
       "<td>0.0858456</td></tr>\n",
       "<tr><td>C41</td>\n",
       "<td>6.7410007</td>\n",
       "<td>0.0441384</td>\n",
       "<td>0.0211638</td></tr>\n",
       "<tr><td>---</td>\n",
       "<td>---</td>\n",
       "<td>---</td>\n",
       "<td>---</td></tr>\n",
       "<tr><td>C96</td>\n",
       "<td>0.0</td>\n",
       "<td>0.0</td>\n",
       "<td>0.0</td></tr>\n",
       "<tr><td>C97</td>\n",
       "<td>0.0</td>\n",
       "<td>0.0</td>\n",
       "<td>0.0</td></tr>\n",
       "<tr><td>C98</td>\n",
       "<td>0.0</td>\n",
       "<td>0.0</td>\n",
       "<td>0.0</td></tr>\n",
       "<tr><td>C99</td>\n",
       "<td>0.0</td>\n",
       "<td>0.0</td>\n",
       "<td>0.0</td></tr>\n",
       "<tr><td>C100</td>\n",
       "<td>0.0</td>\n",
       "<td>0.0</td>\n",
       "<td>0.0</td></tr></table></div>"
      ],
      "text/plain": [
       "variable    relative_importance    scaled_importance     percentage\n",
       "----------  ---------------------  --------------------  -------------------\n",
       "C78         152.72422790527344     1.0                   0.47948705881267306\n",
       "C39         78.19029235839844      0.5119704543989945    0.24548320737876164\n",
       "C76         53.51713180541992      0.3504167776092062    0.16802031005445284\n",
       "C89         27.343196868896484     0.17903640597126466   0.0858456397195534\n",
       "C41         6.741000652313232      0.044138384228691666  0.02116378403455904\n",
       "---         ---                    ---                   ---\n",
       "C96         0.0                    0.0                   0.0\n",
       "C97         0.0                    0.0                   0.0\n",
       "C98         0.0                    0.0                   0.0\n",
       "C99         0.0                    0.0                   0.0\n",
       "C100        0.0                    0.0                   0.0"
      ]
     },
     "metadata": {},
     "output_type": "display_data"
    },
    {
     "name": "stdout",
     "output_type": "stream",
     "text": [
      "\n",
      "See the whole table with table.as_data_frame()\n",
      "\n"
     ]
    }
   ],
   "source": [
    "print(surrogate)"
   ]
  },
  {
   "cell_type": "markdown",
   "metadata": {},
   "source": [
    "## 2.4 Gradient Boosting"
   ]
  },
  {
   "cell_type": "markdown",
   "metadata": {},
   "source": [
    "### 2.4.1 Train & Fit Model"
   ]
  },
  {
   "cell_type": "code",
   "execution_count": 30,
   "metadata": {},
   "outputs": [
    {
     "name": "stdout",
     "output_type": "stream",
     "text": [
      "gbm Model Build progress: |███████████████████████████████████████████████| 100%\n"
     ]
    }
   ],
   "source": [
    "gbm = H2OGradientBoostingEstimator(stopping_metric = \"AUC\",\n",
    "                                           stopping_tolerance = 0.001,\n",
    "                                           stopping_rounds = 5, \n",
    "                                           score_tree_interval = 10, \n",
    "                                           model_id = 'gbm.hex')\n",
    "gbm.train(x = predictors, \n",
    "                   y = response,\n",
    "                  training_frame = ext_train,\n",
    "                  validation_frame = ext_test)"
   ]
  },
  {
   "cell_type": "code",
   "execution_count": 97,
   "metadata": {
    "scrolled": false
   },
   "outputs": [
    {
     "name": "stdout",
     "output_type": "stream",
     "text": [
      "Model Details\n",
      "=============\n",
      "H2OGradientBoostingEstimator :  Gradient Boosting Machine\n",
      "Model Key:  gbm.hex\n",
      "\n",
      "\n",
      "ModelMetricsBinomial: gbm\n",
      "** Reported on train data. **\n",
      "\n",
      "MSE: 0.08857077825785908\n",
      "RMSE: 0.29760843109337326\n",
      "LogLoss: 0.30830968803991815\n",
      "Mean Per-Class Error: 0.10725437510550906\n",
      "AUC: 0.9584481739913342\n",
      "pr_auc: 0.9779265476009902\n",
      "Gini: 0.9168963479826684\n",
      "Confusion Matrix (Act/Pred) for max f1 @ threshold = 0.5736549717900127: \n"
     ]
    },
    {
     "data": {
      "text/html": [
       "<div style=\"overflow:auto\"><table style=\"width:50%\"><tr><td><b></b></td>\n",
       "<td><b>0</b></td>\n",
       "<td><b>1</b></td>\n",
       "<td><b>Error</b></td>\n",
       "<td><b>Rate</b></td></tr>\n",
       "<tr><td>0</td>\n",
       "<td>2140.0</td>\n",
       "<td>460.0</td>\n",
       "<td>0.1769</td>\n",
       "<td> (460.0/2600.0)</td></tr>\n",
       "<tr><td>1</td>\n",
       "<td>329.0</td>\n",
       "<td>5139.0</td>\n",
       "<td>0.0602</td>\n",
       "<td> (329.0/5468.0)</td></tr>\n",
       "<tr><td>Total</td>\n",
       "<td>2469.0</td>\n",
       "<td>5599.0</td>\n",
       "<td>0.0978</td>\n",
       "<td> (789.0/8068.0)</td></tr></table></div>"
      ],
      "text/plain": [
       "       0     1     Error    Rate\n",
       "-----  ----  ----  -------  --------------\n",
       "0      2140  460   0.1769   (460.0/2600.0)\n",
       "1      329   5139  0.0602   (329.0/5468.0)\n",
       "Total  2469  5599  0.0978   (789.0/8068.0)"
      ]
     },
     "metadata": {},
     "output_type": "display_data"
    },
    {
     "name": "stdout",
     "output_type": "stream",
     "text": [
      "Maximum Metrics: Maximum metrics at their respective thresholds\n",
      "\n"
     ]
    },
    {
     "data": {
      "text/html": [
       "<div style=\"overflow:auto\"><table style=\"width:50%\"><tr><td><b>metric</b></td>\n",
       "<td><b>threshold</b></td>\n",
       "<td><b>value</b></td>\n",
       "<td><b>idx</b></td></tr>\n",
       "<tr><td>max f1</td>\n",
       "<td>0.5736550</td>\n",
       "<td>0.9287070</td>\n",
       "<td>208.0</td></tr>\n",
       "<tr><td>max f2</td>\n",
       "<td>0.4216031</td>\n",
       "<td>0.9518828</td>\n",
       "<td>264.0</td></tr>\n",
       "<tr><td>max f0point5</td>\n",
       "<td>0.6986577</td>\n",
       "<td>0.9368518</td>\n",
       "<td>161.0</td></tr>\n",
       "<tr><td>max accuracy</td>\n",
       "<td>0.5855061</td>\n",
       "<td>0.9024541</td>\n",
       "<td>204.0</td></tr>\n",
       "<tr><td>max precision</td>\n",
       "<td>0.9812701</td>\n",
       "<td>1.0</td>\n",
       "<td>0.0</td></tr>\n",
       "<tr><td>max recall</td>\n",
       "<td>0.0472732</td>\n",
       "<td>1.0</td>\n",
       "<td>396.0</td></tr>\n",
       "<tr><td>max specificity</td>\n",
       "<td>0.9812701</td>\n",
       "<td>1.0</td>\n",
       "<td>0.0</td></tr>\n",
       "<tr><td>max absolute_mcc</td>\n",
       "<td>0.5855061</td>\n",
       "<td>0.7753123</td>\n",
       "<td>204.0</td></tr>\n",
       "<tr><td>max min_per_class_accuracy</td>\n",
       "<td>0.6507807</td>\n",
       "<td>0.8924653</td>\n",
       "<td>179.0</td></tr>\n",
       "<tr><td>max mean_per_class_accuracy</td>\n",
       "<td>0.6553207</td>\n",
       "<td>0.8927456</td>\n",
       "<td>177.0</td></tr></table></div>"
      ],
      "text/plain": [
       "metric                       threshold    value     idx\n",
       "---------------------------  -----------  --------  -----\n",
       "max f1                       0.573655     0.928707  208\n",
       "max f2                       0.421603     0.951883  264\n",
       "max f0point5                 0.698658     0.936852  161\n",
       "max accuracy                 0.585506     0.902454  204\n",
       "max precision                0.98127      1         0\n",
       "max recall                   0.0472732    1         396\n",
       "max specificity              0.98127      1         0\n",
       "max absolute_mcc             0.585506     0.775312  204\n",
       "max min_per_class_accuracy   0.650781     0.892465  179\n",
       "max mean_per_class_accuracy  0.655321     0.892746  177"
      ]
     },
     "metadata": {},
     "output_type": "display_data"
    },
    {
     "name": "stdout",
     "output_type": "stream",
     "text": [
      "Gains/Lift Table: Avg response rate: 67.77 %, avg score: 67.74 %\n",
      "\n"
     ]
    },
    {
     "data": {
      "text/html": [
       "<div style=\"overflow:auto\"><table style=\"width:50%\"><tr><td><b></b></td>\n",
       "<td><b>group</b></td>\n",
       "<td><b>cumulative_data_fraction</b></td>\n",
       "<td><b>lower_threshold</b></td>\n",
       "<td><b>lift</b></td>\n",
       "<td><b>cumulative_lift</b></td>\n",
       "<td><b>response_rate</b></td>\n",
       "<td><b>score</b></td>\n",
       "<td><b>cumulative_response_rate</b></td>\n",
       "<td><b>cumulative_score</b></td>\n",
       "<td><b>capture_rate</b></td>\n",
       "<td><b>cumulative_capture_rate</b></td>\n",
       "<td><b>gain</b></td>\n",
       "<td><b>cumulative_gain</b></td></tr>\n",
       "<tr><td></td>\n",
       "<td>1</td>\n",
       "<td>0.0100397</td>\n",
       "<td>0.9703750</td>\n",
       "<td>1.4754938</td>\n",
       "<td>1.4754938</td>\n",
       "<td>1.0</td>\n",
       "<td>0.9743869</td>\n",
       "<td>1.0</td>\n",
       "<td>0.9743869</td>\n",
       "<td>0.0148135</td>\n",
       "<td>0.0148135</td>\n",
       "<td>47.5493782</td>\n",
       "<td>47.5493782</td></tr>\n",
       "<tr><td></td>\n",
       "<td>2</td>\n",
       "<td>0.0200793</td>\n",
       "<td>0.9655109</td>\n",
       "<td>1.4754938</td>\n",
       "<td>1.4754938</td>\n",
       "<td>1.0</td>\n",
       "<td>0.9678027</td>\n",
       "<td>1.0</td>\n",
       "<td>0.9710948</td>\n",
       "<td>0.0148135</td>\n",
       "<td>0.0296269</td>\n",
       "<td>47.5493782</td>\n",
       "<td>47.5493782</td></tr>\n",
       "<tr><td></td>\n",
       "<td>3</td>\n",
       "<td>0.0301190</td>\n",
       "<td>0.9619861</td>\n",
       "<td>1.4754938</td>\n",
       "<td>1.4754938</td>\n",
       "<td>1.0</td>\n",
       "<td>0.9635972</td>\n",
       "<td>1.0</td>\n",
       "<td>0.9685956</td>\n",
       "<td>0.0148135</td>\n",
       "<td>0.0444404</td>\n",
       "<td>47.5493782</td>\n",
       "<td>47.5493782</td></tr>\n",
       "<tr><td></td>\n",
       "<td>4</td>\n",
       "<td>0.0400347</td>\n",
       "<td>0.9588768</td>\n",
       "<td>1.4754938</td>\n",
       "<td>1.4754938</td>\n",
       "<td>1.0</td>\n",
       "<td>0.9604553</td>\n",
       "<td>1.0</td>\n",
       "<td>0.9665794</td>\n",
       "<td>0.0146306</td>\n",
       "<td>0.0590710</td>\n",
       "<td>47.5493782</td>\n",
       "<td>47.5493782</td></tr>\n",
       "<tr><td></td>\n",
       "<td>5</td>\n",
       "<td>0.0500744</td>\n",
       "<td>0.9561918</td>\n",
       "<td>1.4754938</td>\n",
       "<td>1.4754938</td>\n",
       "<td>1.0</td>\n",
       "<td>0.9575978</td>\n",
       "<td>1.0</td>\n",
       "<td>0.9647787</td>\n",
       "<td>0.0148135</td>\n",
       "<td>0.0738844</td>\n",
       "<td>47.5493782</td>\n",
       "<td>47.5493782</td></tr>\n",
       "<tr><td></td>\n",
       "<td>6</td>\n",
       "<td>0.1000248</td>\n",
       "<td>0.9417874</td>\n",
       "<td>1.4718325</td>\n",
       "<td>1.4736654</td>\n",
       "<td>0.9975186</td>\n",
       "<td>0.9491091</td>\n",
       "<td>0.9987608</td>\n",
       "<td>0.9569536</td>\n",
       "<td>0.0735187</td>\n",
       "<td>0.1474031</td>\n",
       "<td>47.1832507</td>\n",
       "<td>47.3665413</td></tr>\n",
       "<tr><td></td>\n",
       "<td>7</td>\n",
       "<td>0.1500992</td>\n",
       "<td>0.9279969</td>\n",
       "<td>1.4754938</td>\n",
       "<td>1.4742754</td>\n",
       "<td>1.0</td>\n",
       "<td>0.9347847</td>\n",
       "<td>0.9991742</td>\n",
       "<td>0.9495579</td>\n",
       "<td>0.0738844</td>\n",
       "<td>0.2212875</td>\n",
       "<td>47.5493782</td>\n",
       "<td>47.4275373</td></tr>\n",
       "<tr><td></td>\n",
       "<td>8</td>\n",
       "<td>0.2000496</td>\n",
       "<td>0.9139035</td>\n",
       "<td>1.4754938</td>\n",
       "<td>1.4745796</td>\n",
       "<td>1.0</td>\n",
       "<td>0.9212041</td>\n",
       "<td>0.9993804</td>\n",
       "<td>0.9424782</td>\n",
       "<td>0.0737015</td>\n",
       "<td>0.2949890</td>\n",
       "<td>47.5493782</td>\n",
       "<td>47.4579598</td></tr>\n",
       "<tr><td></td>\n",
       "<td>9</td>\n",
       "<td>0.3000744</td>\n",
       "<td>0.8834892</td>\n",
       "<td>1.4462399</td>\n",
       "<td>1.4651330</td>\n",
       "<td>0.9801735</td>\n",
       "<td>0.8994247</td>\n",
       "<td>0.9929781</td>\n",
       "<td>0.9281270</td>\n",
       "<td>0.1446598</td>\n",
       "<td>0.4396489</td>\n",
       "<td>44.6239878</td>\n",
       "<td>46.5133024</td></tr>\n",
       "<tr><td></td>\n",
       "<td>10</td>\n",
       "<td>0.3999752</td>\n",
       "<td>0.8453139</td>\n",
       "<td>1.4425423</td>\n",
       "<td>1.4594906</td>\n",
       "<td>0.9776675</td>\n",
       "<td>0.8650549</td>\n",
       "<td>0.9891540</td>\n",
       "<td>0.9123737</td>\n",
       "<td>0.1441112</td>\n",
       "<td>0.5837601</td>\n",
       "<td>44.2542308</td>\n",
       "<td>45.9490596</td></tr>\n",
       "<tr><td></td>\n",
       "<td>11</td>\n",
       "<td>0.5</td>\n",
       "<td>0.7895444</td>\n",
       "<td>1.3840753</td>\n",
       "<td>1.4444038</td>\n",
       "<td>0.9380421</td>\n",
       "<td>0.8193160</td>\n",
       "<td>0.9789291</td>\n",
       "<td>0.8937575</td>\n",
       "<td>0.1384418</td>\n",
       "<td>0.7222019</td>\n",
       "<td>38.4075332</td>\n",
       "<td>44.4403804</td></tr>\n",
       "<tr><td></td>\n",
       "<td>12</td>\n",
       "<td>0.6000248</td>\n",
       "<td>0.7051237</td>\n",
       "<td>1.2871718</td>\n",
       "<td>1.4181931</td>\n",
       "<td>0.8723668</td>\n",
       "<td>0.7508207</td>\n",
       "<td>0.9611650</td>\n",
       "<td>0.8699298</td>\n",
       "<td>0.1287491</td>\n",
       "<td>0.8509510</td>\n",
       "<td>28.7171775</td>\n",
       "<td>41.8193053</td></tr>\n",
       "<tr><td></td>\n",
       "<td>13</td>\n",
       "<td>0.6999256</td>\n",
       "<td>0.5627585</td>\n",
       "<td>0.9281332</td>\n",
       "<td>1.3482465</td>\n",
       "<td>0.6290323</td>\n",
       "<td>0.6372122</td>\n",
       "<td>0.9137595</td>\n",
       "<td>0.8367139</td>\n",
       "<td>0.0927213</td>\n",
       "<td>0.9436723</td>\n",
       "<td>-7.1866815</td>\n",
       "<td>34.8246488</td></tr>\n",
       "<tr><td></td>\n",
       "<td>14</td>\n",
       "<td>0.7999504</td>\n",
       "<td>0.3929493</td>\n",
       "<td>0.4186965</td>\n",
       "<td>1.2320167</td>\n",
       "<td>0.2837670</td>\n",
       "<td>0.4790094</td>\n",
       "<td>0.8349861</td>\n",
       "<td>0.7919869</td>\n",
       "<td>0.0418800</td>\n",
       "<td>0.9855523</td>\n",
       "<td>-58.1303499</td>\n",
       "<td>23.2016732</td></tr>\n",
       "<tr><td></td>\n",
       "<td>15</td>\n",
       "<td>0.8999752</td>\n",
       "<td>0.2225999</td>\n",
       "<td>0.1279858</td>\n",
       "<td>1.1093128</td>\n",
       "<td>0.0867410</td>\n",
       "<td>0.3061021</td>\n",
       "<td>0.7518248</td>\n",
       "<td>0.7379849</td>\n",
       "<td>0.0128018</td>\n",
       "<td>0.9983541</td>\n",
       "<td>-87.2014170</td>\n",
       "<td>10.9312843</td></tr>\n",
       "<tr><td></td>\n",
       "<td>16</td>\n",
       "<td>1.0</td>\n",
       "<td>0.0231249</td>\n",
       "<td>0.0164553</td>\n",
       "<td>1.0</td>\n",
       "<td>0.0111524</td>\n",
       "<td>0.1324147</td>\n",
       "<td>0.6777392</td>\n",
       "<td>0.6774128</td>\n",
       "<td>0.0016459</td>\n",
       "<td>1.0</td>\n",
       "<td>-98.3544679</td>\n",
       "<td>0.0</td></tr></table></div>"
      ],
      "text/plain": [
       "    group    cumulative_data_fraction    lower_threshold    lift       cumulative_lift    response_rate    score     cumulative_response_rate    cumulative_score    capture_rate    cumulative_capture_rate    gain      cumulative_gain\n",
       "--  -------  --------------------------  -----------------  ---------  -----------------  ---------------  --------  --------------------------  ------------------  --------------  -------------------------  --------  -----------------\n",
       "    1        0.0100397                   0.970375           1.47549    1.47549            1                0.974387  1                           0.974387            0.0148135       0.0148135                  47.5494   47.5494\n",
       "    2        0.0200793                   0.965511           1.47549    1.47549            1                0.967803  1                           0.971095            0.0148135       0.0296269                  47.5494   47.5494\n",
       "    3        0.030119                    0.961986           1.47549    1.47549            1                0.963597  1                           0.968596            0.0148135       0.0444404                  47.5494   47.5494\n",
       "    4        0.0400347                   0.958877           1.47549    1.47549            1                0.960455  1                           0.966579            0.0146306       0.059071                   47.5494   47.5494\n",
       "    5        0.0500744                   0.956192           1.47549    1.47549            1                0.957598  1                           0.964779            0.0148135       0.0738844                  47.5494   47.5494\n",
       "    6        0.100025                    0.941787           1.47183    1.47367            0.997519         0.949109  0.998761                    0.956954            0.0735187       0.147403                   47.1833   47.3665\n",
       "    7        0.150099                    0.927997           1.47549    1.47428            1                0.934785  0.999174                    0.949558            0.0738844       0.221287                   47.5494   47.4275\n",
       "    8        0.20005                     0.913903           1.47549    1.47458            1                0.921204  0.99938                     0.942478            0.0737015       0.294989                   47.5494   47.458\n",
       "    9        0.300074                    0.883489           1.44624    1.46513            0.980173         0.899425  0.992978                    0.928127            0.14466         0.439649                   44.624    46.5133\n",
       "    10       0.399975                    0.845314           1.44254    1.45949            0.977667         0.865055  0.989154                    0.912374            0.144111        0.58376                    44.2542   45.9491\n",
       "    11       0.5                         0.789544           1.38408    1.4444             0.938042         0.819316  0.978929                    0.893758            0.138442        0.722202                   38.4075   44.4404\n",
       "    12       0.600025                    0.705124           1.28717    1.41819            0.872367         0.750821  0.961165                    0.86993             0.128749        0.850951                   28.7172   41.8193\n",
       "    13       0.699926                    0.562758           0.928133   1.34825            0.629032         0.637212  0.91376                     0.836714            0.0927213       0.943672                   -7.18668  34.8246\n",
       "    14       0.79995                     0.392949           0.418697   1.23202            0.283767         0.479009  0.834986                    0.791987            0.04188         0.985552                   -58.1303  23.2017\n",
       "    15       0.899975                    0.2226             0.127986   1.10931            0.086741         0.306102  0.751825                    0.737985            0.0128018       0.998354                   -87.2014  10.9313\n",
       "    16       1                           0.0231249          0.0164553  1                  0.0111524        0.132415  0.677739                    0.677413            0.00164594      1                          -98.3545  0"
      ]
     },
     "metadata": {},
     "output_type": "display_data"
    },
    {
     "name": "stdout",
     "output_type": "stream",
     "text": [
      "\n",
      "\n",
      "ModelMetricsBinomial: gbm\n",
      "** Reported on validation data. **\n",
      "\n",
      "MSE: 0.13921689514931754\n",
      "RMSE: 0.37311780331326666\n",
      "LogLoss: 0.43341219233722095\n",
      "Mean Per-Class Error: 0.23456430407503293\n",
      "AUC: 0.8481288983683285\n",
      "pr_auc: 0.9193598890325491\n",
      "Gini: 0.696257796736657\n",
      "Confusion Matrix (Act/Pred) for max f1 @ threshold = 0.46694051142093096: \n"
     ]
    },
    {
     "data": {
      "text/html": [
       "<div style=\"overflow:auto\"><table style=\"width:50%\"><tr><td><b></b></td>\n",
       "<td><b>0</b></td>\n",
       "<td><b>1</b></td>\n",
       "<td><b>Error</b></td>\n",
       "<td><b>Rate</b></td></tr>\n",
       "<tr><td>0</td>\n",
       "<td>321.0</td>\n",
       "<td>301.0</td>\n",
       "<td>0.4839</td>\n",
       "<td> (301.0/622.0)</td></tr>\n",
       "<tr><td>1</td>\n",
       "<td>90.0</td>\n",
       "<td>1306.0</td>\n",
       "<td>0.0645</td>\n",
       "<td> (90.0/1396.0)</td></tr>\n",
       "<tr><td>Total</td>\n",
       "<td>411.0</td>\n",
       "<td>1607.0</td>\n",
       "<td>0.1938</td>\n",
       "<td> (391.0/2018.0)</td></tr></table></div>"
      ],
      "text/plain": [
       "       0    1     Error    Rate\n",
       "-----  ---  ----  -------  --------------\n",
       "0      321  301   0.4839   (301.0/622.0)\n",
       "1      90   1306  0.0645   (90.0/1396.0)\n",
       "Total  411  1607  0.1938   (391.0/2018.0)"
      ]
     },
     "metadata": {},
     "output_type": "display_data"
    },
    {
     "name": "stdout",
     "output_type": "stream",
     "text": [
      "Maximum Metrics: Maximum metrics at their respective thresholds\n",
      "\n"
     ]
    },
    {
     "data": {
      "text/html": [
       "<div style=\"overflow:auto\"><table style=\"width:50%\"><tr><td><b>metric</b></td>\n",
       "<td><b>threshold</b></td>\n",
       "<td><b>value</b></td>\n",
       "<td><b>idx</b></td></tr>\n",
       "<tr><td>max f1</td>\n",
       "<td>0.4669405</td>\n",
       "<td>0.8697969</td>\n",
       "<td>268.0</td></tr>\n",
       "<tr><td>max f2</td>\n",
       "<td>0.2744785</td>\n",
       "<td>0.9308005</td>\n",
       "<td>325.0</td></tr>\n",
       "<tr><td>max f0point5</td>\n",
       "<td>0.7474500</td>\n",
       "<td>0.8533821</td>\n",
       "<td>149.0</td></tr>\n",
       "<tr><td>max accuracy</td>\n",
       "<td>0.4669405</td>\n",
       "<td>0.8062438</td>\n",
       "<td>268.0</td></tr>\n",
       "<tr><td>max precision</td>\n",
       "<td>0.9838372</td>\n",
       "<td>1.0</td>\n",
       "<td>0.0</td></tr>\n",
       "<tr><td>max recall</td>\n",
       "<td>0.0684327</td>\n",
       "<td>1.0</td>\n",
       "<td>392.0</td></tr>\n",
       "<tr><td>max specificity</td>\n",
       "<td>0.9838372</td>\n",
       "<td>1.0</td>\n",
       "<td>0.0</td></tr>\n",
       "<tr><td>max absolute_mcc</td>\n",
       "<td>0.4669405</td>\n",
       "<td>0.5178094</td>\n",
       "<td>268.0</td></tr>\n",
       "<tr><td>max min_per_class_accuracy</td>\n",
       "<td>0.6924345</td>\n",
       "<td>0.7572347</td>\n",
       "<td>173.0</td></tr>\n",
       "<tr><td>max mean_per_class_accuracy</td>\n",
       "<td>0.7474500</td>\n",
       "<td>0.7654357</td>\n",
       "<td>149.0</td></tr></table></div>"
      ],
      "text/plain": [
       "metric                       threshold    value     idx\n",
       "---------------------------  -----------  --------  -----\n",
       "max f1                       0.466941     0.869797  268\n",
       "max f2                       0.274478     0.930801  325\n",
       "max f0point5                 0.74745      0.853382  149\n",
       "max accuracy                 0.466941     0.806244  268\n",
       "max precision                0.983837     1         0\n",
       "max recall                   0.0684327    1         392\n",
       "max specificity              0.983837     1         0\n",
       "max absolute_mcc             0.466941     0.517809  268\n",
       "max min_per_class_accuracy   0.692434     0.757235  173\n",
       "max mean_per_class_accuracy  0.74745      0.765436  149"
      ]
     },
     "metadata": {},
     "output_type": "display_data"
    },
    {
     "name": "stdout",
     "output_type": "stream",
     "text": [
      "Gains/Lift Table: Avg response rate: 69.18 %, avg score: 68.30 %\n",
      "\n"
     ]
    },
    {
     "data": {
      "text/html": [
       "<div style=\"overflow:auto\"><table style=\"width:50%\"><tr><td><b></b></td>\n",
       "<td><b>group</b></td>\n",
       "<td><b>cumulative_data_fraction</b></td>\n",
       "<td><b>lower_threshold</b></td>\n",
       "<td><b>lift</b></td>\n",
       "<td><b>cumulative_lift</b></td>\n",
       "<td><b>response_rate</b></td>\n",
       "<td><b>score</b></td>\n",
       "<td><b>cumulative_response_rate</b></td>\n",
       "<td><b>cumulative_score</b></td>\n",
       "<td><b>capture_rate</b></td>\n",
       "<td><b>cumulative_capture_rate</b></td>\n",
       "<td><b>gain</b></td>\n",
       "<td><b>cumulative_gain</b></td></tr>\n",
       "<tr><td></td>\n",
       "<td>1</td>\n",
       "<td>0.0104063</td>\n",
       "<td>0.9712961</td>\n",
       "<td>1.4455587</td>\n",
       "<td>1.4455587</td>\n",
       "<td>1.0</td>\n",
       "<td>0.9747734</td>\n",
       "<td>1.0</td>\n",
       "<td>0.9747734</td>\n",
       "<td>0.0150430</td>\n",
       "<td>0.0150430</td>\n",
       "<td>44.5558739</td>\n",
       "<td>44.5558739</td></tr>\n",
       "<tr><td></td>\n",
       "<td>2</td>\n",
       "<td>0.0203171</td>\n",
       "<td>0.9650822</td>\n",
       "<td>1.4455587</td>\n",
       "<td>1.4455587</td>\n",
       "<td>1.0</td>\n",
       "<td>0.9682577</td>\n",
       "<td>1.0</td>\n",
       "<td>0.9715950</td>\n",
       "<td>0.0143266</td>\n",
       "<td>0.0293696</td>\n",
       "<td>44.5558739</td>\n",
       "<td>44.5558739</td></tr>\n",
       "<tr><td></td>\n",
       "<td>3</td>\n",
       "<td>0.0302279</td>\n",
       "<td>0.9606905</td>\n",
       "<td>1.4455587</td>\n",
       "<td>1.4455587</td>\n",
       "<td>1.0</td>\n",
       "<td>0.9626854</td>\n",
       "<td>1.0</td>\n",
       "<td>0.9686738</td>\n",
       "<td>0.0143266</td>\n",
       "<td>0.0436963</td>\n",
       "<td>44.5558739</td>\n",
       "<td>44.5558739</td></tr>\n",
       "<tr><td></td>\n",
       "<td>4</td>\n",
       "<td>0.0401388</td>\n",
       "<td>0.9573334</td>\n",
       "<td>1.4455587</td>\n",
       "<td>1.4455587</td>\n",
       "<td>1.0</td>\n",
       "<td>0.9587373</td>\n",
       "<td>1.0</td>\n",
       "<td>0.9662203</td>\n",
       "<td>0.0143266</td>\n",
       "<td>0.0580229</td>\n",
       "<td>44.5558739</td>\n",
       "<td>44.5558739</td></tr>\n",
       "<tr><td></td>\n",
       "<td>5</td>\n",
       "<td>0.0500496</td>\n",
       "<td>0.9538971</td>\n",
       "<td>1.4455587</td>\n",
       "<td>1.4455587</td>\n",
       "<td>1.0</td>\n",
       "<td>0.9555932</td>\n",
       "<td>1.0</td>\n",
       "<td>0.9641159</td>\n",
       "<td>0.0143266</td>\n",
       "<td>0.0723496</td>\n",
       "<td>44.5558739</td>\n",
       "<td>44.5558739</td></tr>\n",
       "<tr><td></td>\n",
       "<td>6</td>\n",
       "<td>0.1000991</td>\n",
       "<td>0.9392393</td>\n",
       "<td>1.3596840</td>\n",
       "<td>1.4026214</td>\n",
       "<td>0.9405941</td>\n",
       "<td>0.9468247</td>\n",
       "<td>0.9702970</td>\n",
       "<td>0.9554703</td>\n",
       "<td>0.0680516</td>\n",
       "<td>0.1404011</td>\n",
       "<td>35.9683963</td>\n",
       "<td>40.2621351</td></tr>\n",
       "<tr><td></td>\n",
       "<td>7</td>\n",
       "<td>0.1501487</td>\n",
       "<td>0.9227295</td>\n",
       "<td>1.4312463</td>\n",
       "<td>1.4121630</td>\n",
       "<td>0.9900990</td>\n",
       "<td>0.9313388</td>\n",
       "<td>0.9768977</td>\n",
       "<td>0.9474265</td>\n",
       "<td>0.0716332</td>\n",
       "<td>0.2120344</td>\n",
       "<td>43.1246276</td>\n",
       "<td>41.2162993</td></tr>\n",
       "<tr><td></td>\n",
       "<td>8</td>\n",
       "<td>0.2001982</td>\n",
       "<td>0.9093133</td>\n",
       "<td>1.3739964</td>\n",
       "<td>1.4026214</td>\n",
       "<td>0.9504950</td>\n",
       "<td>0.9164841</td>\n",
       "<td>0.9702970</td>\n",
       "<td>0.9396909</td>\n",
       "<td>0.0687679</td>\n",
       "<td>0.2808023</td>\n",
       "<td>37.3996425</td>\n",
       "<td>40.2621351</td></tr>\n",
       "<tr><td></td>\n",
       "<td>9</td>\n",
       "<td>0.3002973</td>\n",
       "<td>0.8744865</td>\n",
       "<td>1.3310590</td>\n",
       "<td>1.3787672</td>\n",
       "<td>0.9207921</td>\n",
       "<td>0.8933055</td>\n",
       "<td>0.9537954</td>\n",
       "<td>0.9242291</td>\n",
       "<td>0.1332378</td>\n",
       "<td>0.4140401</td>\n",
       "<td>33.1059037</td>\n",
       "<td>37.8767246</td></tr>\n",
       "<tr><td></td>\n",
       "<td>10</td>\n",
       "<td>0.3999009</td>\n",
       "<td>0.8311062</td>\n",
       "<td>1.2226119</td>\n",
       "<td>1.3398735</td>\n",
       "<td>0.8457711</td>\n",
       "<td>0.8545144</td>\n",
       "<td>0.9268897</td>\n",
       "<td>0.9068652</td>\n",
       "<td>0.1217765</td>\n",
       "<td>0.5358166</td>\n",
       "<td>22.2611869</td>\n",
       "<td>33.9873528</td></tr>\n",
       "<tr><td></td>\n",
       "<td>11</td>\n",
       "<td>0.5</td>\n",
       "<td>0.7721683</td>\n",
       "<td>1.2165593</td>\n",
       "<td>1.3151862</td>\n",
       "<td>0.8415842</td>\n",
       "<td>0.8040013</td>\n",
       "<td>0.9098117</td>\n",
       "<td>0.8862720</td>\n",
       "<td>0.1217765</td>\n",
       "<td>0.6575931</td>\n",
       "<td>21.6559335</td>\n",
       "<td>31.5186246</td></tr>\n",
       "<tr><td></td>\n",
       "<td>12</td>\n",
       "<td>0.6000991</td>\n",
       "<td>0.6917997</td>\n",
       "<td>1.0233411</td>\n",
       "<td>1.2665052</td>\n",
       "<td>0.7079208</td>\n",
       "<td>0.7355800</td>\n",
       "<td>0.8761354</td>\n",
       "<td>0.8611360</td>\n",
       "<td>0.1024355</td>\n",
       "<td>0.7600287</td>\n",
       "<td>2.3341088</td>\n",
       "<td>26.6505221</td></tr>\n",
       "<tr><td></td>\n",
       "<td>13</td>\n",
       "<td>0.6997027</td>\n",
       "<td>0.5883586</td>\n",
       "<td>0.9421303</td>\n",
       "<td>1.2203300</td>\n",
       "<td>0.6517413</td>\n",
       "<td>0.6444074</td>\n",
       "<td>0.8441926</td>\n",
       "<td>0.8302844</td>\n",
       "<td>0.0938395</td>\n",
       "<td>0.8538682</td>\n",
       "<td>-5.7869677</td>\n",
       "<td>22.0330041</td></tr>\n",
       "<tr><td></td>\n",
       "<td>14</td>\n",
       "<td>0.7998018</td>\n",
       "<td>0.4516979</td>\n",
       "<td>0.8229666</td>\n",
       "<td>1.1705981</td>\n",
       "<td>0.5693069</td>\n",
       "<td>0.5248820</td>\n",
       "<td>0.8097893</td>\n",
       "<td>0.7920618</td>\n",
       "<td>0.0823782</td>\n",
       "<td>0.9362464</td>\n",
       "<td>-17.7033391</td>\n",
       "<td>17.0598062</td></tr>\n",
       "<tr><td></td>\n",
       "<td>15</td>\n",
       "<td>0.8999009</td>\n",
       "<td>0.2453976</td>\n",
       "<td>0.4866237</td>\n",
       "<td>1.0945172</td>\n",
       "<td>0.3366337</td>\n",
       "<td>0.3475619</td>\n",
       "<td>0.7571586</td>\n",
       "<td>0.7426185</td>\n",
       "<td>0.0487106</td>\n",
       "<td>0.9849570</td>\n",
       "<td>-51.3376266</td>\n",
       "<td>9.4517217</td></tr>\n",
       "<tr><td></td>\n",
       "<td>16</td>\n",
       "<td>1.0</td>\n",
       "<td>0.0339273</td>\n",
       "<td>0.1502809</td>\n",
       "<td>1.0</td>\n",
       "<td>0.1039604</td>\n",
       "<td>0.1466846</td>\n",
       "<td>0.6917740</td>\n",
       "<td>0.6829660</td>\n",
       "<td>0.0150430</td>\n",
       "<td>1.0</td>\n",
       "<td>-84.9719141</td>\n",
       "<td>0.0</td></tr></table></div>"
      ],
      "text/plain": [
       "    group    cumulative_data_fraction    lower_threshold    lift      cumulative_lift    response_rate    score     cumulative_response_rate    cumulative_score    capture_rate    cumulative_capture_rate    gain      cumulative_gain\n",
       "--  -------  --------------------------  -----------------  --------  -----------------  ---------------  --------  --------------------------  ------------------  --------------  -------------------------  --------  -----------------\n",
       "    1        0.0104063                   0.971296           1.44556   1.44556            1                0.974773  1                           0.974773            0.015043        0.015043                   44.5559   44.5559\n",
       "    2        0.0203171                   0.965082           1.44556   1.44556            1                0.968258  1                           0.971595            0.0143266       0.0293696                  44.5559   44.5559\n",
       "    3        0.0302279                   0.96069            1.44556   1.44556            1                0.962685  1                           0.968674            0.0143266       0.0436963                  44.5559   44.5559\n",
       "    4        0.0401388                   0.957333           1.44556   1.44556            1                0.958737  1                           0.96622             0.0143266       0.0580229                  44.5559   44.5559\n",
       "    5        0.0500496                   0.953897           1.44556   1.44556            1                0.955593  1                           0.964116            0.0143266       0.0723496                  44.5559   44.5559\n",
       "    6        0.100099                    0.939239           1.35968   1.40262            0.940594         0.946825  0.970297                    0.95547             0.0680516       0.140401                   35.9684   40.2621\n",
       "    7        0.150149                    0.92273            1.43125   1.41216            0.990099         0.931339  0.976898                    0.947426            0.0716332       0.212034                   43.1246   41.2163\n",
       "    8        0.200198                    0.909313           1.374     1.40262            0.950495         0.916484  0.970297                    0.939691            0.0687679       0.280802                   37.3996   40.2621\n",
       "    9        0.300297                    0.874487           1.33106   1.37877            0.920792         0.893305  0.953795                    0.924229            0.133238        0.41404                    33.1059   37.8767\n",
       "    10       0.399901                    0.831106           1.22261   1.33987            0.845771         0.854514  0.92689                     0.906865            0.121777        0.535817                   22.2612   33.9874\n",
       "    11       0.5                         0.772168           1.21656   1.31519            0.841584         0.804001  0.909812                    0.886272            0.121777        0.657593                   21.6559   31.5186\n",
       "    12       0.600099                    0.6918             1.02334   1.26651            0.707921         0.73558   0.876135                    0.861136            0.102436        0.760029                   2.33411   26.6505\n",
       "    13       0.699703                    0.588359           0.94213   1.22033            0.651741         0.644407  0.844193                    0.830284            0.0938395       0.853868                   -5.78697  22.033\n",
       "    14       0.799802                    0.451698           0.822967  1.1706             0.569307         0.524882  0.809789                    0.792062            0.0823782       0.936246                   -17.7033  17.0598\n",
       "    15       0.899901                    0.245398           0.486624  1.09452            0.336634         0.347562  0.757159                    0.742619            0.0487106       0.984957                   -51.3376  9.45172\n",
       "    16       1                           0.0339273          0.150281  1                  0.10396          0.146685  0.691774                    0.682966            0.015043        1                          -84.9719  0"
      ]
     },
     "metadata": {},
     "output_type": "display_data"
    },
    {
     "name": "stdout",
     "output_type": "stream",
     "text": [
      "\n",
      "Scoring History: \n"
     ]
    },
    {
     "data": {
      "text/html": [
       "<div style=\"overflow:auto\"><table style=\"width:50%\"><tr><td><b></b></td>\n",
       "<td><b>timestamp</b></td>\n",
       "<td><b>duration</b></td>\n",
       "<td><b>number_of_trees</b></td>\n",
       "<td><b>training_rmse</b></td>\n",
       "<td><b>training_logloss</b></td>\n",
       "<td><b>training_auc</b></td>\n",
       "<td><b>training_pr_auc</b></td>\n",
       "<td><b>training_lift</b></td>\n",
       "<td><b>training_classification_error</b></td>\n",
       "<td><b>validation_rmse</b></td>\n",
       "<td><b>validation_logloss</b></td>\n",
       "<td><b>validation_auc</b></td>\n",
       "<td><b>validation_pr_auc</b></td>\n",
       "<td><b>validation_lift</b></td>\n",
       "<td><b>validation_classification_error</b></td></tr>\n",
       "<tr><td></td>\n",
       "<td>2019-04-26 13:34:24</td>\n",
       "<td> 0.011 sec</td>\n",
       "<td>0.0</td>\n",
       "<td>0.4673422</td>\n",
       "<td>0.6285618</td>\n",
       "<td>0.5</td>\n",
       "<td>0.0</td>\n",
       "<td>1.0</td>\n",
       "<td>0.3222608</td>\n",
       "<td>0.4619737</td>\n",
       "<td>0.6181283</td>\n",
       "<td>0.5</td>\n",
       "<td>0.0</td>\n",
       "<td>1.0</td>\n",
       "<td>0.3082260</td></tr>\n",
       "<tr><td></td>\n",
       "<td>2019-04-26 13:34:25</td>\n",
       "<td> 0.386 sec</td>\n",
       "<td>10.0</td>\n",
       "<td>0.3926022</td>\n",
       "<td>0.4822871</td>\n",
       "<td>0.8849669</td>\n",
       "<td>0.9344009</td>\n",
       "<td>1.4754938</td>\n",
       "<td>0.1793505</td>\n",
       "<td>0.4052293</td>\n",
       "<td>0.5060646</td>\n",
       "<td>0.8176669</td>\n",
       "<td>0.8941140</td>\n",
       "<td>1.4455587</td>\n",
       "<td>0.2120912</td></tr>\n",
       "<tr><td></td>\n",
       "<td>2019-04-26 13:34:25</td>\n",
       "<td> 0.538 sec</td>\n",
       "<td>20.0</td>\n",
       "<td>0.3557068</td>\n",
       "<td>0.4124424</td>\n",
       "<td>0.9168190</td>\n",
       "<td>0.9556510</td>\n",
       "<td>1.4754938</td>\n",
       "<td>0.1439018</td>\n",
       "<td>0.3875980</td>\n",
       "<td>0.4682445</td>\n",
       "<td>0.8322936</td>\n",
       "<td>0.9086405</td>\n",
       "<td>1.3767226</td>\n",
       "<td>0.2086224</td></tr>\n",
       "<tr><td></td>\n",
       "<td>2019-04-26 13:34:25</td>\n",
       "<td> 0.706 sec</td>\n",
       "<td>30.0</td>\n",
       "<td>0.3313702</td>\n",
       "<td>0.3674141</td>\n",
       "<td>0.9361223</td>\n",
       "<td>0.9665471</td>\n",
       "<td>1.4754938</td>\n",
       "<td>0.1266733</td>\n",
       "<td>0.3801841</td>\n",
       "<td>0.4508742</td>\n",
       "<td>0.8389173</td>\n",
       "<td>0.9106975</td>\n",
       "<td>1.4455587</td>\n",
       "<td>0.2066402</td></tr>\n",
       "<tr><td></td>\n",
       "<td>2019-04-26 13:34:25</td>\n",
       "<td> 0.962 sec</td>\n",
       "<td>40.0</td>\n",
       "<td>0.3126841</td>\n",
       "<td>0.3340123</td>\n",
       "<td>0.9486866</td>\n",
       "<td>0.9725417</td>\n",
       "<td>1.4754938</td>\n",
       "<td>0.1104363</td>\n",
       "<td>0.3757170</td>\n",
       "<td>0.4401350</td>\n",
       "<td>0.8440866</td>\n",
       "<td>0.9160281</td>\n",
       "<td>1.4455587</td>\n",
       "<td>0.1967294</td></tr>\n",
       "<tr><td></td>\n",
       "<td>2019-04-26 13:34:26</td>\n",
       "<td> 1.135 sec</td>\n",
       "<td>50.0</td>\n",
       "<td>0.2976084</td>\n",
       "<td>0.3083097</td>\n",
       "<td>0.9584482</td>\n",
       "<td>0.9779265</td>\n",
       "<td>1.4754938</td>\n",
       "<td>0.0977938</td>\n",
       "<td>0.3731178</td>\n",
       "<td>0.4334122</td>\n",
       "<td>0.8481289</td>\n",
       "<td>0.9193599</td>\n",
       "<td>1.4455587</td>\n",
       "<td>0.1937562</td></tr></table></div>"
      ],
      "text/plain": [
       "    timestamp            duration    number_of_trees    training_rmse    training_logloss    training_auc    training_pr_auc    training_lift    training_classification_error    validation_rmse    validation_logloss    validation_auc    validation_pr_auc    validation_lift    validation_classification_error\n",
       "--  -------------------  ----------  -----------------  ---------------  ------------------  --------------  -----------------  ---------------  -------------------------------  -----------------  --------------------  ----------------  -------------------  -----------------  ---------------------------------\n",
       "    2019-04-26 13:34:24  0.011 sec   0                  0.467342         0.628562            0.5             0                  1                0.322261                         0.461974           0.618128              0.5               0                    1                  0.308226\n",
       "    2019-04-26 13:34:25  0.386 sec   10                 0.392602         0.482287            0.884967        0.934401           1.47549          0.179351                         0.405229           0.506065              0.817667          0.894114             1.44556            0.212091\n",
       "    2019-04-26 13:34:25  0.538 sec   20                 0.355707         0.412442            0.916819        0.955651           1.47549          0.143902                         0.387598           0.468244              0.832294          0.90864              1.37672            0.208622\n",
       "    2019-04-26 13:34:25  0.706 sec   30                 0.33137          0.367414            0.936122        0.966547           1.47549          0.126673                         0.380184           0.450874              0.838917          0.910697             1.44556            0.20664\n",
       "    2019-04-26 13:34:25  0.962 sec   40                 0.312684         0.334012            0.948687        0.972542           1.47549          0.110436                         0.375717           0.440135              0.844087          0.916028             1.44556            0.196729\n",
       "    2019-04-26 13:34:26  1.135 sec   50                 0.297608         0.30831             0.958448        0.977927           1.47549          0.0977938                        0.373118           0.433412              0.848129          0.91936              1.44556            0.193756"
      ]
     },
     "metadata": {},
     "output_type": "display_data"
    },
    {
     "name": "stdout",
     "output_type": "stream",
     "text": [
      "Variable Importances: \n"
     ]
    },
    {
     "data": {
      "text/html": [
       "<div style=\"overflow:auto\"><table style=\"width:50%\"><tr><td><b>variable</b></td>\n",
       "<td><b>relative_importance</b></td>\n",
       "<td><b>scaled_importance</b></td>\n",
       "<td><b>percentage</b></td></tr>\n",
       "<tr><td>C57</td>\n",
       "<td>787.9934082</td>\n",
       "<td>1.0</td>\n",
       "<td>0.1464048</td></tr>\n",
       "<tr><td>C96</td>\n",
       "<td>404.5647278</td>\n",
       "<td>0.5134113</td>\n",
       "<td>0.0751659</td></tr>\n",
       "<tr><td>C94</td>\n",
       "<td>328.4679565</td>\n",
       "<td>0.4168410</td>\n",
       "<td>0.0610275</td></tr>\n",
       "<tr><td>C48</td>\n",
       "<td>322.2036438</td>\n",
       "<td>0.4088913</td>\n",
       "<td>0.0598637</td></tr>\n",
       "<tr><td>C55</td>\n",
       "<td>175.4332428</td>\n",
       "<td>0.2226329</td>\n",
       "<td>0.0325945</td></tr>\n",
       "<tr><td>---</td>\n",
       "<td>---</td>\n",
       "<td>---</td>\n",
       "<td>---</td></tr>\n",
       "<tr><td>C14</td>\n",
       "<td>1.6786355</td>\n",
       "<td>0.0021303</td>\n",
       "<td>0.0003119</td></tr>\n",
       "<tr><td>C82</td>\n",
       "<td>1.5291393</td>\n",
       "<td>0.0019405</td>\n",
       "<td>0.0002841</td></tr>\n",
       "<tr><td>C54</td>\n",
       "<td>0.7524655</td>\n",
       "<td>0.0009549</td>\n",
       "<td>0.0001398</td></tr>\n",
       "<tr><td>C56</td>\n",
       "<td>0.7522769</td>\n",
       "<td>0.0009547</td>\n",
       "<td>0.0001398</td></tr>\n",
       "<tr><td>C4</td>\n",
       "<td>0.7103261</td>\n",
       "<td>0.0009014</td>\n",
       "<td>0.0001320</td></tr></table></div>"
      ],
      "text/plain": [
       "variable    relative_importance    scaled_importance      percentage\n",
       "----------  ---------------------  ---------------------  ----------------------\n",
       "C57         787.993408203125       1.0                    0.14640482477756284\n",
       "C96         404.5647277832031      0.5134113097541502     0.0751658928433754\n",
       "C94         328.46795654296875     0.41684099527174967    0.061027532872865414\n",
       "C48         322.2036437988281      0.40889129330860097    0.05986365814991678\n",
       "C55         175.43324279785156     0.22263288115302263    0.03259452795493225\n",
       "---         ---                    ---                    ---\n",
       "C14         1.6786354780197144     0.002130265888705257   0.0003118812041655123\n",
       "C82         1.5291392803192139     0.0019405483147455975  0.0002841056359927241\n",
       "C54         0.7524654865264893     0.0009549134278195922  0.0001398039330776693\n",
       "C56         0.7522768974304199     0.0009546740995535102  0.00013976889426480925\n",
       "C4          0.7103261351585388     0.0009014366462510235  0.000131974674242455"
      ]
     },
     "metadata": {},
     "output_type": "display_data"
    },
    {
     "name": "stdout",
     "output_type": "stream",
     "text": [
      "\n",
      "See the whole table with table.as_data_frame()\n",
      "\n"
     ]
    }
   ],
   "source": [
    "print(gbm)"
   ]
  },
  {
   "cell_type": "code",
   "execution_count": null,
   "metadata": {},
   "outputs": [],
   "source": []
  },
  {
   "cell_type": "markdown",
   "metadata": {},
   "source": [
    "### 2.4.2 Interpretability"
   ]
  },
  {
   "cell_type": "markdown",
   "metadata": {},
   "source": [
    "#### Variable Importance"
   ]
  },
  {
   "cell_type": "code",
   "execution_count": 31,
   "metadata": {},
   "outputs": [
    {
     "data": {
      "image/png": "[encoded data removed]",
      "text/plain": [
       "<Figure size 1008x720 with 1 Axes>"
      ]
     },
     "metadata": {
      "needs_background": "light"
     },
     "output_type": "display_data"
    }
   ],
   "source": [
    "gbm.varimp_plot()"
   ]
  },
  {
   "cell_type": "code",
   "execution_count": 69,
   "metadata": {},
   "outputs": [
    {
     "data": {
      "text/plain": [
       "'C89'"
      ]
     },
     "execution_count": 69,
     "metadata": {},
     "output_type": "execute_result"
    }
   ],
   "source": [
    "imp_var = gbm.varimp(True)['variable']\n",
    "imp_var.pop(10)"
   ]
  },
  {
   "cell_type": "markdown",
   "metadata": {},
   "source": [
    "#### Partial Dependence Plot (PDP)"
   ]
  },
  {
   "cell_type": "code",
   "execution_count": 82,
   "metadata": {
    "scrolled": false
   },
   "outputs": [
    {
     "name": "stdout",
     "output_type": "stream",
     "text": [
      "PartialDependencePlot progress: |█████████████████████████████████████████| 100%\n"
     ]
    },
    {
     "data": {
      "image/png": "[encoded data removed]",
      "text/plain": [
       "<Figure size 504x720 with 1 Axes>"
      ]
     },
     "metadata": {
      "needs_background": "light"
     },
     "output_type": "display_data"
    }
   ],
   "source": [
    "pdp_helpfulness = gbm.partial_plot(ext_train, cols = ['C57'])"
   ]
  },
  {
   "cell_type": "markdown",
   "metadata": {},
   "source": [
    "#### Individual Conditional Expectation (ICE)"
   ]
  },
  {
   "cell_type": "code",
   "execution_count": 83,
   "metadata": {},
   "outputs": [],
   "source": [
    "ext_train_gice = ext_train.sort('C57')"
   ]
  },
  {
   "cell_type": "code",
   "execution_count": 84,
   "metadata": {},
   "outputs": [
    {
     "name": "stdout",
     "output_type": "stream",
     "text": [
      "Parse progress: |█████████████████████████████████████████████████████████| 100%\n"
     ]
    }
   ],
   "source": [
    "ext_train_gices = h2o.H2OFrame(ext_train_gice.as_data_frame().iloc[::10])"
   ]
  },
  {
   "cell_type": "code",
   "execution_count": 85,
   "metadata": {},
   "outputs": [
    {
     "data": {
      "text/plain": [
       "(807, 111)"
      ]
     },
     "execution_count": 85,
     "metadata": {},
     "output_type": "execute_result"
    }
   ],
   "source": [
    "ext_train_gices.shape"
   ]
  },
  {
   "cell_type": "code",
   "execution_count": 96,
   "metadata": {},
   "outputs": [
    {
     "data": {
      "text/html": [
       "<table>\n",
       "<thead>\n",
       "<tr><th>type           </th><th style=\"text-align: right;\">  Count</th></tr>\n",
       "</thead>\n",
       "<tbody>\n",
       "<tr><td>2              </td><td style=\"text-align: right;\">      1</td></tr>\n",
       "<tr><td>9              </td><td style=\"text-align: right;\">      1</td></tr>\n",
       "<tr><td>nan            </td><td style=\"text-align: right;\">      6</td></tr>\n",
       "<tr><td>review         </td><td style=\"text-align: right;\">    798</td></tr>\n",
       "<tr><td>right?\",review\"</td><td style=\"text-align: right;\">      1</td></tr>\n",
       "</tbody>\n",
       "</table>"
      ]
     },
     "metadata": {},
     "output_type": "display_data"
    },
    {
     "data": {
      "text/plain": []
     },
     "execution_count": 96,
     "metadata": {},
     "output_type": "execute_result"
    }
   ],
   "source": [
    "ext_train_gices['type'].table()"
   ]
  },
  {
   "cell_type": "code",
   "execution_count": 87,
   "metadata": {},
   "outputs": [
    {
     "ename": "ParserError",
     "evalue": "Error tokenizing data. C error: Expected 111 fields in line 505, saw 112\n",
     "output_type": "error",
     "traceback": [
      "\u001b[0;31m---------------------------------------------------------------------------\u001b[0m",
      "\u001b[0;31mParserError\u001b[0m                               Traceback (most recent call last)",
      "\u001b[0;32m<ipython-input-87-389ac1a4bd08>\u001b[0m in \u001b[0;36m<module>\u001b[0;34m\u001b[0m\n\u001b[0;32m----> 1\u001b[0;31m \u001b[0mC57_ice_df\u001b[0m \u001b[0;34m=\u001b[0m \u001b[0mice\u001b[0m\u001b[0;34m(\u001b[0m\u001b[0mdata\u001b[0m\u001b[0;34m=\u001b[0m\u001b[0mext_train_gices\u001b[0m\u001b[0;34m,\u001b[0m \u001b[0mcolumn\u001b[0m\u001b[0;34m=\u001b[0m\u001b[0;34m'C57'\u001b[0m\u001b[0;34m,\u001b[0m \u001b[0mmodel\u001b[0m\u001b[0;34m=\u001b[0m\u001b[0mgbm\u001b[0m\u001b[0;34m)\u001b[0m\u001b[0;34m\u001b[0m\u001b[0;34m\u001b[0m\u001b[0m\n\u001b[0m",
      "\u001b[0;32m~/Desktop/AI-Addin/plot/ice.py\u001b[0m in \u001b[0;36mice\u001b[0;34m(data, column, model, num_grid_points)\u001b[0m\n\u001b[1;32m     60\u001b[0m     \u001b[0;34m:\u001b[0m\u001b[0mrtype\u001b[0m\u001b[0;34m:\u001b[0m\u001b[0;31m \u001b[0m\u001b[0;31m`\u001b[0m\u001b[0;31m`\u001b[0m\u001b[0mpandas\u001b[0m\u001b[0;31m`\u001b[0m\u001b[0;31m`\u001b[0m\u001b[0;31m \u001b[0m\u001b[0;31m`\u001b[0m\u001b[0;31m`\u001b[0m\u001b[0mDataFrame\u001b[0m\u001b[0;31m`\u001b[0m\u001b[0;31m`\u001b[0m\u001b[0;34m\u001b[0m\u001b[0;34m\u001b[0m\u001b[0m\n\u001b[1;32m     61\u001b[0m     \"\"\"\n\u001b[0;32m---> 62\u001b[0;31m     \u001b[0mdata\u001b[0m \u001b[0;34m=\u001b[0m \u001b[0mdata\u001b[0m\u001b[0;34m.\u001b[0m\u001b[0mas_data_frame\u001b[0m\u001b[0;34m(\u001b[0m\u001b[0;34m)\u001b[0m\u001b[0;34m\u001b[0m\u001b[0;34m\u001b[0m\u001b[0m\n\u001b[0m\u001b[1;32m     63\u001b[0m     \u001b[0mx_s\u001b[0m \u001b[0;34m=\u001b[0m \u001b[0m_get_grid_points\u001b[0m\u001b[0;34m(\u001b[0m\u001b[0mdata\u001b[0m\u001b[0;34m[\u001b[0m\u001b[0mcolumn\u001b[0m\u001b[0;34m]\u001b[0m\u001b[0;34m,\u001b[0m \u001b[0mnum_grid_points\u001b[0m\u001b[0;34m)\u001b[0m\u001b[0;34m\u001b[0m\u001b[0;34m\u001b[0m\u001b[0m\n\u001b[1;32m     64\u001b[0m     \u001b[0mice_data\u001b[0m\u001b[0;34m,\u001b[0m \u001b[0morig_column\u001b[0m \u001b[0;34m=\u001b[0m \u001b[0m_to_ice_data\u001b[0m\u001b[0;34m(\u001b[0m\u001b[0mdata\u001b[0m\u001b[0;34m,\u001b[0m \u001b[0mcolumn\u001b[0m\u001b[0;34m,\u001b[0m \u001b[0mx_s\u001b[0m\u001b[0;34m)\u001b[0m\u001b[0;34m\u001b[0m\u001b[0;34m\u001b[0m\u001b[0m\n",
      "\u001b[0;32m/anaconda3/lib/python3.7/site-packages/h2o/frame.py\u001b[0m in \u001b[0;36mas_data_frame\u001b[0;34m(self, use_pandas, header)\u001b[0m\n\u001b[1;32m   1299\u001b[0m         \u001b[0;32mif\u001b[0m \u001b[0mcan_use_pandas\u001b[0m\u001b[0;34m(\u001b[0m\u001b[0;34m)\u001b[0m \u001b[0;32mand\u001b[0m \u001b[0muse_pandas\u001b[0m\u001b[0;34m:\u001b[0m\u001b[0;34m\u001b[0m\u001b[0;34m\u001b[0m\u001b[0m\n\u001b[1;32m   1300\u001b[0m             \u001b[0;32mimport\u001b[0m \u001b[0mpandas\u001b[0m\u001b[0;34m\u001b[0m\u001b[0;34m\u001b[0m\u001b[0m\n\u001b[0;32m-> 1301\u001b[0;31m             \u001b[0;32mreturn\u001b[0m \u001b[0mpandas\u001b[0m\u001b[0;34m.\u001b[0m\u001b[0mread_csv\u001b[0m\u001b[0;34m(\u001b[0m\u001b[0mStringIO\u001b[0m\u001b[0;34m(\u001b[0m\u001b[0mself\u001b[0m\u001b[0;34m.\u001b[0m\u001b[0mget_frame_data\u001b[0m\u001b[0;34m(\u001b[0m\u001b[0;34m)\u001b[0m\u001b[0;34m)\u001b[0m\u001b[0;34m,\u001b[0m \u001b[0mlow_memory\u001b[0m\u001b[0;34m=\u001b[0m\u001b[0;32mFalse\u001b[0m\u001b[0;34m,\u001b[0m \u001b[0mskip_blank_lines\u001b[0m\u001b[0;34m=\u001b[0m\u001b[0;32mFalse\u001b[0m\u001b[0;34m)\u001b[0m\u001b[0;34m\u001b[0m\u001b[0;34m\u001b[0m\u001b[0m\n\u001b[0m\u001b[1;32m   1302\u001b[0m         \u001b[0mframe\u001b[0m \u001b[0;34m=\u001b[0m \u001b[0;34m[\u001b[0m\u001b[0mrow\u001b[0m \u001b[0;32mfor\u001b[0m \u001b[0mrow\u001b[0m \u001b[0;32min\u001b[0m \u001b[0mcsv\u001b[0m\u001b[0;34m.\u001b[0m\u001b[0mreader\u001b[0m\u001b[0;34m(\u001b[0m\u001b[0mStringIO\u001b[0m\u001b[0;34m(\u001b[0m\u001b[0mself\u001b[0m\u001b[0;34m.\u001b[0m\u001b[0mget_frame_data\u001b[0m\u001b[0;34m(\u001b[0m\u001b[0;34m)\u001b[0m\u001b[0;34m)\u001b[0m\u001b[0;34m)\u001b[0m\u001b[0;34m]\u001b[0m\u001b[0;34m\u001b[0m\u001b[0;34m\u001b[0m\u001b[0m\n\u001b[1;32m   1303\u001b[0m         \u001b[0;32mif\u001b[0m \u001b[0;32mnot\u001b[0m \u001b[0mheader\u001b[0m\u001b[0;34m:\u001b[0m\u001b[0;34m\u001b[0m\u001b[0;34m\u001b[0m\u001b[0m\n",
      "\u001b[0;32m/anaconda3/lib/python3.7/site-packages/pandas/io/parsers.py\u001b[0m in \u001b[0;36mparser_f\u001b[0;34m(filepath_or_buffer, sep, delimiter, header, names, index_col, usecols, squeeze, prefix, mangle_dupe_cols, dtype, engine, converters, true_values, false_values, skipinitialspace, skiprows, nrows, na_values, keep_default_na, na_filter, verbose, skip_blank_lines, parse_dates, infer_datetime_format, keep_date_col, date_parser, dayfirst, iterator, chunksize, compression, thousands, decimal, lineterminator, quotechar, quoting, escapechar, comment, encoding, dialect, tupleize_cols, error_bad_lines, warn_bad_lines, skipfooter, doublequote, delim_whitespace, low_memory, memory_map, float_precision)\u001b[0m\n\u001b[1;32m    676\u001b[0m                     skip_blank_lines=skip_blank_lines)\n\u001b[1;32m    677\u001b[0m \u001b[0;34m\u001b[0m\u001b[0m\n\u001b[0;32m--> 678\u001b[0;31m         \u001b[0;32mreturn\u001b[0m \u001b[0m_read\u001b[0m\u001b[0;34m(\u001b[0m\u001b[0mfilepath_or_buffer\u001b[0m\u001b[0;34m,\u001b[0m \u001b[0mkwds\u001b[0m\u001b[0;34m)\u001b[0m\u001b[0;34m\u001b[0m\u001b[0;34m\u001b[0m\u001b[0m\n\u001b[0m\u001b[1;32m    679\u001b[0m \u001b[0;34m\u001b[0m\u001b[0m\n\u001b[1;32m    680\u001b[0m     \u001b[0mparser_f\u001b[0m\u001b[0;34m.\u001b[0m\u001b[0m__name__\u001b[0m \u001b[0;34m=\u001b[0m \u001b[0mname\u001b[0m\u001b[0;34m\u001b[0m\u001b[0;34m\u001b[0m\u001b[0m\n",
      "\u001b[0;32m/anaconda3/lib/python3.7/site-packages/pandas/io/parsers.py\u001b[0m in \u001b[0;36m_read\u001b[0;34m(filepath_or_buffer, kwds)\u001b[0m\n\u001b[1;32m    444\u001b[0m \u001b[0;34m\u001b[0m\u001b[0m\n\u001b[1;32m    445\u001b[0m     \u001b[0;32mtry\u001b[0m\u001b[0;34m:\u001b[0m\u001b[0;34m\u001b[0m\u001b[0;34m\u001b[0m\u001b[0m\n\u001b[0;32m--> 446\u001b[0;31m         \u001b[0mdata\u001b[0m \u001b[0;34m=\u001b[0m \u001b[0mparser\u001b[0m\u001b[0;34m.\u001b[0m\u001b[0mread\u001b[0m\u001b[0;34m(\u001b[0m\u001b[0mnrows\u001b[0m\u001b[0;34m)\u001b[0m\u001b[0;34m\u001b[0m\u001b[0;34m\u001b[0m\u001b[0m\n\u001b[0m\u001b[1;32m    447\u001b[0m     \u001b[0;32mfinally\u001b[0m\u001b[0;34m:\u001b[0m\u001b[0;34m\u001b[0m\u001b[0;34m\u001b[0m\u001b[0m\n\u001b[1;32m    448\u001b[0m         \u001b[0mparser\u001b[0m\u001b[0;34m.\u001b[0m\u001b[0mclose\u001b[0m\u001b[0;34m(\u001b[0m\u001b[0;34m)\u001b[0m\u001b[0;34m\u001b[0m\u001b[0;34m\u001b[0m\u001b[0m\n",
      "\u001b[0;32m/anaconda3/lib/python3.7/site-packages/pandas/io/parsers.py\u001b[0m in \u001b[0;36mread\u001b[0;34m(self, nrows)\u001b[0m\n\u001b[1;32m   1034\u001b[0m                 \u001b[0;32mraise\u001b[0m \u001b[0mValueError\u001b[0m\u001b[0;34m(\u001b[0m\u001b[0;34m'skipfooter not supported for iteration'\u001b[0m\u001b[0;34m)\u001b[0m\u001b[0;34m\u001b[0m\u001b[0;34m\u001b[0m\u001b[0m\n\u001b[1;32m   1035\u001b[0m \u001b[0;34m\u001b[0m\u001b[0m\n\u001b[0;32m-> 1036\u001b[0;31m         \u001b[0mret\u001b[0m \u001b[0;34m=\u001b[0m \u001b[0mself\u001b[0m\u001b[0;34m.\u001b[0m\u001b[0m_engine\u001b[0m\u001b[0;34m.\u001b[0m\u001b[0mread\u001b[0m\u001b[0;34m(\u001b[0m\u001b[0mnrows\u001b[0m\u001b[0;34m)\u001b[0m\u001b[0;34m\u001b[0m\u001b[0;34m\u001b[0m\u001b[0m\n\u001b[0m\u001b[1;32m   1037\u001b[0m \u001b[0;34m\u001b[0m\u001b[0m\n\u001b[1;32m   1038\u001b[0m         \u001b[0;31m# May alter columns / col_dict\u001b[0m\u001b[0;34m\u001b[0m\u001b[0;34m\u001b[0m\u001b[0;34m\u001b[0m\u001b[0m\n",
      "\u001b[0;32m/anaconda3/lib/python3.7/site-packages/pandas/io/parsers.py\u001b[0m in \u001b[0;36mread\u001b[0;34m(self, nrows)\u001b[0m\n\u001b[1;32m   1846\u001b[0m     \u001b[0;32mdef\u001b[0m \u001b[0mread\u001b[0m\u001b[0;34m(\u001b[0m\u001b[0mself\u001b[0m\u001b[0;34m,\u001b[0m \u001b[0mnrows\u001b[0m\u001b[0;34m=\u001b[0m\u001b[0;32mNone\u001b[0m\u001b[0;34m)\u001b[0m\u001b[0;34m:\u001b[0m\u001b[0;34m\u001b[0m\u001b[0;34m\u001b[0m\u001b[0m\n\u001b[1;32m   1847\u001b[0m         \u001b[0;32mtry\u001b[0m\u001b[0;34m:\u001b[0m\u001b[0;34m\u001b[0m\u001b[0;34m\u001b[0m\u001b[0m\n\u001b[0;32m-> 1848\u001b[0;31m             \u001b[0mdata\u001b[0m \u001b[0;34m=\u001b[0m \u001b[0mself\u001b[0m\u001b[0;34m.\u001b[0m\u001b[0m_reader\u001b[0m\u001b[0;34m.\u001b[0m\u001b[0mread\u001b[0m\u001b[0;34m(\u001b[0m\u001b[0mnrows\u001b[0m\u001b[0;34m)\u001b[0m\u001b[0;34m\u001b[0m\u001b[0;34m\u001b[0m\u001b[0m\n\u001b[0m\u001b[1;32m   1849\u001b[0m         \u001b[0;32mexcept\u001b[0m \u001b[0mStopIteration\u001b[0m\u001b[0;34m:\u001b[0m\u001b[0;34m\u001b[0m\u001b[0;34m\u001b[0m\u001b[0m\n\u001b[1;32m   1850\u001b[0m             \u001b[0;32mif\u001b[0m \u001b[0mself\u001b[0m\u001b[0;34m.\u001b[0m\u001b[0m_first_chunk\u001b[0m\u001b[0;34m:\u001b[0m\u001b[0;34m\u001b[0m\u001b[0;34m\u001b[0m\u001b[0m\n",
      "\u001b[0;32mpandas/_libs/parsers.pyx\u001b[0m in \u001b[0;36mpandas._libs.parsers.TextReader.read\u001b[0;34m()\u001b[0m\n",
      "\u001b[0;32mpandas/_libs/parsers.pyx\u001b[0m in \u001b[0;36mpandas._libs.parsers.TextReader._read_rows\u001b[0;34m()\u001b[0m\n",
      "\u001b[0;32mpandas/_libs/parsers.pyx\u001b[0m in \u001b[0;36mpandas._libs.parsers.raise_parser_error\u001b[0;34m()\u001b[0m\n",
      "\u001b[0;31mParserError\u001b[0m: Error tokenizing data. C error: Expected 111 fields in line 505, saw 112\n"
     ]
    }
   ],
   "source": [
    "C57_ice_df = ice(data=ext_train_gices, column='C57', model=gbm)"
   ]
  },
  {
   "cell_type": "code",
   "execution_count": 80,
   "metadata": {},
   "outputs": [
    {
     "data": {
      "image/png": "[encoded data removed]",
      "text/plain": [
       "<Figure size 1008x792 with 2 Axes>"
      ]
     },
     "metadata": {
      "needs_background": "light"
     },
     "output_type": "display_data"
    }
   ],
   "source": [
    "ice_plot(C57_ice_df, linewidth=0.5, color_by='Id', cmap='coolwarm',\n",
    "        plot_pdp=True, pdp_kwargs={'c': 'k', 'linewidth': 3})\n",
    "vals = C57_ice_df.columns.get_level_values('Id').values\n",
    "sm = plt.cm.ScalarMappable(cmap='coolwarm', norm=plt.Normalize(vmin=vals.min(), vmax=vals.max()))\n",
    "sm._A = []\n",
    "plt.colorbar(sm, label='Id')\n",
    "plt.ylabel('Pred. AV %ile')\n",
    "plt.xlabel('cool');"
   ]
  },
  {
   "cell_type": "markdown",
   "metadata": {},
   "source": [
    "### 2.4.3 Matrix"
   ]
  },
  {
   "cell_type": "code",
   "execution_count": null,
   "metadata": {},
   "outputs": [],
   "source": [
    "print(\"AUC on validation data: \" + str(round(gbm.auc(valid = True), 3)))"
   ]
  },
  {
   "cell_type": "code",
   "execution_count": null,
   "metadata": {},
   "outputs": [],
   "source": [
    "gbm.confusion_matrix(valid=True)"
   ]
  },
  {
   "cell_type": "code",
   "execution_count": null,
   "metadata": {},
   "outputs": [],
   "source": [
    "gbm.r2(train=True, valid=True)"
   ]
  },
  {
   "cell_type": "code",
   "execution_count": null,
   "metadata": {},
   "outputs": [],
   "source": []
  },
  {
   "cell_type": "code",
   "execution_count": null,
   "metadata": {},
   "outputs": [],
   "source": []
  },
  {
   "cell_type": "code",
   "execution_count": 22,
   "metadata": {},
   "outputs": [
    {
     "name": "stdout",
     "output_type": "stream",
     "text": [
      "H2O session _sid_970d closed.\n"
     ]
    }
   ],
   "source": [
    "# h2o.cluster().shutdown()"
   ]
  },
  {
   "cell_type": "code",
   "execution_count": null,
   "metadata": {},
   "outputs": [],
   "source": []
  }
 ],
 "metadata": {
  "kernelspec": {
   "display_name": "Python 3",
   "language": "python",
   "name": "python3"
  },
  "language_info": {
   "codemirror_mode": {
    "name": "ipython",
    "version": 3
   },
   "file_extension": ".py",
   "mimetype": "text/x-python",
   "name": "python",
   "nbconvert_exporter": "python",
   "pygments_lexer": "ipython3",
   "version": "3.7.2"
  },
  "toc": {
   "base_numbering": 1,
   "nav_menu": {},
   "number_sections": false,
   "sideBar": true,
   "skip_h1_title": false,
   "title_cell": "Table of Contents",
   "title_sidebar": "Contents",
   "toc_cell": false,
   "toc_position": {
    "height": "calc(100% - 180px)",
    "left": "10px",
    "top": "150px",
    "width": "336px"
   },
   "toc_section_display": true,
   "toc_window_display": true
  },
  "varInspector": {
   "cols": {
    "lenName": 16,
    "lenType": 16,
    "lenVar": 40
   },
   "kernels_config": {
    "python": {
     "delete_cmd_postfix": "",
     "delete_cmd_prefix": "del ",
     "library": "var_list.py",
     "varRefreshCmd": "print(var_dic_list())"
    },
    "r": {
     "delete_cmd_postfix": ") ",
     "delete_cmd_prefix": "rm(",
     "library": "var_list.r",
     "varRefreshCmd": "cat(var_dic_list()) "
    }
   },
   "types_to_exclude": [
    "module",
    "function",
    "builtin_function_or_method",
    "instance",
    "_Feature"
   ],
   "window_display": false
  }
 },
 "nbformat": 4,
 "nbformat_minor": 2
}
