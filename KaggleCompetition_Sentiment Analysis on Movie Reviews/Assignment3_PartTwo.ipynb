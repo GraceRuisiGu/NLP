{
 "cells": [
  {
   "cell_type": "markdown",
   "metadata": {},
   "source": [
    "# Assignment 3 Ruisi_Gu -- Sub-Notebook Two"
   ]
  },
  {
   "cell_type": "markdown",
   "metadata": {},
   "source": [
    "## Part Three -- Fit in Models and Comparison"
   ]
  },
  {
   "cell_type": "markdown",
   "metadata": {},
   "source": [
    "This is the beginning of the second notebook. In this part, I am using H2O to do the machine learning work, which is *H2OAutoML*, also I will generate and compare these models to get the best result. (What need to illustrate is that work which is done in this notebook is based on the dataset generated from the first notebook.)"
   ]
  },
  {
   "cell_type": "markdown",
   "metadata": {},
   "source": [
    "#### Initialize H2O"
   ]
  },
  {
   "cell_type": "code",
   "execution_count": 1,
   "metadata": {},
   "outputs": [],
   "source": [
    "import h2o\n",
    "from h2o.automl import H2OAutoML\n",
    "import random, os, sys\n",
    "from datetime import datetime\n",
    "import pandas as pd\n",
    "import logging\n",
    "import csv\n",
    "import optparse\n",
    "import time\n",
    "import json\n",
    "from distutils.util import strtobool\n",
    "import psutil\n",
    "import numpy as np"
   ]
  },
  {
   "cell_type": "code",
   "execution_count": 2,
   "metadata": {},
   "outputs": [
    {
     "name": "stdout",
     "output_type": "stream",
     "text": [
      "12\n"
     ]
    }
   ],
   "source": [
    "pct_memory=8\n",
    "virtual_memory=psutil.virtual_memory()\n",
    "min_mem_size=int(round(int(pct_memory*virtual_memory.available)/1073741824,0))\n",
    "print(min_mem_size)"
   ]
  },
  {
   "cell_type": "code",
   "execution_count": 3,
   "metadata": {},
   "outputs": [
    {
     "name": "stdout",
     "output_type": "stream",
     "text": [
      "Checking whether there is an H2O instance running at http://localhost:54321..... not found.\n",
      "Attempting to start a local H2O server...\n",
      "  Java Version: java version \"1.8.0_191\"; Java(TM) SE Runtime Environment (build 1.8.0_191-b12); Java HotSpot(TM) 64-Bit Server VM (build 25.191-b12, mixed mode)\n",
      "  Starting server from /Users/guruisi/anaconda3/lib/python3.7/site-packages/h2o/backend/bin/h2o.jar\n",
      "  Ice root: /var/folders/25/079nl8ps1d17m_b9mm9cwnhm0000gn/T/tmp0pgzh4ov\n",
      "  JVM stdout: /var/folders/25/079nl8ps1d17m_b9mm9cwnhm0000gn/T/tmp0pgzh4ov/h2o_guruisi_started_from_python.out\n",
      "  JVM stderr: /var/folders/25/079nl8ps1d17m_b9mm9cwnhm0000gn/T/tmp0pgzh4ov/h2o_guruisi_started_from_python.err\n",
      "  Server is running at http://127.0.0.1:54321\n",
      "Connecting to H2O server at http://127.0.0.1:54321... successful.\n"
     ]
    },
    {
     "data": {
      "text/html": [
       "<div style=\"overflow:auto\"><table style=\"width:50%\"><tr><td>H2O cluster uptime:</td>\n",
       "<td>03 secs</td></tr>\n",
       "<tr><td>H2O cluster timezone:</td>\n",
       "<td>America/New_York</td></tr>\n",
       "<tr><td>H2O data parsing timezone:</td>\n",
       "<td>UTC</td></tr>\n",
       "<tr><td>H2O cluster version:</td>\n",
       "<td>3.22.1.5</td></tr>\n",
       "<tr><td>H2O cluster version age:</td>\n",
       "<td>29 days </td></tr>\n",
       "<tr><td>H2O cluster name:</td>\n",
       "<td>H2O_from_python_guruisi_92tcg0</td></tr>\n",
       "<tr><td>H2O cluster total nodes:</td>\n",
       "<td>1</td></tr>\n",
       "<tr><td>H2O cluster free memory:</td>\n",
       "<td>10.67 Gb</td></tr>\n",
       "<tr><td>H2O cluster total cores:</td>\n",
       "<td>4</td></tr>\n",
       "<tr><td>H2O cluster allowed cores:</td>\n",
       "<td>4</td></tr>\n",
       "<tr><td>H2O cluster status:</td>\n",
       "<td>accepting new members, healthy</td></tr>\n",
       "<tr><td>H2O connection url:</td>\n",
       "<td>http://127.0.0.1:54321</td></tr>\n",
       "<tr><td>H2O connection proxy:</td>\n",
       "<td>None</td></tr>\n",
       "<tr><td>H2O internal security:</td>\n",
       "<td>False</td></tr>\n",
       "<tr><td>H2O API Extensions:</td>\n",
       "<td>Amazon S3, XGBoost, Algos, AutoML, Core V3, Core V4</td></tr>\n",
       "<tr><td>Python version:</td>\n",
       "<td>3.7.1 final</td></tr></table></div>"
      ],
      "text/plain": [
       "--------------------------  ---------------------------------------------------\n",
       "H2O cluster uptime:         03 secs\n",
       "H2O cluster timezone:       America/New_York\n",
       "H2O data parsing timezone:  UTC\n",
       "H2O cluster version:        3.22.1.5\n",
       "H2O cluster version age:    29 days\n",
       "H2O cluster name:           H2O_from_python_guruisi_92tcg0\n",
       "H2O cluster total nodes:    1\n",
       "H2O cluster free memory:    10.67 Gb\n",
       "H2O cluster total cores:    4\n",
       "H2O cluster allowed cores:  4\n",
       "H2O cluster status:         accepting new members, healthy\n",
       "H2O connection url:         http://127.0.0.1:54321\n",
       "H2O connection proxy:\n",
       "H2O internal security:      False\n",
       "H2O API Extensions:         Amazon S3, XGBoost, Algos, AutoML, Core V3, Core V4\n",
       "Python version:             3.7.1 final\n",
       "--------------------------  ---------------------------------------------------"
      ]
     },
     "metadata": {},
     "output_type": "display_data"
    }
   ],
   "source": [
    "h2o.init(strict_version_check=False,max_mem_size=min_mem_size)"
   ]
  },
  {
   "cell_type": "code",
   "execution_count": 38,
   "metadata": {},
   "outputs": [
    {
     "name": "stdout",
     "output_type": "stream",
     "text": [
      "Parse progress: |█████████████████████████████████████████████████████████| 100%\n",
      "Parse progress: |█████████████████████████████████████████████████████████| 100%\n"
     ]
    }
   ],
   "source": [
    "# train_data_path = \"assignment3/data/train.tsv\"\n",
    "# test_data_path = \"assignment3/data/test.tsv\"\n",
    "train_data_path = \"assignment3/train_submission.csv\"\n",
    "test_data_path = \"assignment3/submission06.csv\"\n",
    "\n",
    "# Load data into H2O\n",
    "df_train = h2o.import_file(train_data_path)\n",
    "df_test = h2o.import_file(test_data_path)"
   ]
  },
  {
   "cell_type": "code",
   "execution_count": 5,
   "metadata": {},
   "outputs": [
    {
     "data": {
      "text/html": [
       "<table>\n",
       "<thead>\n",
       "<tr><th style=\"text-align: right;\">  PhraseId</th><th style=\"text-align: right;\">  SentenceId</th><th>Phrase                                                                                                                                                                                      </th><th style=\"text-align: right;\">  Sentiment</th><th style=\"text-align: right;\">  SentimentM1</th></tr>\n",
       "</thead>\n",
       "<tbody>\n",
       "<tr><td style=\"text-align: right;\">         1</td><td style=\"text-align: right;\">           1</td><td>A series of escapades demonstrating the adage that what is good for the goose is also good for the gander , some of which occasionally amuses but none of which amounts to much of a story .</td><td style=\"text-align: right;\">          1</td><td style=\"text-align: right;\">            3</td></tr>\n",
       "<tr><td style=\"text-align: right;\">         2</td><td style=\"text-align: right;\">           1</td><td>A series of escapades demonstrating the adage that what is good for the goose                                                                                                               </td><td style=\"text-align: right;\">          2</td><td style=\"text-align: right;\">            2</td></tr>\n",
       "<tr><td style=\"text-align: right;\">         3</td><td style=\"text-align: right;\">           1</td><td>A series                                                                                                                                                                                    </td><td style=\"text-align: right;\">          2</td><td style=\"text-align: right;\">            2</td></tr>\n",
       "<tr><td style=\"text-align: right;\">         4</td><td style=\"text-align: right;\">           1</td><td>A                                                                                                                                                                                           </td><td style=\"text-align: right;\">          2</td><td style=\"text-align: right;\">            2</td></tr>\n",
       "<tr><td style=\"text-align: right;\">         5</td><td style=\"text-align: right;\">           1</td><td>series                                                                                                                                                                                      </td><td style=\"text-align: right;\">          2</td><td style=\"text-align: right;\">            2</td></tr>\n",
       "<tr><td style=\"text-align: right;\">         6</td><td style=\"text-align: right;\">           1</td><td>of escapades demonstrating the adage that what is good for the goose                                                                                                                        </td><td style=\"text-align: right;\">          2</td><td style=\"text-align: right;\">            2</td></tr>\n",
       "<tr><td style=\"text-align: right;\">         7</td><td style=\"text-align: right;\">           1</td><td>of                                                                                                                                                                                          </td><td style=\"text-align: right;\">          2</td><td style=\"text-align: right;\">            2</td></tr>\n",
       "<tr><td style=\"text-align: right;\">         8</td><td style=\"text-align: right;\">           1</td><td>escapades demonstrating the adage that what is good for the goose                                                                                                                           </td><td style=\"text-align: right;\">          2</td><td style=\"text-align: right;\">            2</td></tr>\n",
       "<tr><td style=\"text-align: right;\">         9</td><td style=\"text-align: right;\">           1</td><td>escapades                                                                                                                                                                                   </td><td style=\"text-align: right;\">          2</td><td style=\"text-align: right;\">            2</td></tr>\n",
       "<tr><td style=\"text-align: right;\">        10</td><td style=\"text-align: right;\">           1</td><td>demonstrating the adage that what is good for the goose                                                                                                                                     </td><td style=\"text-align: right;\">          2</td><td style=\"text-align: right;\">            2</td></tr>\n",
       "</tbody>\n",
       "</table>"
      ]
     },
     "metadata": {},
     "output_type": "display_data"
    },
    {
     "data": {
      "text/plain": []
     },
     "execution_count": 5,
     "metadata": {},
     "output_type": "execute_result"
    }
   ],
   "source": [
    "df_train.head()"
   ]
  },
  {
   "cell_type": "code",
   "execution_count": 39,
   "metadata": {},
   "outputs": [
    {
     "data": {
      "text/html": [
       "<table>\n",
       "<thead>\n",
       "<tr><th style=\"text-align: right;\">  PhraseId</th><th style=\"text-align: right;\">  SentimentM1</th></tr>\n",
       "</thead>\n",
       "<tbody>\n",
       "<tr><td style=\"text-align: right;\">    156061</td><td style=\"text-align: right;\">            3</td></tr>\n",
       "<tr><td style=\"text-align: right;\">    156062</td><td style=\"text-align: right;\">            3</td></tr>\n",
       "<tr><td style=\"text-align: right;\">    156063</td><td style=\"text-align: right;\">            2</td></tr>\n",
       "<tr><td style=\"text-align: right;\">    156064</td><td style=\"text-align: right;\">            3</td></tr>\n",
       "<tr><td style=\"text-align: right;\">    156065</td><td style=\"text-align: right;\">            3</td></tr>\n",
       "<tr><td style=\"text-align: right;\">    156066</td><td style=\"text-align: right;\">            3</td></tr>\n",
       "<tr><td style=\"text-align: right;\">    156067</td><td style=\"text-align: right;\">            3</td></tr>\n",
       "<tr><td style=\"text-align: right;\">    156068</td><td style=\"text-align: right;\">            3</td></tr>\n",
       "<tr><td style=\"text-align: right;\">    156069</td><td style=\"text-align: right;\">            3</td></tr>\n",
       "<tr><td style=\"text-align: right;\">    156070</td><td style=\"text-align: right;\">            2</td></tr>\n",
       "</tbody>\n",
       "</table>"
      ]
     },
     "metadata": {},
     "output_type": "display_data"
    },
    {
     "data": {
      "text/plain": []
     },
     "execution_count": 39,
     "metadata": {},
     "output_type": "execute_result"
    }
   ],
   "source": [
    "df_test.head()"
   ]
  },
  {
   "cell_type": "markdown",
   "metadata": {},
   "source": [
    "In our case, although Sentiment labels range from 0 to 4, Sentiment is not represent values 0,1,2,3,4. Thus, we need to convert the numbers into classifiers in case H2O consider the data as linear regression."
   ]
  },
  {
   "cell_type": "code",
   "execution_count": 7,
   "metadata": {},
   "outputs": [],
   "source": [
    "df_train['Sentiment'] = df_train['Sentiment'].asfactor()"
   ]
  },
  {
   "cell_type": "code",
   "execution_count": 8,
   "metadata": {},
   "outputs": [
    {
     "data": {
      "text/html": [
       "<table>\n",
       "<thead>\n",
       "<tr><th style=\"text-align: right;\">  PhraseId</th><th style=\"text-align: right;\">  SentenceId</th><th>Phrase                                                                                                                                                                                      </th><th style=\"text-align: right;\">  Sentiment</th><th style=\"text-align: right;\">  SentimentM1</th></tr>\n",
       "</thead>\n",
       "<tbody>\n",
       "<tr><td style=\"text-align: right;\">         1</td><td style=\"text-align: right;\">           1</td><td>A series of escapades demonstrating the adage that what is good for the goose is also good for the gander , some of which occasionally amuses but none of which amounts to much of a story .</td><td style=\"text-align: right;\">          1</td><td style=\"text-align: right;\">            3</td></tr>\n",
       "<tr><td style=\"text-align: right;\">         2</td><td style=\"text-align: right;\">           1</td><td>A series of escapades demonstrating the adage that what is good for the goose                                                                                                               </td><td style=\"text-align: right;\">          2</td><td style=\"text-align: right;\">            2</td></tr>\n",
       "<tr><td style=\"text-align: right;\">         3</td><td style=\"text-align: right;\">           1</td><td>A series                                                                                                                                                                                    </td><td style=\"text-align: right;\">          2</td><td style=\"text-align: right;\">            2</td></tr>\n",
       "<tr><td style=\"text-align: right;\">         4</td><td style=\"text-align: right;\">           1</td><td>A                                                                                                                                                                                           </td><td style=\"text-align: right;\">          2</td><td style=\"text-align: right;\">            2</td></tr>\n",
       "<tr><td style=\"text-align: right;\">         5</td><td style=\"text-align: right;\">           1</td><td>series                                                                                                                                                                                      </td><td style=\"text-align: right;\">          2</td><td style=\"text-align: right;\">            2</td></tr>\n",
       "<tr><td style=\"text-align: right;\">         6</td><td style=\"text-align: right;\">           1</td><td>of escapades demonstrating the adage that what is good for the goose                                                                                                                        </td><td style=\"text-align: right;\">          2</td><td style=\"text-align: right;\">            2</td></tr>\n",
       "<tr><td style=\"text-align: right;\">         7</td><td style=\"text-align: right;\">           1</td><td>of                                                                                                                                                                                          </td><td style=\"text-align: right;\">          2</td><td style=\"text-align: right;\">            2</td></tr>\n",
       "<tr><td style=\"text-align: right;\">         8</td><td style=\"text-align: right;\">           1</td><td>escapades demonstrating the adage that what is good for the goose                                                                                                                           </td><td style=\"text-align: right;\">          2</td><td style=\"text-align: right;\">            2</td></tr>\n",
       "<tr><td style=\"text-align: right;\">         9</td><td style=\"text-align: right;\">           1</td><td>escapades                                                                                                                                                                                   </td><td style=\"text-align: right;\">          2</td><td style=\"text-align: right;\">            2</td></tr>\n",
       "<tr><td style=\"text-align: right;\">        10</td><td style=\"text-align: right;\">           1</td><td>demonstrating the adage that what is good for the goose                                                                                                                                     </td><td style=\"text-align: right;\">          2</td><td style=\"text-align: right;\">            2</td></tr>\n",
       "</tbody>\n",
       "</table>"
      ]
     },
     "metadata": {},
     "output_type": "display_data"
    },
    {
     "data": {
      "text/plain": []
     },
     "execution_count": 8,
     "metadata": {},
     "output_type": "execute_result"
    }
   ],
   "source": [
    "df_train.head()"
   ]
  },
  {
   "cell_type": "markdown",
   "metadata": {},
   "source": [
    "#### Processing data by using H2O AutoML. \n",
    "Set runtime 15000 seconds in order to get a better model. Then choose the best model from leaderboard as below."
   ]
  },
  {
   "cell_type": "code",
   "execution_count": 9,
   "metadata": {
    "code_folding": [
     10
    ]
   },
   "outputs": [],
   "source": [
    "def get_independent_variables(df, targ):\n",
    "    C = [name for name in df.columns if name != targ]\n",
    "    # determine column types\n",
    "    ints, reals, enums = [], [], []\n",
    "    for key, val in df.types.items():\n",
    "        if key in C:\n",
    "            if val == 'enum':\n",
    "                enums.append(key)\n",
    "            elif val == 'int':\n",
    "                ints.append(key)            \n",
    "            else: \n",
    "                reals.append(key)    \n",
    "    x=ints+enums+reals\n",
    "    return x"
   ]
  },
  {
   "cell_type": "code",
   "execution_count": 10,
   "metadata": {},
   "outputs": [],
   "source": [
    "target='Sentiment'\n",
    "y = target"
   ]
  },
  {
   "cell_type": "code",
   "execution_count": 11,
   "metadata": {},
   "outputs": [
    {
     "name": "stdout",
     "output_type": "stream",
     "text": [
      "['PhraseId', 'SentenceId', 'SentimentM1', 'Phrase']\n"
     ]
    }
   ],
   "source": [
    "X=get_independent_variables(df_train, target) \n",
    "print(X)"
   ]
  },
  {
   "cell_type": "code",
   "execution_count": 12,
   "metadata": {},
   "outputs": [],
   "source": [
    "run_time=1500"
   ]
  },
  {
   "cell_type": "code",
   "execution_count": 13,
   "metadata": {},
   "outputs": [
    {
     "data": {
      "text/plain": [
       "(15610, 5)"
      ]
     },
     "execution_count": 13,
     "metadata": {},
     "output_type": "execute_result"
    }
   ],
   "source": [
    "review_train, review_test = df_train.split_frame([0.1])\n",
    "review_train.shape"
   ]
  },
  {
   "cell_type": "code",
   "execution_count": 14,
   "metadata": {},
   "outputs": [],
   "source": [
    "# Set up AutoML\n",
    "aml = H2OAutoML(max_runtime_secs=run_time)"
   ]
  },
  {
   "cell_type": "code",
   "execution_count": 15,
   "metadata": {},
   "outputs": [
    {
     "name": "stdout",
     "output_type": "stream",
     "text": [
      "AutoML progress: |████████████████████████████████████████████████████████| 100%\n"
     ]
    }
   ],
   "source": [
    "aml.train(x=X,y=y,training_frame=df_train)"
   ]
  },
  {
   "cell_type": "code",
   "execution_count": 16,
   "metadata": {
    "scrolled": true
   },
   "outputs": [
    {
     "data": {
      "text/html": [
       "<table>\n",
       "<thead>\n",
       "<tr><th>model_id                                           </th><th style=\"text-align: right;\">  mean_per_class_error</th><th style=\"text-align: right;\">  logloss</th><th style=\"text-align: right;\">    rmse</th><th style=\"text-align: right;\">     mse</th></tr>\n",
       "</thead>\n",
       "<tbody>\n",
       "<tr><td>XGBoost_1_AutoML_20190403_185203                   </td><td style=\"text-align: right;\">              0.518557</td><td style=\"text-align: right;\"> 1.05243 </td><td style=\"text-align: right;\">0.614541</td><td style=\"text-align: right;\">0.377661</td></tr>\n",
       "<tr><td>GLM_grid_1_AutoML_20190403_185203_model_1          </td><td style=\"text-align: right;\">              0.519231</td><td style=\"text-align: right;\"> 1.03804 </td><td style=\"text-align: right;\">0.59256 </td><td style=\"text-align: right;\">0.351127</td></tr>\n",
       "<tr><td>GBM_1_AutoML_20190403_185203                       </td><td style=\"text-align: right;\">              0.521965</td><td style=\"text-align: right;\"> 1.00825 </td><td style=\"text-align: right;\">0.588014</td><td style=\"text-align: right;\">0.34576 </td></tr>\n",
       "<tr><td>XGBoost_3_AutoML_20190403_185203                   </td><td style=\"text-align: right;\">              0.521969</td><td style=\"text-align: right;\"> 1.11105 </td><td style=\"text-align: right;\">0.645938</td><td style=\"text-align: right;\">0.417236</td></tr>\n",
       "<tr><td>XGBoost_2_AutoML_20190403_185203                   </td><td style=\"text-align: right;\">              0.522008</td><td style=\"text-align: right;\"> 1.11353 </td><td style=\"text-align: right;\">0.645934</td><td style=\"text-align: right;\">0.41723 </td></tr>\n",
       "<tr><td>GBM_2_AutoML_20190403_185203                       </td><td style=\"text-align: right;\">              0.52578 </td><td style=\"text-align: right;\"> 1.03058 </td><td style=\"text-align: right;\">0.602379</td><td style=\"text-align: right;\">0.362861</td></tr>\n",
       "<tr><td>GBM_3_AutoML_20190403_185203                       </td><td style=\"text-align: right;\">              0.526781</td><td style=\"text-align: right;\"> 1.01908 </td><td style=\"text-align: right;\">0.597172</td><td style=\"text-align: right;\">0.356614</td></tr>\n",
       "<tr><td>DRF_1_AutoML_20190403_185203                       </td><td style=\"text-align: right;\">              0.527867</td><td style=\"text-align: right;\"> 0.94295 </td><td style=\"text-align: right;\">0.557172</td><td style=\"text-align: right;\">0.31044 </td></tr>\n",
       "<tr><td>StackedEnsemble_AllModels_AutoML_20190403_185203   </td><td style=\"text-align: right;\">              0.528813</td><td style=\"text-align: right;\"> 0.908494</td><td style=\"text-align: right;\">0.552658</td><td style=\"text-align: right;\">0.305431</td></tr>\n",
       "<tr><td>StackedEnsemble_BestOfFamily_AutoML_20190403_185203</td><td style=\"text-align: right;\">              0.530084</td><td style=\"text-align: right;\"> 0.908995</td><td style=\"text-align: right;\">0.552754</td><td style=\"text-align: right;\">0.305537</td></tr>\n",
       "</tbody>\n",
       "</table>"
      ]
     },
     "metadata": {},
     "output_type": "display_data"
    },
    {
     "name": "stdout",
     "output_type": "stream",
     "text": [
      "\n"
     ]
    }
   ],
   "source": [
    "print(aml.leaderboard)"
   ]
  },
  {
   "cell_type": "markdown",
   "metadata": {},
   "source": [
    "Based on *mean_per_class_error* and *logloss*, I've selected two models that perform well. One is XGBoost model, which run the first place as we can see from the leaderboard. The other one is GBM (Gradient Boosting Model) which has the least logloss.<br><br>\n",
    "I will name the **XGBoost** Model as **mod_best**, at the same time, **GBM** Model as **model**"
   ]
  },
  {
   "cell_type": "code",
   "execution_count": 17,
   "metadata": {},
   "outputs": [],
   "source": [
    "aml_leaderboard_df=aml.leaderboard.as_data_frame()\n",
    "model_set=aml_leaderboard_df['model_id']\n",
    "mod_best=h2o.get_model(model_set[0])"
   ]
  },
  {
   "cell_type": "code",
   "execution_count": 18,
   "metadata": {},
   "outputs": [
    {
     "name": "stdout",
     "output_type": "stream",
     "text": [
      "Model Details\n",
      "=============\n",
      "H2OXGBoostEstimator :  XGBoost\n",
      "Model Key:  XGBoost_1_AutoML_20190403_185203\n",
      "\n",
      "\n",
      "ModelMetricsMultinomial: xgboost\n",
      "** Reported on train data. **\n",
      "\n",
      "MSE: 0.3782131116029184\n",
      "RMSE: 0.6149903345605672\n",
      "LogLoss: 1.0533676846424738\n",
      "Mean Per-Class Error: 0.5222057126000716\n",
      "Confusion Matrix: Row labels: Actual class; Column labels: Predicted class\n",
      "\n"
     ]
    },
    {
     "data": {
      "text/html": [
       "<div style=\"overflow:auto\"><table style=\"width:50%\"><tr><td><b>0</b></td>\n",
       "<td><b>1</b></td>\n",
       "<td><b>2</b></td>\n",
       "<td><b>3</b></td>\n",
       "<td><b>4</b></td>\n",
       "<td><b>Error</b></td>\n",
       "<td><b>Rate</b></td></tr>\n",
       "<tr><td>2183.0</td>\n",
       "<td>2773.0</td>\n",
       "<td>1914.0</td>\n",
       "<td>176.0</td>\n",
       "<td>26.0</td>\n",
       "<td>0.6913179</td>\n",
       "<td>4,889 / 7,072</td></tr>\n",
       "<tr><td>1218.0</td>\n",
       "<td>10746.0</td>\n",
       "<td>13981.0</td>\n",
       "<td>1234.0</td>\n",
       "<td>94.0</td>\n",
       "<td>0.6059839</td>\n",
       "<td>16,527 / 27,273</td></tr>\n",
       "<tr><td>381.0</td>\n",
       "<td>4641.0</td>\n",
       "<td>68415.0</td>\n",
       "<td>5765.0</td>\n",
       "<td>380.0</td>\n",
       "<td>0.1403207</td>\n",
       "<td>11,167 / 79,582</td></tr>\n",
       "<tr><td>69.0</td>\n",
       "<td>1135.0</td>\n",
       "<td>14567.0</td>\n",
       "<td>15289.0</td>\n",
       "<td>1867.0</td>\n",
       "<td>0.5356698</td>\n",
       "<td>17,638 / 32,927</td></tr>\n",
       "<tr><td>7.0</td>\n",
       "<td>159.0</td>\n",
       "<td>1694.0</td>\n",
       "<td>4011.0</td>\n",
       "<td>3335.0</td>\n",
       "<td>0.6377363</td>\n",
       "<td>5,871 / 9,206</td></tr>\n",
       "<tr><td>3858.0</td>\n",
       "<td>19454.0</td>\n",
       "<td>100571.0</td>\n",
       "<td>26475.0</td>\n",
       "<td>5702.0</td>\n",
       "<td>0.3594259</td>\n",
       "<td>56,092 / 156,060</td></tr></table></div>"
      ],
      "text/plain": [
       "0     1      2       3      4     Error     Rate\n",
       "----  -----  ------  -----  ----  --------  ----------------\n",
       "2183  2773   1914    176    26    0.691318  4,889 / 7,072\n",
       "1218  10746  13981   1234   94    0.605984  16,527 / 27,273\n",
       "381   4641   68415   5765   380   0.140321  11,167 / 79,582\n",
       "69    1135   14567   15289  1867  0.53567   17,638 / 32,927\n",
       "7     159    1694    4011   3335  0.637736  5,871 / 9,206\n",
       "3858  19454  100571  26475  5702  0.359426  56,092 / 156,060"
      ]
     },
     "metadata": {},
     "output_type": "display_data"
    },
    {
     "name": "stdout",
     "output_type": "stream",
     "text": [
      "Top-5 Hit Ratios: \n"
     ]
    },
    {
     "data": {
      "text/html": [
       "<div style=\"overflow:auto\"><table style=\"width:50%\"><tr><td><b>k</b></td>\n",
       "<td><b>hit_ratio</b></td></tr>\n",
       "<tr><td>1</td>\n",
       "<td>0.6405742</td></tr>\n",
       "<tr><td>2</td>\n",
       "<td>0.8264257</td></tr>\n",
       "<tr><td>3</td>\n",
       "<td>0.9588684</td></tr>\n",
       "<tr><td>4</td>\n",
       "<td>0.9882417</td></tr>\n",
       "<tr><td>5</td>\n",
       "<td>1.0</td></tr></table></div>"
      ],
      "text/plain": [
       "k    hit_ratio\n",
       "---  -----------\n",
       "1    0.640574\n",
       "2    0.826426\n",
       "3    0.958868\n",
       "4    0.988242\n",
       "5    1"
      ]
     },
     "metadata": {},
     "output_type": "display_data"
    },
    {
     "name": "stdout",
     "output_type": "stream",
     "text": [
      "\n",
      "ModelMetricsMultinomial: xgboost\n",
      "** Reported on cross-validation data. **\n",
      "\n",
      "MSE: 0.37766073429299074\n",
      "RMSE: 0.6145410761641493\n",
      "LogLoss: 1.0524307259660532\n",
      "Mean Per-Class Error: 0.5185567303270829\n",
      "Confusion Matrix: Row labels: Actual class; Column labels: Predicted class\n",
      "\n"
     ]
    },
    {
     "data": {
      "text/html": [
       "<div style=\"overflow:auto\"><table style=\"width:50%\"><tr><td><b>0</b></td>\n",
       "<td><b>1</b></td>\n",
       "<td><b>2</b></td>\n",
       "<td><b>3</b></td>\n",
       "<td><b>4</b></td>\n",
       "<td><b>Error</b></td>\n",
       "<td><b>Rate</b></td></tr>\n",
       "<tr><td>2363.0</td>\n",
       "<td>2593.0</td>\n",
       "<td>1914.0</td>\n",
       "<td>176.0</td>\n",
       "<td>26.0</td>\n",
       "<td>0.6658654</td>\n",
       "<td>4,709 / 7,072</td></tr>\n",
       "<tr><td>1403.0</td>\n",
       "<td>10561.0</td>\n",
       "<td>13979.0</td>\n",
       "<td>1234.0</td>\n",
       "<td>96.0</td>\n",
       "<td>0.6127672</td>\n",
       "<td>16,712 / 27,273</td></tr>\n",
       "<tr><td>446.0</td>\n",
       "<td>4576.0</td>\n",
       "<td>68412.0</td>\n",
       "<td>5766.0</td>\n",
       "<td>382.0</td>\n",
       "<td>0.1403584</td>\n",
       "<td>11,170 / 79,582</td></tr>\n",
       "<tr><td>78.0</td>\n",
       "<td>1126.0</td>\n",
       "<td>14569.0</td>\n",
       "<td>15287.0</td>\n",
       "<td>1867.0</td>\n",
       "<td>0.5357306</td>\n",
       "<td>17,640 / 32,927</td></tr>\n",
       "<tr><td>7.0</td>\n",
       "<td>159.0</td>\n",
       "<td>1694.0</td>\n",
       "<td>4014.0</td>\n",
       "<td>3332.0</td>\n",
       "<td>0.6380621</td>\n",
       "<td>5,874 / 9,206</td></tr>\n",
       "<tr><td>4297.0</td>\n",
       "<td>19015.0</td>\n",
       "<td>100568.0</td>\n",
       "<td>26477.0</td>\n",
       "<td>5703.0</td>\n",
       "<td>0.3595092</td>\n",
       "<td>56,105 / 156,060</td></tr></table></div>"
      ],
      "text/plain": [
       "0     1      2       3      4     Error     Rate\n",
       "----  -----  ------  -----  ----  --------  ----------------\n",
       "2363  2593   1914    176    26    0.665865  4,709 / 7,072\n",
       "1403  10561  13979   1234   96    0.612767  16,712 / 27,273\n",
       "446   4576   68412   5766   382   0.140358  11,170 / 79,582\n",
       "78    1126   14569   15287  1867  0.535731  17,640 / 32,927\n",
       "7     159    1694    4014   3332  0.638062  5,874 / 9,206\n",
       "4297  19015  100568  26477  5703  0.359509  56,105 / 156,060"
      ]
     },
     "metadata": {},
     "output_type": "display_data"
    },
    {
     "name": "stdout",
     "output_type": "stream",
     "text": [
      "Top-5 Hit Ratios: \n"
     ]
    },
    {
     "data": {
      "text/html": [
       "<div style=\"overflow:auto\"><table style=\"width:50%\"><tr><td><b>k</b></td>\n",
       "<td><b>hit_ratio</b></td></tr>\n",
       "<tr><td>1</td>\n",
       "<td>0.6404908</td></tr>\n",
       "<tr><td>2</td>\n",
       "<td>0.8248174</td></tr>\n",
       "<tr><td>3</td>\n",
       "<td>0.958375</td></tr>\n",
       "<tr><td>4</td>\n",
       "<td>0.9866206</td></tr>\n",
       "<tr><td>5</td>\n",
       "<td>1.0</td></tr></table></div>"
      ],
      "text/plain": [
       "k    hit_ratio\n",
       "---  -----------\n",
       "1    0.640491\n",
       "2    0.824817\n",
       "3    0.958375\n",
       "4    0.986621\n",
       "5    1"
      ]
     },
     "metadata": {},
     "output_type": "display_data"
    },
    {
     "name": "stdout",
     "output_type": "stream",
     "text": [
      "Cross-Validation Metrics Summary: \n"
     ]
    },
    {
     "data": {
      "text/html": [
       "<div style=\"overflow:auto\"><table style=\"width:50%\"><tr><td><b></b></td>\n",
       "<td><b>mean</b></td>\n",
       "<td><b>sd</b></td>\n",
       "<td><b>cv_1_valid</b></td>\n",
       "<td><b>cv_2_valid</b></td>\n",
       "<td><b>cv_3_valid</b></td>\n",
       "<td><b>cv_4_valid</b></td>\n",
       "<td><b>cv_5_valid</b></td></tr>\n",
       "<tr><td>accuracy</td>\n",
       "<td>0.6404908</td>\n",
       "<td>0.0015913</td>\n",
       "<td>0.6403306</td>\n",
       "<td>0.6427656</td>\n",
       "<td>0.6362617</td>\n",
       "<td>0.6415802</td>\n",
       "<td>0.6415161</td></tr>\n",
       "<tr><td>err</td>\n",
       "<td>0.3595092</td>\n",
       "<td>0.0015913</td>\n",
       "<td>0.3596694</td>\n",
       "<td>0.3572344</td>\n",
       "<td>0.3637383</td>\n",
       "<td>0.3584198</td>\n",
       "<td>0.3584839</td></tr>\n",
       "<tr><td>err_count</td>\n",
       "<td>11221.0</td>\n",
       "<td>49.668903</td>\n",
       "<td>11226.0</td>\n",
       "<td>11150.0</td>\n",
       "<td>11353.0</td>\n",
       "<td>11187.0</td>\n",
       "<td>11189.0</td></tr>\n",
       "<tr><td>logloss</td>\n",
       "<td>1.0524307</td>\n",
       "<td>0.0036143</td>\n",
       "<td>1.0484085</td>\n",
       "<td>1.0567706</td>\n",
       "<td>1.0600762</td>\n",
       "<td>1.0467975</td>\n",
       "<td>1.0501008</td></tr>\n",
       "<tr><td>max_per_class_error</td>\n",
       "<td>0.6658181</td>\n",
       "<td>0.0026072</td>\n",
       "<td>0.6666667</td>\n",
       "<td>0.6587473</td>\n",
       "<td>0.6687719</td>\n",
       "<td>0.6661891</td>\n",
       "<td>0.6687158</td></tr>\n",
       "<tr><td>mean_per_class_accuracy</td>\n",
       "<td>0.4814389</td>\n",
       "<td>0.0024836</td>\n",
       "<td>0.4831356</td>\n",
       "<td>0.4856095</td>\n",
       "<td>0.4761088</td>\n",
       "<td>0.4837058</td>\n",
       "<td>0.4786349</td></tr>\n",
       "<tr><td>mean_per_class_error</td>\n",
       "<td>0.5185611</td>\n",
       "<td>0.0024836</td>\n",
       "<td>0.5168644</td>\n",
       "<td>0.5143905</td>\n",
       "<td>0.5238911</td>\n",
       "<td>0.5162942</td>\n",
       "<td>0.5213652</td></tr>\n",
       "<tr><td>mse</td>\n",
       "<td>0.3776607</td>\n",
       "<td>0.0023251</td>\n",
       "<td>0.3752404</td>\n",
       "<td>0.3810071</td>\n",
       "<td>0.3822803</td>\n",
       "<td>0.3745079</td>\n",
       "<td>0.3752679</td></tr>\n",
       "<tr><td>r2</td>\n",
       "<td>0.5272721</td>\n",
       "<td>0.0037810</td>\n",
       "<td>0.532164</td>\n",
       "<td>0.5237573</td>\n",
       "<td>0.5187320</td>\n",
       "<td>0.5288429</td>\n",
       "<td>0.5328644</td></tr>\n",
       "<tr><td>rmse</td>\n",
       "<td>0.6145353</td>\n",
       "<td>0.0018900</td>\n",
       "<td>0.6125687</td>\n",
       "<td>0.6172578</td>\n",
       "<td>0.6182882</td>\n",
       "<td>0.6119705</td>\n",
       "<td>0.6125911</td></tr></table></div>"
      ],
      "text/plain": [
       "                         mean      sd          cv_1_valid    cv_2_valid    cv_3_valid    cv_4_valid    cv_5_valid\n",
       "-----------------------  --------  ----------  ------------  ------------  ------------  ------------  ------------\n",
       "accuracy                 0.640491  0.00159134  0.640331      0.642766      0.636262      0.64158       0.641516\n",
       "err                      0.359509  0.00159134  0.359669      0.357234      0.363738      0.35842       0.358484\n",
       "err_count                11221     49.6689     11226         11150         11353         11187         11189\n",
       "logloss                  1.05243   0.00361426  1.04841       1.05677       1.06008       1.0468        1.0501\n",
       "max_per_class_error      0.665818  0.00260722  0.666667      0.658747      0.668772      0.666189      0.668716\n",
       "mean_per_class_accuracy  0.481439  0.00248362  0.483136      0.485609      0.476109      0.483706      0.478635\n",
       "mean_per_class_error     0.518561  0.00248362  0.516864      0.51439       0.523891      0.516294      0.521365\n",
       "mse                      0.377661  0.00232513  0.37524       0.381007      0.38228       0.374508      0.375268\n",
       "r2                       0.527272  0.003781    0.532164      0.523757      0.518732      0.528843      0.532864\n",
       "rmse                     0.614535  0.00189001  0.612569      0.617258      0.618288      0.61197       0.612591"
      ]
     },
     "metadata": {},
     "output_type": "display_data"
    },
    {
     "name": "stdout",
     "output_type": "stream",
     "text": [
      "Scoring History: \n"
     ]
    },
    {
     "data": {
      "text/html": [
       "<div style=\"overflow:auto\"><table style=\"width:50%\"><tr><td><b></b></td>\n",
       "<td><b>timestamp</b></td>\n",
       "<td><b>duration</b></td>\n",
       "<td><b>number_of_trees</b></td>\n",
       "<td><b>training_rmse</b></td>\n",
       "<td><b>training_logloss</b></td>\n",
       "<td><b>training_classification_error</b></td></tr>\n",
       "<tr><td></td>\n",
       "<td>2019-04-03 19:07:35</td>\n",
       "<td> 1 min 58.716 sec</td>\n",
       "<td>0.0</td>\n",
       "<td>0.8000000</td>\n",
       "<td>1.6094379</td>\n",
       "<td>0.7890106</td></tr>\n",
       "<tr><td></td>\n",
       "<td>2019-04-03 19:07:36</td>\n",
       "<td> 1 min 59.939 sec</td>\n",
       "<td>5.0</td>\n",
       "<td>0.7679990</td>\n",
       "<td>1.4678020</td>\n",
       "<td>0.4058503</td></tr>\n",
       "<tr><td></td>\n",
       "<td>2019-04-03 19:07:37</td>\n",
       "<td> 2 min  1.001 sec</td>\n",
       "<td>10.0</td>\n",
       "<td>0.7386759</td>\n",
       "<td>1.3609946</td>\n",
       "<td>0.3599577</td></tr>\n",
       "<tr><td></td>\n",
       "<td>2019-04-03 19:07:38</td>\n",
       "<td> 2 min  2.007 sec</td>\n",
       "<td>15.0</td>\n",
       "<td>0.7136354</td>\n",
       "<td>1.2824532</td>\n",
       "<td>0.3594130</td></tr>\n",
       "<tr><td></td>\n",
       "<td>2019-04-03 19:07:39</td>\n",
       "<td> 2 min  3.076 sec</td>\n",
       "<td>20.0</td>\n",
       "<td>0.6905408</td>\n",
       "<td>1.2184446</td>\n",
       "<td>0.3594066</td></tr>\n",
       "<tr><td></td>\n",
       "<td>2019-04-03 19:07:41</td>\n",
       "<td> 2 min  4.204 sec</td>\n",
       "<td>25.0</td>\n",
       "<td>0.6736439</td>\n",
       "<td>1.1760474</td>\n",
       "<td>0.3594259</td></tr>\n",
       "<tr><td></td>\n",
       "<td>2019-04-03 19:07:42</td>\n",
       "<td> 2 min  5.407 sec</td>\n",
       "<td>30.0</td>\n",
       "<td>0.6602159</td>\n",
       "<td>1.1450163</td>\n",
       "<td>0.3592144</td></tr>\n",
       "<tr><td></td>\n",
       "<td>2019-04-03 19:07:43</td>\n",
       "<td> 2 min  6.636 sec</td>\n",
       "<td>35.0</td>\n",
       "<td>0.6481569</td>\n",
       "<td>1.1184831</td>\n",
       "<td>0.3594323</td></tr>\n",
       "<tr><td></td>\n",
       "<td>2019-04-03 19:07:44</td>\n",
       "<td> 2 min  7.938 sec</td>\n",
       "<td>40.0</td>\n",
       "<td>0.6379404</td>\n",
       "<td>1.0973963</td>\n",
       "<td>0.3595796</td></tr>\n",
       "<tr><td></td>\n",
       "<td>2019-04-03 19:07:46</td>\n",
       "<td> 2 min  9.388 sec</td>\n",
       "<td>45.0</td>\n",
       "<td>0.6303097</td>\n",
       "<td>1.0822860</td>\n",
       "<td>0.3594130</td></tr>\n",
       "<tr><td></td>\n",
       "<td>2019-04-03 19:07:47</td>\n",
       "<td> 2 min 10.800 sec</td>\n",
       "<td>50.0</td>\n",
       "<td>0.6243450</td>\n",
       "<td>1.0708890</td>\n",
       "<td>0.3594579</td></tr>\n",
       "<tr><td></td>\n",
       "<td>2019-04-03 19:07:49</td>\n",
       "<td> 2 min 12.510 sec</td>\n",
       "<td>55.0</td>\n",
       "<td>0.6181353</td>\n",
       "<td>1.0588971</td>\n",
       "<td>0.3594579</td></tr>\n",
       "<tr><td></td>\n",
       "<td>2019-04-03 19:07:50</td>\n",
       "<td> 2 min 14.051 sec</td>\n",
       "<td>58.0</td>\n",
       "<td>0.6149903</td>\n",
       "<td>1.0533677</td>\n",
       "<td>0.3594259</td></tr></table></div>"
      ],
      "text/plain": [
       "    timestamp            duration          number_of_trees    training_rmse    training_logloss    training_classification_error\n",
       "--  -------------------  ----------------  -----------------  ---------------  ------------------  -------------------------------\n",
       "    2019-04-03 19:07:35  1 min 58.716 sec  0                  0.8              1.60944             0.789011\n",
       "    2019-04-03 19:07:36  1 min 59.939 sec  5                  0.767999         1.4678              0.40585\n",
       "    2019-04-03 19:07:37  2 min  1.001 sec  10                 0.738676         1.36099             0.359958\n",
       "    2019-04-03 19:07:38  2 min  2.007 sec  15                 0.713635         1.28245             0.359413\n",
       "    2019-04-03 19:07:39  2 min  3.076 sec  20                 0.690541         1.21844             0.359407\n",
       "    2019-04-03 19:07:41  2 min  4.204 sec  25                 0.673644         1.17605             0.359426\n",
       "    2019-04-03 19:07:42  2 min  5.407 sec  30                 0.660216         1.14502             0.359214\n",
       "    2019-04-03 19:07:43  2 min  6.636 sec  35                 0.648157         1.11848             0.359432\n",
       "    2019-04-03 19:07:44  2 min  7.938 sec  40                 0.63794          1.0974              0.35958\n",
       "    2019-04-03 19:07:46  2 min  9.388 sec  45                 0.63031          1.08229             0.359413\n",
       "    2019-04-03 19:07:47  2 min 10.800 sec  50                 0.624345         1.07089             0.359458\n",
       "    2019-04-03 19:07:49  2 min 12.510 sec  55                 0.618135         1.0589              0.359458\n",
       "    2019-04-03 19:07:50  2 min 14.051 sec  58                 0.61499          1.05337             0.359426"
      ]
     },
     "metadata": {},
     "output_type": "display_data"
    },
    {
     "name": "stdout",
     "output_type": "stream",
     "text": [
      "Variable Importances: \n"
     ]
    },
    {
     "data": {
      "text/html": [
       "<div style=\"overflow:auto\"><table style=\"width:50%\"><tr><td><b>variable</b></td>\n",
       "<td><b>relative_importance</b></td>\n",
       "<td><b>scaled_importance</b></td>\n",
       "<td><b>percentage</b></td></tr>\n",
       "<tr><td>SentimentM1</td>\n",
       "<td>595629.6875000</td>\n",
       "<td>1.0</td>\n",
       "<td>0.9746365</td></tr>\n",
       "<tr><td>PhraseId</td>\n",
       "<td>8686.3710938</td>\n",
       "<td>0.0145835</td>\n",
       "<td>0.0142136</td></tr>\n",
       "<tr><td>SentenceId</td>\n",
       "<td>6814.0507812</td>\n",
       "<td>0.0114401</td>\n",
       "<td>0.0111499</td></tr></table></div>"
      ],
      "text/plain": [
       "variable     relative_importance    scaled_importance    percentage\n",
       "-----------  ---------------------  -------------------  ------------\n",
       "SentimentM1  595630                 1                    0.974636\n",
       "PhraseId     8686.37                0.0145835            0.0142136\n",
       "SentenceId   6814.05                0.0114401            0.0111499"
      ]
     },
     "metadata": {},
     "output_type": "display_data"
    },
    {
     "data": {
      "text/plain": []
     },
     "execution_count": 18,
     "metadata": {},
     "output_type": "execute_result"
    }
   ],
   "source": [
    "mod_best"
   ]
  },
  {
   "cell_type": "code",
   "execution_count": 19,
   "metadata": {},
   "outputs": [
    {
     "data": {
      "text/plain": [
       "'xgboost'"
      ]
     },
     "execution_count": 19,
     "metadata": {},
     "output_type": "execute_result"
    }
   ],
   "source": [
    "mod_best.algo"
   ]
  },
  {
   "cell_type": "code",
   "execution_count": 20,
   "metadata": {},
   "outputs": [
    {
     "data": {
      "text/plain": [
       "'gbm'"
      ]
     },
     "execution_count": 20,
     "metadata": {},
     "output_type": "execute_result"
    }
   ],
   "source": [
    "model = h2o.get_model(aml.leaderboard[5,'model_id'])\n",
    "model.algo"
   ]
  },
  {
   "cell_type": "code",
   "execution_count": 21,
   "metadata": {},
   "outputs": [
    {
     "name": "stdout",
     "output_type": "stream",
     "text": [
      "Model Details\n",
      "=============\n",
      "H2OGradientBoostingEstimator :  Gradient Boosting Machine\n",
      "Model Key:  GBM_2_AutoML_20190403_185203\n",
      "\n",
      "\n",
      "ModelMetricsMultinomial: gbm\n",
      "** Reported on train data. **\n",
      "\n",
      "MSE: 0.3602525771288419\n",
      "RMSE: 0.600210444035125\n",
      "LogLoss: 1.023761984731218\n",
      "Mean Per-Class Error: 0.5212745950931236\n",
      "Confusion Matrix: Row labels: Actual class; Column labels: Predicted class\n",
      "\n"
     ]
    },
    {
     "data": {
      "text/html": [
       "<div style=\"overflow:auto\"><table style=\"width:50%\"><tr><td><b>0</b></td>\n",
       "<td><b>1</b></td>\n",
       "<td><b>2</b></td>\n",
       "<td><b>3</b></td>\n",
       "<td><b>4</b></td>\n",
       "<td><b>Error</b></td>\n",
       "<td><b>Rate</b></td></tr>\n",
       "<tr><td>2264.0</td>\n",
       "<td>2693.0</td>\n",
       "<td>1914.0</td>\n",
       "<td>177.0</td>\n",
       "<td>24.0</td>\n",
       "<td>0.6798643</td>\n",
       "<td>4,808 / 7,072</td></tr>\n",
       "<tr><td>1243.0</td>\n",
       "<td>10727.0</td>\n",
       "<td>13995.0</td>\n",
       "<td>1223.0</td>\n",
       "<td>85.0</td>\n",
       "<td>0.6066806</td>\n",
       "<td>16,546 / 27,273</td></tr>\n",
       "<tr><td>377.0</td>\n",
       "<td>4626.0</td>\n",
       "<td>68477.0</td>\n",
       "<td>5762.0</td>\n",
       "<td>340.0</td>\n",
       "<td>0.1395416</td>\n",
       "<td>11,105 / 79,582</td></tr>\n",
       "<tr><td>69.0</td>\n",
       "<td>1133.0</td>\n",
       "<td>14577.0</td>\n",
       "<td>15438.0</td>\n",
       "<td>1710.0</td>\n",
       "<td>0.5311447</td>\n",
       "<td>17,489 / 32,927</td></tr>\n",
       "<tr><td>7.0</td>\n",
       "<td>157.0</td>\n",
       "<td>1698.0</td>\n",
       "<td>4114.0</td>\n",
       "<td>3230.0</td>\n",
       "<td>0.6491419</td>\n",
       "<td>5,976 / 9,206</td></tr>\n",
       "<tr><td>3960.0</td>\n",
       "<td>19336.0</td>\n",
       "<td>100661.0</td>\n",
       "<td>26714.0</td>\n",
       "<td>5389.0</td>\n",
       "<td>0.3583494</td>\n",
       "<td>55,924 / 156,060</td></tr></table></div>"
      ],
      "text/plain": [
       "0     1      2       3      4     Error     Rate\n",
       "----  -----  ------  -----  ----  --------  ----------------\n",
       "2264  2693   1914    177    24    0.679864  4,808 / 7,072\n",
       "1243  10727  13995   1223   85    0.606681  16,546 / 27,273\n",
       "377   4626   68477   5762   340   0.139542  11,105 / 79,582\n",
       "69    1133   14577   15438  1710  0.531145  17,489 / 32,927\n",
       "7     157    1698    4114   3230  0.649142  5,976 / 9,206\n",
       "3960  19336  100661  26714  5389  0.358349  55,924 / 156,060"
      ]
     },
     "metadata": {},
     "output_type": "display_data"
    },
    {
     "name": "stdout",
     "output_type": "stream",
     "text": [
      "Top-5 Hit Ratios: \n"
     ]
    },
    {
     "data": {
      "text/html": [
       "<div style=\"overflow:auto\"><table style=\"width:50%\"><tr><td><b>k</b></td>\n",
       "<td><b>hit_ratio</b></td></tr>\n",
       "<tr><td>1</td>\n",
       "<td>0.6416507</td></tr>\n",
       "<tr><td>2</td>\n",
       "<td>0.8330194</td></tr>\n",
       "<tr><td>3</td>\n",
       "<td>0.9584583</td></tr>\n",
       "<tr><td>4</td>\n",
       "<td>0.9866974</td></tr>\n",
       "<tr><td>5</td>\n",
       "<td>1.0</td></tr></table></div>"
      ],
      "text/plain": [
       "k    hit_ratio\n",
       "---  -----------\n",
       "1    0.641651\n",
       "2    0.833019\n",
       "3    0.958458\n",
       "4    0.986697\n",
       "5    1"
      ]
     },
     "metadata": {},
     "output_type": "display_data"
    },
    {
     "name": "stdout",
     "output_type": "stream",
     "text": [
      "\n",
      "ModelMetricsMultinomial: gbm\n",
      "** Reported on cross-validation data. **\n",
      "\n",
      "MSE: 0.362860776738782\n",
      "RMSE: 0.6023792632044881\n",
      "LogLoss: 1.0305772465589829\n",
      "Mean Per-Class Error: 0.5257796504218959\n",
      "Confusion Matrix: Row labels: Actual class; Column labels: Predicted class\n",
      "\n"
     ]
    },
    {
     "data": {
      "text/html": [
       "<div style=\"overflow:auto\"><table style=\"width:50%\"><tr><td><b>0</b></td>\n",
       "<td><b>1</b></td>\n",
       "<td><b>2</b></td>\n",
       "<td><b>3</b></td>\n",
       "<td><b>4</b></td>\n",
       "<td><b>Error</b></td>\n",
       "<td><b>Rate</b></td></tr>\n",
       "<tr><td>2184.0</td>\n",
       "<td>2768.0</td>\n",
       "<td>1918.0</td>\n",
       "<td>178.0</td>\n",
       "<td>24.0</td>\n",
       "<td>0.6911765</td>\n",
       "<td>4,888 / 7,072</td></tr>\n",
       "<tr><td>1278.0</td>\n",
       "<td>10683.0</td>\n",
       "<td>14002.0</td>\n",
       "<td>1225.0</td>\n",
       "<td>85.0</td>\n",
       "<td>0.6082939</td>\n",
       "<td>16,590 / 27,273</td></tr>\n",
       "<tr><td>376.0</td>\n",
       "<td>4642.0</td>\n",
       "<td>68439.0</td>\n",
       "<td>5789.0</td>\n",
       "<td>336.0</td>\n",
       "<td>0.1400191</td>\n",
       "<td>11,143 / 79,582</td></tr>\n",
       "<tr><td>67.0</td>\n",
       "<td>1137.0</td>\n",
       "<td>14587.0</td>\n",
       "<td>15388.0</td>\n",
       "<td>1748.0</td>\n",
       "<td>0.5326632</td>\n",
       "<td>17,539 / 32,927</td></tr>\n",
       "<tr><td>7.0</td>\n",
       "<td>158.0</td>\n",
       "<td>1696.0</td>\n",
       "<td>4185.0</td>\n",
       "<td>3160.0</td>\n",
       "<td>0.6567456</td>\n",
       "<td>6,046 / 9,206</td></tr>\n",
       "<tr><td>3912.0</td>\n",
       "<td>19388.0</td>\n",
       "<td>100642.0</td>\n",
       "<td>26765.0</td>\n",
       "<td>5353.0</td>\n",
       "<td>0.3601564</td>\n",
       "<td>56,206 / 156,060</td></tr></table></div>"
      ],
      "text/plain": [
       "0     1      2       3      4     Error     Rate\n",
       "----  -----  ------  -----  ----  --------  ----------------\n",
       "2184  2768   1918    178    24    0.691176  4,888 / 7,072\n",
       "1278  10683  14002   1225   85    0.608294  16,590 / 27,273\n",
       "376   4642   68439   5789   336   0.140019  11,143 / 79,582\n",
       "67    1137   14587   15388  1748  0.532663  17,539 / 32,927\n",
       "7     158    1696    4185   3160  0.656746  6,046 / 9,206\n",
       "3912  19388  100642  26765  5353  0.360156  56,206 / 156,060"
      ]
     },
     "metadata": {},
     "output_type": "display_data"
    },
    {
     "name": "stdout",
     "output_type": "stream",
     "text": [
      "Top-5 Hit Ratios: \n"
     ]
    },
    {
     "data": {
      "text/html": [
       "<div style=\"overflow:auto\"><table style=\"width:50%\"><tr><td><b>k</b></td>\n",
       "<td><b>hit_ratio</b></td></tr>\n",
       "<tr><td>1</td>\n",
       "<td>0.6398436</td></tr>\n",
       "<tr><td>2</td>\n",
       "<td>0.8293989</td></tr>\n",
       "<tr><td>3</td>\n",
       "<td>0.9578495</td></tr>\n",
       "<tr><td>4</td>\n",
       "<td>0.9862745</td></tr>\n",
       "<tr><td>5</td>\n",
       "<td>1.0</td></tr></table></div>"
      ],
      "text/plain": [
       "k    hit_ratio\n",
       "---  -----------\n",
       "1    0.639844\n",
       "2    0.829399\n",
       "3    0.95785\n",
       "4    0.986275\n",
       "5    1"
      ]
     },
     "metadata": {},
     "output_type": "display_data"
    },
    {
     "name": "stdout",
     "output_type": "stream",
     "text": [
      "Cross-Validation Metrics Summary: \n"
     ]
    },
    {
     "data": {
      "text/html": [
       "<div style=\"overflow:auto\"><table style=\"width:50%\"><tr><td><b></b></td>\n",
       "<td><b>mean</b></td>\n",
       "<td><b>sd</b></td>\n",
       "<td><b>cv_1_valid</b></td>\n",
       "<td><b>cv_2_valid</b></td>\n",
       "<td><b>cv_3_valid</b></td>\n",
       "<td><b>cv_4_valid</b></td>\n",
       "<td><b>cv_5_valid</b></td></tr>\n",
       "<tr><td>accuracy</td>\n",
       "<td>0.6398436</td>\n",
       "<td>0.0016763</td>\n",
       "<td>0.6393374</td>\n",
       "<td>0.6417404</td>\n",
       "<td>0.6354607</td>\n",
       "<td>0.6418685</td>\n",
       "<td>0.6408112</td></tr>\n",
       "<tr><td>err</td>\n",
       "<td>0.3601564</td>\n",
       "<td>0.0016763</td>\n",
       "<td>0.3606626</td>\n",
       "<td>0.3582596</td>\n",
       "<td>0.3645393</td>\n",
       "<td>0.3581315</td>\n",
       "<td>0.3591888</td></tr>\n",
       "<tr><td>err_count</td>\n",
       "<td>11241.2</td>\n",
       "<td>52.320934</td>\n",
       "<td>11257.0</td>\n",
       "<td>11182.0</td>\n",
       "<td>11378.0</td>\n",
       "<td>11178.0</td>\n",
       "<td>11211.0</td></tr>\n",
       "<tr><td>logloss</td>\n",
       "<td>1.0305773</td>\n",
       "<td>0.0015814</td>\n",
       "<td>1.0305316</td>\n",
       "<td>1.0299027</td>\n",
       "<td>1.0341306</td>\n",
       "<td>1.0271719</td>\n",
       "<td>1.0311495</td></tr>\n",
       "<tr><td>max_per_class_error</td>\n",
       "<td>0.6911059</td>\n",
       "<td>0.0057290</td>\n",
       "<td>0.7010014</td>\n",
       "<td>0.6810655</td>\n",
       "<td>0.6968421</td>\n",
       "<td>0.6819484</td>\n",
       "<td>0.6946721</td></tr>\n",
       "<tr><td>mean_per_class_accuracy</td>\n",
       "<td>0.4742235</td>\n",
       "<td>0.0027388</td>\n",
       "<td>0.4740294</td>\n",
       "<td>0.4783736</td>\n",
       "<td>0.4685284</td>\n",
       "<td>0.4785430</td>\n",
       "<td>0.4716432</td></tr>\n",
       "<tr><td>mean_per_class_error</td>\n",
       "<td>0.5257765</td>\n",
       "<td>0.0027388</td>\n",
       "<td>0.5259706</td>\n",
       "<td>0.5216265</td>\n",
       "<td>0.5314716</td>\n",
       "<td>0.521457</td>\n",
       "<td>0.5283568</td></tr>\n",
       "<tr><td>mse</td>\n",
       "<td>0.3628608</td>\n",
       "<td>0.0004354</td>\n",
       "<td>0.3631523</td>\n",
       "<td>0.3627205</td>\n",
       "<td>0.363794</td>\n",
       "<td>0.3619111</td>\n",
       "<td>0.3627259</td></tr>\n",
       "<tr><td>r2</td>\n",
       "<td>0.5458044</td>\n",
       "<td>0.0015975</td>\n",
       "<td>0.5472349</td>\n",
       "<td>0.5466148</td>\n",
       "<td>0.5420051</td>\n",
       "<td>0.5446906</td>\n",
       "<td>0.5484767</td></tr>\n",
       "<tr><td>rmse</td>\n",
       "<td>0.602379</td>\n",
       "<td>0.0003614</td>\n",
       "<td>0.6026212</td>\n",
       "<td>0.6022629</td>\n",
       "<td>0.6031534</td>\n",
       "<td>0.6015904</td>\n",
       "<td>0.6022673</td></tr></table></div>"
      ],
      "text/plain": [
       "                         mean      sd           cv_1_valid    cv_2_valid    cv_3_valid    cv_4_valid    cv_5_valid\n",
       "-----------------------  --------  -----------  ------------  ------------  ------------  ------------  ------------\n",
       "accuracy                 0.639844  0.00167631   0.639337      0.64174       0.635461      0.641869      0.640811\n",
       "err                      0.360156  0.00167631   0.360663      0.35826       0.364539      0.358131      0.359189\n",
       "err_count                11241.2   52.3209      11257         11182         11378         11178         11211\n",
       "logloss                  1.03058   0.00158138   1.03053       1.0299        1.03413       1.02717       1.03115\n",
       "max_per_class_error      0.691106  0.00572898   0.701001      0.681065      0.696842      0.681948      0.694672\n",
       "mean_per_class_accuracy  0.474224  0.0027388    0.474029      0.478374      0.468528      0.478543      0.471643\n",
       "mean_per_class_error     0.525776  0.0027388    0.525971      0.521626      0.531472      0.521457      0.528357\n",
       "mse                      0.362861  0.000435392  0.363152      0.362721      0.363794      0.361911      0.362726\n",
       "r2                       0.545804  0.0015975    0.547235      0.546615      0.542005      0.544691      0.548477\n",
       "rmse                     0.602379  0.000361397  0.602621      0.602263      0.603153      0.60159       0.602267"
      ]
     },
     "metadata": {},
     "output_type": "display_data"
    },
    {
     "name": "stdout",
     "output_type": "stream",
     "text": [
      "Scoring History: \n"
     ]
    },
    {
     "data": {
      "text/html": [
       "<div style=\"overflow:auto\"><table style=\"width:50%\"><tr><td><b></b></td>\n",
       "<td><b>timestamp</b></td>\n",
       "<td><b>duration</b></td>\n",
       "<td><b>number_of_trees</b></td>\n",
       "<td><b>training_rmse</b></td>\n",
       "<td><b>training_logloss</b></td>\n",
       "<td><b>training_classification_error</b></td></tr>\n",
       "<tr><td></td>\n",
       "<td>2019-04-03 19:15:11</td>\n",
       "<td> 1 min  1.491 sec</td>\n",
       "<td>0.0</td>\n",
       "<td>0.8000000</td>\n",
       "<td>1.6094379</td>\n",
       "<td>0.6597591</td></tr>\n",
       "<tr><td></td>\n",
       "<td>2019-04-03 19:15:13</td>\n",
       "<td> 1 min  3.092 sec</td>\n",
       "<td>5.0</td>\n",
       "<td>0.7049693</td>\n",
       "<td>1.2578516</td>\n",
       "<td>0.3587723</td></tr>\n",
       "<tr><td></td>\n",
       "<td>2019-04-03 19:15:15</td>\n",
       "<td> 1 min  4.923 sec</td>\n",
       "<td>10.0</td>\n",
       "<td>0.6470134</td>\n",
       "<td>1.1143496</td>\n",
       "<td>0.3588428</td></tr>\n",
       "<tr><td></td>\n",
       "<td>2019-04-03 19:15:17</td>\n",
       "<td> 1 min  6.564 sec</td>\n",
       "<td>15.0</td>\n",
       "<td>0.6202089</td>\n",
       "<td>1.0596427</td>\n",
       "<td>0.3585031</td></tr>\n",
       "<tr><td></td>\n",
       "<td>2019-04-03 19:15:18</td>\n",
       "<td> 1 min  7.697 sec</td>\n",
       "<td>20.0</td>\n",
       "<td>0.6106009</td>\n",
       "<td>1.0428996</td>\n",
       "<td>0.3584519</td></tr>\n",
       "<tr><td></td>\n",
       "<td>2019-04-03 19:15:19</td>\n",
       "<td> 1 min  8.675 sec</td>\n",
       "<td>25.0</td>\n",
       "<td>0.6028881</td>\n",
       "<td>1.0289362</td>\n",
       "<td>0.3582532</td></tr>\n",
       "<tr><td></td>\n",
       "<td>2019-04-03 19:15:19</td>\n",
       "<td> 1 min  9.176 sec</td>\n",
       "<td>30.0</td>\n",
       "<td>0.6002104</td>\n",
       "<td>1.0237620</td>\n",
       "<td>0.3583494</td></tr></table></div>"
      ],
      "text/plain": [
       "    timestamp            duration          number_of_trees    training_rmse    training_logloss    training_classification_error\n",
       "--  -------------------  ----------------  -----------------  ---------------  ------------------  -------------------------------\n",
       "    2019-04-03 19:15:11  1 min  1.491 sec  0                  0.8              1.60944             0.659759\n",
       "    2019-04-03 19:15:13  1 min  3.092 sec  5                  0.704969         1.25785             0.358772\n",
       "    2019-04-03 19:15:15  1 min  4.923 sec  10                 0.647013         1.11435             0.358843\n",
       "    2019-04-03 19:15:17  1 min  6.564 sec  15                 0.620209         1.05964             0.358503\n",
       "    2019-04-03 19:15:18  1 min  7.697 sec  20                 0.610601         1.0429              0.358452\n",
       "    2019-04-03 19:15:19  1 min  8.675 sec  25                 0.602888         1.02894             0.358253\n",
       "    2019-04-03 19:15:19  1 min  9.176 sec  30                 0.60021          1.02376             0.358349"
      ]
     },
     "metadata": {},
     "output_type": "display_data"
    },
    {
     "name": "stdout",
     "output_type": "stream",
     "text": [
      "Variable Importances: \n"
     ]
    },
    {
     "data": {
      "text/html": [
       "<div style=\"overflow:auto\"><table style=\"width:50%\"><tr><td><b>variable</b></td>\n",
       "<td><b>relative_importance</b></td>\n",
       "<td><b>scaled_importance</b></td>\n",
       "<td><b>percentage</b></td></tr>\n",
       "<tr><td>SentimentM1</td>\n",
       "<td>78767.0625000</td>\n",
       "<td>1.0</td>\n",
       "<td>0.9451131</td></tr>\n",
       "<tr><td>SentenceId</td>\n",
       "<td>2428.4699707</td>\n",
       "<td>0.0308310</td>\n",
       "<td>0.0291388</td></tr>\n",
       "<tr><td>PhraseId</td>\n",
       "<td>2145.8820801</td>\n",
       "<td>0.0272434</td>\n",
       "<td>0.0257481</td></tr></table></div>"
      ],
      "text/plain": [
       "variable     relative_importance    scaled_importance    percentage\n",
       "-----------  ---------------------  -------------------  ------------\n",
       "SentimentM1  78767.1                1                    0.945113\n",
       "SentenceId   2428.47                0.030831             0.0291388\n",
       "PhraseId     2145.88                0.0272434            0.0257481"
      ]
     },
     "metadata": {},
     "output_type": "display_data"
    },
    {
     "data": {
      "text/plain": []
     },
     "execution_count": 21,
     "metadata": {},
     "output_type": "execute_result"
    }
   ],
   "source": [
    "model"
   ]
  },
  {
   "cell_type": "code",
   "execution_count": 22,
   "metadata": {},
   "outputs": [],
   "source": [
    "# Find the 80th quantile of PhraseId in the dataset\n",
    "Phrase_split = df_train[\"PhraseId\"].quantile(prob = [0.8])[1]\n",
    "df_train[\"Train\"] = (df_train[\"PhraseId\"] < Phrase_split).ifelse(\"Yes\", \"No\")"
   ]
  },
  {
   "cell_type": "code",
   "execution_count": 23,
   "metadata": {},
   "outputs": [],
   "source": [
    "df_train1 = df_train[df_train[\"Train\"] == \"Yes\"]\n",
    "df_test1 = df_train[df_train[\"Train\"] == \"No\"]"
   ]
  },
  {
   "cell_type": "code",
   "execution_count": 24,
   "metadata": {},
   "outputs": [
    {
     "data": {
      "text/html": [
       "<table>\n",
       "<thead>\n",
       "<tr><th style=\"text-align: right;\">  PhraseId</th><th style=\"text-align: right;\">  SentenceId</th><th>Phrase                                                                                                                                                                                      </th><th style=\"text-align: right;\">  Sentiment</th><th style=\"text-align: right;\">  SentimentM1</th><th>Train  </th></tr>\n",
       "</thead>\n",
       "<tbody>\n",
       "<tr><td style=\"text-align: right;\">         1</td><td style=\"text-align: right;\">           1</td><td>A series of escapades demonstrating the adage that what is good for the goose is also good for the gander , some of which occasionally amuses but none of which amounts to much of a story .</td><td style=\"text-align: right;\">          1</td><td style=\"text-align: right;\">            3</td><td>Yes    </td></tr>\n",
       "<tr><td style=\"text-align: right;\">         2</td><td style=\"text-align: right;\">           1</td><td>A series of escapades demonstrating the adage that what is good for the goose                                                                                                               </td><td style=\"text-align: right;\">          2</td><td style=\"text-align: right;\">            2</td><td>Yes    </td></tr>\n",
       "<tr><td style=\"text-align: right;\">         3</td><td style=\"text-align: right;\">           1</td><td>A series                                                                                                                                                                                    </td><td style=\"text-align: right;\">          2</td><td style=\"text-align: right;\">            2</td><td>Yes    </td></tr>\n",
       "<tr><td style=\"text-align: right;\">         4</td><td style=\"text-align: right;\">           1</td><td>A                                                                                                                                                                                           </td><td style=\"text-align: right;\">          2</td><td style=\"text-align: right;\">            2</td><td>Yes    </td></tr>\n",
       "<tr><td style=\"text-align: right;\">         5</td><td style=\"text-align: right;\">           1</td><td>series                                                                                                                                                                                      </td><td style=\"text-align: right;\">          2</td><td style=\"text-align: right;\">            2</td><td>Yes    </td></tr>\n",
       "<tr><td style=\"text-align: right;\">         6</td><td style=\"text-align: right;\">           1</td><td>of escapades demonstrating the adage that what is good for the goose                                                                                                                        </td><td style=\"text-align: right;\">          2</td><td style=\"text-align: right;\">            2</td><td>Yes    </td></tr>\n",
       "<tr><td style=\"text-align: right;\">         7</td><td style=\"text-align: right;\">           1</td><td>of                                                                                                                                                                                          </td><td style=\"text-align: right;\">          2</td><td style=\"text-align: right;\">            2</td><td>Yes    </td></tr>\n",
       "<tr><td style=\"text-align: right;\">         8</td><td style=\"text-align: right;\">           1</td><td>escapades demonstrating the adage that what is good for the goose                                                                                                                           </td><td style=\"text-align: right;\">          2</td><td style=\"text-align: right;\">            2</td><td>Yes    </td></tr>\n",
       "<tr><td style=\"text-align: right;\">         9</td><td style=\"text-align: right;\">           1</td><td>escapades                                                                                                                                                                                   </td><td style=\"text-align: right;\">          2</td><td style=\"text-align: right;\">            2</td><td>Yes    </td></tr>\n",
       "<tr><td style=\"text-align: right;\">        10</td><td style=\"text-align: right;\">           1</td><td>demonstrating the adage that what is good for the goose                                                                                                                                     </td><td style=\"text-align: right;\">          2</td><td style=\"text-align: right;\">            2</td><td>Yes    </td></tr>\n",
       "</tbody>\n",
       "</table>"
      ]
     },
     "metadata": {},
     "output_type": "display_data"
    },
    {
     "data": {
      "text/plain": []
     },
     "execution_count": 24,
     "metadata": {},
     "output_type": "execute_result"
    }
   ],
   "source": [
    "df_train"
   ]
  },
  {
   "cell_type": "code",
   "execution_count": 25,
   "metadata": {},
   "outputs": [
    {
     "data": {
      "text/html": [
       "<table>\n",
       "<thead>\n",
       "<tr><th style=\"text-align: right;\">  PhraseId</th><th style=\"text-align: right;\">  SentenceId</th><th>Phrase                                                                                                                                                                                      </th><th style=\"text-align: right;\">  Sentiment</th><th style=\"text-align: right;\">  SentimentM1</th><th>Train  </th></tr>\n",
       "</thead>\n",
       "<tbody>\n",
       "<tr><td style=\"text-align: right;\">         1</td><td style=\"text-align: right;\">           1</td><td>A series of escapades demonstrating the adage that what is good for the goose is also good for the gander , some of which occasionally amuses but none of which amounts to much of a story .</td><td style=\"text-align: right;\">          1</td><td style=\"text-align: right;\">            3</td><td>Yes    </td></tr>\n",
       "<tr><td style=\"text-align: right;\">         2</td><td style=\"text-align: right;\">           1</td><td>A series of escapades demonstrating the adage that what is good for the goose                                                                                                               </td><td style=\"text-align: right;\">          2</td><td style=\"text-align: right;\">            2</td><td>Yes    </td></tr>\n",
       "<tr><td style=\"text-align: right;\">         3</td><td style=\"text-align: right;\">           1</td><td>A series                                                                                                                                                                                    </td><td style=\"text-align: right;\">          2</td><td style=\"text-align: right;\">            2</td><td>Yes    </td></tr>\n",
       "<tr><td style=\"text-align: right;\">         4</td><td style=\"text-align: right;\">           1</td><td>A                                                                                                                                                                                           </td><td style=\"text-align: right;\">          2</td><td style=\"text-align: right;\">            2</td><td>Yes    </td></tr>\n",
       "<tr><td style=\"text-align: right;\">         5</td><td style=\"text-align: right;\">           1</td><td>series                                                                                                                                                                                      </td><td style=\"text-align: right;\">          2</td><td style=\"text-align: right;\">            2</td><td>Yes    </td></tr>\n",
       "<tr><td style=\"text-align: right;\">         6</td><td style=\"text-align: right;\">           1</td><td>of escapades demonstrating the adage that what is good for the goose                                                                                                                        </td><td style=\"text-align: right;\">          2</td><td style=\"text-align: right;\">            2</td><td>Yes    </td></tr>\n",
       "<tr><td style=\"text-align: right;\">         7</td><td style=\"text-align: right;\">           1</td><td>of                                                                                                                                                                                          </td><td style=\"text-align: right;\">          2</td><td style=\"text-align: right;\">            2</td><td>Yes    </td></tr>\n",
       "<tr><td style=\"text-align: right;\">         8</td><td style=\"text-align: right;\">           1</td><td>escapades demonstrating the adage that what is good for the goose                                                                                                                           </td><td style=\"text-align: right;\">          2</td><td style=\"text-align: right;\">            2</td><td>Yes    </td></tr>\n",
       "<tr><td style=\"text-align: right;\">         9</td><td style=\"text-align: right;\">           1</td><td>escapades                                                                                                                                                                                   </td><td style=\"text-align: right;\">          2</td><td style=\"text-align: right;\">            2</td><td>Yes    </td></tr>\n",
       "<tr><td style=\"text-align: right;\">        10</td><td style=\"text-align: right;\">           1</td><td>demonstrating the adage that what is good for the goose                                                                                                                                     </td><td style=\"text-align: right;\">          2</td><td style=\"text-align: right;\">            2</td><td>Yes    </td></tr>\n",
       "</tbody>\n",
       "</table>"
      ]
     },
     "metadata": {},
     "output_type": "display_data"
    },
    {
     "data": {
      "text/plain": []
     },
     "execution_count": 25,
     "metadata": {},
     "output_type": "execute_result"
    }
   ],
   "source": [
    "df_train1"
   ]
  },
  {
   "cell_type": "code",
   "execution_count": 26,
   "metadata": {},
   "outputs": [],
   "source": [
    "df_test1"
   ]
  },
  {
   "cell_type": "code",
   "execution_count": 40,
   "metadata": {},
   "outputs": [],
   "source": [
    "X_train = df_train['Phrase']\n",
    "y_train = df_train['Sentiment']\n",
    "X_test = df_test['Phrase']"
   ]
  },
  {
   "cell_type": "code",
   "execution_count": 29,
   "metadata": {
    "scrolled": false
   },
   "outputs": [
    {
     "name": "stdout",
     "output_type": "stream",
     "text": [
      "gbm Model Build progress: |███████████████████████████████████████████████| 100%\n"
     ]
    }
   ],
   "source": [
    "from h2o.estimators import H2OGradientBoostingEstimator\n",
    "predictors = ['PhraseId', 'SentenceId', 'SentimentM1', 'Phrase']\n",
    "response = 'Sentiment'\n",
    "\n",
    "gbm_embeddings = H2OGradientBoostingEstimator(model_id = \"gbm_embeddings.hex\")\n",
    "gbm_embeddings.train(x = predictors, y = response, \n",
    "                   training_frame = df_train1, validation_frame = df_test1\n",
    "                  )"
   ]
  },
  {
   "cell_type": "code",
   "execution_count": 30,
   "metadata": {},
   "outputs": [
    {
     "name": "stdout",
     "output_type": "stream",
     "text": [
      "xgboost Model Build progress: |███████████████████████████████████████████| 100%\n"
     ]
    }
   ],
   "source": [
    "from h2o.estimators import H2OXGBoostEstimator\n",
    "predictors = ['PhraseId', 'SentenceId', 'SentimentM1', 'Phrase']\n",
    "response = 'Sentiment'\n",
    "param = {\n",
    "      \"ntrees\" : 100\n",
    "    , \"max_depth\" : 10\n",
    "    , \"learn_rate\" : 0.02\n",
    "    , \"sample_rate\" : 0.7\n",
    "    , \"col_sample_rate_per_tree\" : 0.9\n",
    "    , \"min_rows\" : 5\n",
    "    , \"seed\": 4241\n",
    "    , \"score_tree_interval\": 100\n",
    "}\n",
    "\n",
    "model_xgboost = H2OXGBoostEstimator(**param)\n",
    "model_xgboost.train(x = predictors, y = response, \n",
    "                   training_frame = df_train1, validation_frame = df_test1)"
   ]
  },
  {
   "cell_type": "code",
   "execution_count": 32,
   "metadata": {},
   "outputs": [
    {
     "name": "stdout",
     "output_type": "stream",
     "text": [
      "Confusion Matrix: Row labels: Actual class; Column labels: Predicted class\n",
      "\n"
     ]
    },
    {
     "data": {
      "text/html": [
       "<div style=\"overflow:auto\"><table style=\"width:50%\"><tr><td><b>0</b></td>\n",
       "<td><b>1</b></td>\n",
       "<td><b>2</b></td>\n",
       "<td><b>3</b></td>\n",
       "<td><b>4</b></td>\n",
       "<td><b>Error</b></td>\n",
       "<td><b>Rate</b></td></tr>\n",
       "<tr><td>1886.0</td>\n",
       "<td>3055.0</td>\n",
       "<td>1506.0</td>\n",
       "<td>600.0</td>\n",
       "<td>25.0</td>\n",
       "<td>0.7333145</td>\n",
       "<td>5,186 / 7,072</td></tr>\n",
       "<tr><td>985.0</td>\n",
       "<td>10955.0</td>\n",
       "<td>11036.0</td>\n",
       "<td>4209.0</td>\n",
       "<td>88.0</td>\n",
       "<td>0.5983207</td>\n",
       "<td>16,318 / 27,273</td></tr>\n",
       "<tr><td>291.0</td>\n",
       "<td>4661.0</td>\n",
       "<td>55543.0</td>\n",
       "<td>18757.0</td>\n",
       "<td>330.0</td>\n",
       "<td>0.3020658</td>\n",
       "<td>24,039 / 79,582</td></tr>\n",
       "<tr><td>50.0</td>\n",
       "<td>1138.0</td>\n",
       "<td>11688.0</td>\n",
       "<td>18518.0</td>\n",
       "<td>1533.0</td>\n",
       "<td>0.4376044</td>\n",
       "<td>14,409 / 32,927</td></tr>\n",
       "<tr><td>6.0</td>\n",
       "<td>159.0</td>\n",
       "<td>1350.0</td>\n",
       "<td>4524.0</td>\n",
       "<td>3167.0</td>\n",
       "<td>0.6559852</td>\n",
       "<td>6,039 / 9,206</td></tr>\n",
       "<tr><td>3218.0</td>\n",
       "<td>19968.0</td>\n",
       "<td>81123.0</td>\n",
       "<td>46608.0</td>\n",
       "<td>5143.0</td>\n",
       "<td>0.4228566</td>\n",
       "<td>65,991 / 156,060</td></tr></table></div>"
      ],
      "text/plain": [
       "0     1      2      3      4     Error     Rate\n",
       "----  -----  -----  -----  ----  --------  ----------------\n",
       "1886  3055   1506   600    25    0.733314  5,186 / 7,072\n",
       "985   10955  11036  4209   88    0.598321  16,318 / 27,273\n",
       "291   4661   55543  18757  330   0.302066  24,039 / 79,582\n",
       "50    1138   11688  18518  1533  0.437604  14,409 / 32,927\n",
       "6     159    1350   4524   3167  0.655985  6,039 / 9,206\n",
       "3218  19968  81123  46608  5143  0.422857  65,991 / 156,060"
      ]
     },
     "metadata": {},
     "output_type": "display_data"
    },
    {
     "name": "stdout",
     "output_type": "stream",
     "text": [
      "\n"
     ]
    }
   ],
   "source": [
    "cf_xgboost=model_xgboost.confusion_matrix(df_train)\n",
    "print(cf_xgboost)"
   ]
  },
  {
   "cell_type": "code",
   "execution_count": 34,
   "metadata": {},
   "outputs": [
    {
     "name": "stdout",
     "output_type": "stream",
     "text": [
      "Confusion Matrix: Row labels: Actual class; Column labels: Predicted class\n",
      "\n"
     ]
    },
    {
     "data": {
      "text/html": [
       "<div style=\"overflow:auto\"><table style=\"width:50%\"><tr><td><b>0</b></td>\n",
       "<td><b>1</b></td>\n",
       "<td><b>2</b></td>\n",
       "<td><b>3</b></td>\n",
       "<td><b>4</b></td>\n",
       "<td><b>Error</b></td>\n",
       "<td><b>Rate</b></td></tr>\n",
       "<tr><td>2346.0</td>\n",
       "<td>2611.0</td>\n",
       "<td>1490.0</td>\n",
       "<td>599.0</td>\n",
       "<td>26.0</td>\n",
       "<td>0.6682692</td>\n",
       "<td>4,726 / 7,072</td></tr>\n",
       "<tr><td>1346.0</td>\n",
       "<td>10622.0</td>\n",
       "<td>10992.0</td>\n",
       "<td>4220.0</td>\n",
       "<td>93.0</td>\n",
       "<td>0.6105306</td>\n",
       "<td>16,651 / 27,273</td></tr>\n",
       "<tr><td>417.0</td>\n",
       "<td>4587.0</td>\n",
       "<td>55395.0</td>\n",
       "<td>18816.0</td>\n",
       "<td>367.0</td>\n",
       "<td>0.3039255</td>\n",
       "<td>24,187 / 79,582</td></tr>\n",
       "<tr><td>76.0</td>\n",
       "<td>1127.0</td>\n",
       "<td>11643.0</td>\n",
       "<td>18258.0</td>\n",
       "<td>1823.0</td>\n",
       "<td>0.4455007</td>\n",
       "<td>14,669 / 32,927</td></tr>\n",
       "<tr><td>7.0</td>\n",
       "<td>159.0</td>\n",
       "<td>1342.0</td>\n",
       "<td>4381.0</td>\n",
       "<td>3317.0</td>\n",
       "<td>0.6396915</td>\n",
       "<td>5,889 / 9,206</td></tr>\n",
       "<tr><td>4192.0</td>\n",
       "<td>19106.0</td>\n",
       "<td>80862.0</td>\n",
       "<td>46274.0</td>\n",
       "<td>5626.0</td>\n",
       "<td>0.4236960</td>\n",
       "<td>66,122 / 156,060</td></tr></table></div>"
      ],
      "text/plain": [
       "0     1      2      3      4     Error     Rate\n",
       "----  -----  -----  -----  ----  --------  ----------------\n",
       "2346  2611   1490   599    26    0.668269  4,726 / 7,072\n",
       "1346  10622  10992  4220   93    0.610531  16,651 / 27,273\n",
       "417   4587   55395  18816  367   0.303926  24,187 / 79,582\n",
       "76    1127   11643  18258  1823  0.445501  14,669 / 32,927\n",
       "7     159    1342   4381   3317  0.639692  5,889 / 9,206\n",
       "4192  19106  80862  46274  5626  0.423696  66,122 / 156,060"
      ]
     },
     "metadata": {},
     "output_type": "display_data"
    },
    {
     "name": "stdout",
     "output_type": "stream",
     "text": [
      "\n"
     ]
    }
   ],
   "source": [
    "cf=gbm_embeddings.confusion_matrix(df_train)\n",
    "print(cf)\n",
    "# print(\"With Embeddings AUC: \" + str(round(gbm_embeddings.auc(valid = True), 3)))"
   ]
  },
  {
   "cell_type": "code",
   "execution_count": 35,
   "metadata": {},
   "outputs": [],
   "source": [
    "# gbm_embeddings.auc(valid = True)\n",
    "cf=gbm_embeddings.confusion_matrix(df_train)"
   ]
  },
  {
   "cell_type": "code",
   "execution_count": 36,
   "metadata": {},
   "outputs": [
    {
     "name": "stdout",
     "output_type": "stream",
     "text": [
      "Confusion Matrix: Row labels: Actual class; Column labels: Predicted class\n",
      "\n"
     ]
    },
    {
     "data": {
      "text/html": [
       "<div style=\"overflow:auto\"><table style=\"width:50%\"><tr><td><b>0</b></td>\n",
       "<td><b>1</b></td>\n",
       "<td><b>2</b></td>\n",
       "<td><b>3</b></td>\n",
       "<td><b>4</b></td>\n",
       "<td><b>Error</b></td>\n",
       "<td><b>Rate</b></td></tr>\n",
       "<tr><td>2346.0</td>\n",
       "<td>2611.0</td>\n",
       "<td>1490.0</td>\n",
       "<td>599.0</td>\n",
       "<td>26.0</td>\n",
       "<td>0.6682692</td>\n",
       "<td>4,726 / 7,072</td></tr>\n",
       "<tr><td>1346.0</td>\n",
       "<td>10622.0</td>\n",
       "<td>10992.0</td>\n",
       "<td>4220.0</td>\n",
       "<td>93.0</td>\n",
       "<td>0.6105306</td>\n",
       "<td>16,651 / 27,273</td></tr>\n",
       "<tr><td>417.0</td>\n",
       "<td>4587.0</td>\n",
       "<td>55395.0</td>\n",
       "<td>18816.0</td>\n",
       "<td>367.0</td>\n",
       "<td>0.3039255</td>\n",
       "<td>24,187 / 79,582</td></tr>\n",
       "<tr><td>76.0</td>\n",
       "<td>1127.0</td>\n",
       "<td>11643.0</td>\n",
       "<td>18258.0</td>\n",
       "<td>1823.0</td>\n",
       "<td>0.4455007</td>\n",
       "<td>14,669 / 32,927</td></tr>\n",
       "<tr><td>7.0</td>\n",
       "<td>159.0</td>\n",
       "<td>1342.0</td>\n",
       "<td>4381.0</td>\n",
       "<td>3317.0</td>\n",
       "<td>0.6396915</td>\n",
       "<td>5,889 / 9,206</td></tr>\n",
       "<tr><td>4192.0</td>\n",
       "<td>19106.0</td>\n",
       "<td>80862.0</td>\n",
       "<td>46274.0</td>\n",
       "<td>5626.0</td>\n",
       "<td>0.4236960</td>\n",
       "<td>66,122 / 156,060</td></tr></table></div>"
      ],
      "text/plain": [
       "0     1      2      3      4     Error     Rate\n",
       "----  -----  -----  -----  ----  --------  ----------------\n",
       "2346  2611   1490   599    26    0.668269  4,726 / 7,072\n",
       "1346  10622  10992  4220   93    0.610531  16,651 / 27,273\n",
       "417   4587   55395  18816  367   0.303926  24,187 / 79,582\n",
       "76    1127   11643  18258  1823  0.445501  14,669 / 32,927\n",
       "7     159    1342   4381   3317  0.639692  5,889 / 9,206\n",
       "4192  19106  80862  46274  5626  0.423696  66,122 / 156,060"
      ]
     },
     "metadata": {},
     "output_type": "display_data"
    },
    {
     "data": {
      "text/plain": []
     },
     "execution_count": 36,
     "metadata": {},
     "output_type": "execute_result"
    }
   ],
   "source": [
    "cf"
   ]
  },
  {
   "cell_type": "code",
   "execution_count": null,
   "metadata": {},
   "outputs": [],
   "source": [
    "# cf.auc"
   ]
  },
  {
   "cell_type": "code",
   "execution_count": 55,
   "metadata": {},
   "outputs": [
    {
     "name": "stdout",
     "output_type": "stream",
     "text": [
      "xgboost prediction progress: |████████████████████████████████████████████| 100%\n"
     ]
    }
   ],
   "source": [
    "# final_result1 = gbm_embeddings.predict(X_test)\n",
    "predict = model_xgboost.predict(df_test)"
   ]
  },
  {
   "cell_type": "code",
   "execution_count": 56,
   "metadata": {},
   "outputs": [
    {
     "data": {
      "text/html": [
       "<table>\n",
       "<thead>\n",
       "<tr><th style=\"text-align: right;\">  predict</th><th style=\"text-align: right;\">       p0</th><th style=\"text-align: right;\">       p1</th><th style=\"text-align: right;\">      p2</th><th style=\"text-align: right;\">      p3</th><th style=\"text-align: right;\">      p4</th></tr>\n",
       "</thead>\n",
       "<tbody>\n",
       "<tr><td style=\"text-align: right;\">        3</td><td style=\"text-align: right;\">0.0610714</td><td style=\"text-align: right;\">0.0833332</td><td style=\"text-align: right;\">0.101097</td><td style=\"text-align: right;\">0.549312</td><td style=\"text-align: right;\">0.205186</td></tr>\n",
       "<tr><td style=\"text-align: right;\">        3</td><td style=\"text-align: right;\">0.0610714</td><td style=\"text-align: right;\">0.0833332</td><td style=\"text-align: right;\">0.101097</td><td style=\"text-align: right;\">0.549312</td><td style=\"text-align: right;\">0.205186</td></tr>\n",
       "<tr><td style=\"text-align: right;\">        2</td><td style=\"text-align: right;\">0.0805012</td><td style=\"text-align: right;\">0.115926 </td><td style=\"text-align: right;\">0.398743</td><td style=\"text-align: right;\">0.263018</td><td style=\"text-align: right;\">0.141812</td></tr>\n",
       "<tr><td style=\"text-align: right;\">        3</td><td style=\"text-align: right;\">0.0610714</td><td style=\"text-align: right;\">0.0833332</td><td style=\"text-align: right;\">0.101097</td><td style=\"text-align: right;\">0.549312</td><td style=\"text-align: right;\">0.205186</td></tr>\n",
       "<tr><td style=\"text-align: right;\">        3</td><td style=\"text-align: right;\">0.0610714</td><td style=\"text-align: right;\">0.0833332</td><td style=\"text-align: right;\">0.101097</td><td style=\"text-align: right;\">0.549312</td><td style=\"text-align: right;\">0.205186</td></tr>\n",
       "<tr><td style=\"text-align: right;\">        3</td><td style=\"text-align: right;\">0.0610714</td><td style=\"text-align: right;\">0.0833332</td><td style=\"text-align: right;\">0.101097</td><td style=\"text-align: right;\">0.549312</td><td style=\"text-align: right;\">0.205186</td></tr>\n",
       "<tr><td style=\"text-align: right;\">        3</td><td style=\"text-align: right;\">0.0610714</td><td style=\"text-align: right;\">0.0833332</td><td style=\"text-align: right;\">0.101097</td><td style=\"text-align: right;\">0.549312</td><td style=\"text-align: right;\">0.205186</td></tr>\n",
       "<tr><td style=\"text-align: right;\">        3</td><td style=\"text-align: right;\">0.0610714</td><td style=\"text-align: right;\">0.0833332</td><td style=\"text-align: right;\">0.101097</td><td style=\"text-align: right;\">0.549312</td><td style=\"text-align: right;\">0.205186</td></tr>\n",
       "<tr><td style=\"text-align: right;\">        3</td><td style=\"text-align: right;\">0.0610714</td><td style=\"text-align: right;\">0.0833332</td><td style=\"text-align: right;\">0.101097</td><td style=\"text-align: right;\">0.549312</td><td style=\"text-align: right;\">0.205186</td></tr>\n",
       "<tr><td style=\"text-align: right;\">        2</td><td style=\"text-align: right;\">0.0805012</td><td style=\"text-align: right;\">0.115926 </td><td style=\"text-align: right;\">0.398743</td><td style=\"text-align: right;\">0.263018</td><td style=\"text-align: right;\">0.141812</td></tr>\n",
       "</tbody>\n",
       "</table>"
      ]
     },
     "metadata": {},
     "output_type": "display_data"
    },
    {
     "data": {
      "text/plain": []
     },
     "execution_count": 56,
     "metadata": {},
     "output_type": "execute_result"
    }
   ],
   "source": [
    "predict"
   ]
  },
  {
   "cell_type": "code",
   "execution_count": 57,
   "metadata": {},
   "outputs": [],
   "source": [
    "result_Sentiment = predict['predict']"
   ]
  },
  {
   "cell_type": "code",
   "execution_count": 58,
   "metadata": {},
   "outputs": [
    {
     "data": {
      "text/html": [
       "<table>\n",
       "<thead>\n",
       "<tr><th style=\"text-align: right;\">  predict</th></tr>\n",
       "</thead>\n",
       "<tbody>\n",
       "<tr><td style=\"text-align: right;\">        3</td></tr>\n",
       "<tr><td style=\"text-align: right;\">        3</td></tr>\n",
       "<tr><td style=\"text-align: right;\">        2</td></tr>\n",
       "<tr><td style=\"text-align: right;\">        3</td></tr>\n",
       "<tr><td style=\"text-align: right;\">        3</td></tr>\n",
       "<tr><td style=\"text-align: right;\">        3</td></tr>\n",
       "<tr><td style=\"text-align: right;\">        3</td></tr>\n",
       "<tr><td style=\"text-align: right;\">        3</td></tr>\n",
       "<tr><td style=\"text-align: right;\">        3</td></tr>\n",
       "<tr><td style=\"text-align: right;\">        2</td></tr>\n",
       "</tbody>\n",
       "</table>"
      ]
     },
     "metadata": {},
     "output_type": "display_data"
    },
    {
     "data": {
      "text/plain": []
     },
     "execution_count": 58,
     "metadata": {},
     "output_type": "execute_result"
    }
   ],
   "source": [
    "result_Sentiment"
   ]
  },
  {
   "cell_type": "code",
   "execution_count": 59,
   "metadata": {},
   "outputs": [
    {
     "data": {
      "text/plain": [
       "h2o.frame.H2OFrame"
      ]
     },
     "execution_count": 59,
     "metadata": {},
     "output_type": "execute_result"
    }
   ],
   "source": [
    "type(predict)"
   ]
  },
  {
   "cell_type": "code",
   "execution_count": 60,
   "metadata": {},
   "outputs": [
    {
     "name": "stdout",
     "output_type": "stream",
     "text": [
      "Parse progress: |█████████████████████████████████████████████████████████| 100%\n"
     ]
    }
   ],
   "source": [
    "\n",
    "result_data_path = \"assignment3/data/test.tsv\"\n",
    "\n",
    "# Load data into H2O\n",
    "\n",
    "df_result = h2o.import_file(result_data_path, sep=\"\\t\")"
   ]
  },
  {
   "cell_type": "code",
   "execution_count": 61,
   "metadata": {},
   "outputs": [
    {
     "data": {
      "text/html": [
       "<table>\n",
       "<thead>\n",
       "<tr><th style=\"text-align: right;\">  PhraseId</th><th style=\"text-align: right;\">  SentenceId</th><th>Phrase                                                </th></tr>\n",
       "</thead>\n",
       "<tbody>\n",
       "<tr><td style=\"text-align: right;\">    156061</td><td style=\"text-align: right;\">        8545</td><td>An intermittently pleasing but mostly routine effort .</td></tr>\n",
       "<tr><td style=\"text-align: right;\">    156062</td><td style=\"text-align: right;\">        8545</td><td>An intermittently pleasing but mostly routine effort  </td></tr>\n",
       "<tr><td style=\"text-align: right;\">    156063</td><td style=\"text-align: right;\">        8545</td><td>An                                                    </td></tr>\n",
       "<tr><td style=\"text-align: right;\">    156064</td><td style=\"text-align: right;\">        8545</td><td>intermittently pleasing but mostly routine effort     </td></tr>\n",
       "<tr><td style=\"text-align: right;\">    156065</td><td style=\"text-align: right;\">        8545</td><td>intermittently pleasing but mostly routine            </td></tr>\n",
       "<tr><td style=\"text-align: right;\">    156066</td><td style=\"text-align: right;\">        8545</td><td>intermittently pleasing but                           </td></tr>\n",
       "<tr><td style=\"text-align: right;\">    156067</td><td style=\"text-align: right;\">        8545</td><td>intermittently pleasing                               </td></tr>\n",
       "<tr><td style=\"text-align: right;\">    156068</td><td style=\"text-align: right;\">        8545</td><td>intermittently                                        </td></tr>\n",
       "<tr><td style=\"text-align: right;\">    156069</td><td style=\"text-align: right;\">        8545</td><td>pleasing                                              </td></tr>\n",
       "<tr><td style=\"text-align: right;\">    156070</td><td style=\"text-align: right;\">        8545</td><td>but                                                   </td></tr>\n",
       "</tbody>\n",
       "</table>"
      ]
     },
     "metadata": {},
     "output_type": "display_data"
    },
    {
     "data": {
      "text/plain": []
     },
     "execution_count": 61,
     "metadata": {},
     "output_type": "execute_result"
    }
   ],
   "source": [
    "df_result"
   ]
  },
  {
   "cell_type": "code",
   "execution_count": 62,
   "metadata": {},
   "outputs": [],
   "source": [
    "df_result = df_result.cbind(result_Sentiment)"
   ]
  },
  {
   "cell_type": "code",
   "execution_count": 63,
   "metadata": {},
   "outputs": [
    {
     "data": {
      "text/html": [
       "<table>\n",
       "<thead>\n",
       "<tr><th style=\"text-align: right;\">  PhraseId</th><th style=\"text-align: right;\">  SentenceId</th><th>Phrase                                                </th><th style=\"text-align: right;\">  predict</th></tr>\n",
       "</thead>\n",
       "<tbody>\n",
       "<tr><td style=\"text-align: right;\">    156061</td><td style=\"text-align: right;\">        8545</td><td>An intermittently pleasing but mostly routine effort .</td><td style=\"text-align: right;\">        3</td></tr>\n",
       "<tr><td style=\"text-align: right;\">    156062</td><td style=\"text-align: right;\">        8545</td><td>An intermittently pleasing but mostly routine effort  </td><td style=\"text-align: right;\">        3</td></tr>\n",
       "<tr><td style=\"text-align: right;\">    156063</td><td style=\"text-align: right;\">        8545</td><td>An                                                    </td><td style=\"text-align: right;\">        2</td></tr>\n",
       "<tr><td style=\"text-align: right;\">    156064</td><td style=\"text-align: right;\">        8545</td><td>intermittently pleasing but mostly routine effort     </td><td style=\"text-align: right;\">        3</td></tr>\n",
       "<tr><td style=\"text-align: right;\">    156065</td><td style=\"text-align: right;\">        8545</td><td>intermittently pleasing but mostly routine            </td><td style=\"text-align: right;\">        3</td></tr>\n",
       "<tr><td style=\"text-align: right;\">    156066</td><td style=\"text-align: right;\">        8545</td><td>intermittently pleasing but                           </td><td style=\"text-align: right;\">        3</td></tr>\n",
       "<tr><td style=\"text-align: right;\">    156067</td><td style=\"text-align: right;\">        8545</td><td>intermittently pleasing                               </td><td style=\"text-align: right;\">        3</td></tr>\n",
       "<tr><td style=\"text-align: right;\">    156068</td><td style=\"text-align: right;\">        8545</td><td>intermittently                                        </td><td style=\"text-align: right;\">        3</td></tr>\n",
       "<tr><td style=\"text-align: right;\">    156069</td><td style=\"text-align: right;\">        8545</td><td>pleasing                                              </td><td style=\"text-align: right;\">        3</td></tr>\n",
       "<tr><td style=\"text-align: right;\">    156070</td><td style=\"text-align: right;\">        8545</td><td>but                                                   </td><td style=\"text-align: right;\">        2</td></tr>\n",
       "</tbody>\n",
       "</table>"
      ]
     },
     "metadata": {},
     "output_type": "display_data"
    },
    {
     "data": {
      "text/plain": []
     },
     "execution_count": 63,
     "metadata": {},
     "output_type": "execute_result"
    }
   ],
   "source": [
    "df_result"
   ]
  },
  {
   "cell_type": "code",
   "execution_count": 64,
   "metadata": {},
   "outputs": [],
   "source": [
    "Submission = df_result.drop(['SentenceId','Phrase'])"
   ]
  },
  {
   "cell_type": "code",
   "execution_count": 65,
   "metadata": {},
   "outputs": [
    {
     "data": {
      "text/html": [
       "<table>\n",
       "<thead>\n",
       "<tr><th style=\"text-align: right;\">  PhraseId</th><th style=\"text-align: right;\">  predict</th></tr>\n",
       "</thead>\n",
       "<tbody>\n",
       "<tr><td style=\"text-align: right;\">    156061</td><td style=\"text-align: right;\">        3</td></tr>\n",
       "<tr><td style=\"text-align: right;\">    156062</td><td style=\"text-align: right;\">        3</td></tr>\n",
       "<tr><td style=\"text-align: right;\">    156063</td><td style=\"text-align: right;\">        2</td></tr>\n",
       "<tr><td style=\"text-align: right;\">    156064</td><td style=\"text-align: right;\">        3</td></tr>\n",
       "<tr><td style=\"text-align: right;\">    156065</td><td style=\"text-align: right;\">        3</td></tr>\n",
       "<tr><td style=\"text-align: right;\">    156066</td><td style=\"text-align: right;\">        3</td></tr>\n",
       "<tr><td style=\"text-align: right;\">    156067</td><td style=\"text-align: right;\">        3</td></tr>\n",
       "<tr><td style=\"text-align: right;\">    156068</td><td style=\"text-align: right;\">        3</td></tr>\n",
       "<tr><td style=\"text-align: right;\">    156069</td><td style=\"text-align: right;\">        3</td></tr>\n",
       "<tr><td style=\"text-align: right;\">    156070</td><td style=\"text-align: right;\">        2</td></tr>\n",
       "</tbody>\n",
       "</table>"
      ]
     },
     "metadata": {},
     "output_type": "display_data"
    },
    {
     "data": {
      "text/plain": []
     },
     "execution_count": 65,
     "metadata": {},
     "output_type": "execute_result"
    }
   ],
   "source": [
    "Submission"
   ]
  },
  {
   "cell_type": "code",
   "execution_count": 66,
   "metadata": {},
   "outputs": [
    {
     "data": {
      "text/html": [
       "<table>\n",
       "<thead>\n",
       "<tr><th style=\"text-align: right;\">  PhraseId</th><th style=\"text-align: right;\">  Sentiment</th></tr>\n",
       "</thead>\n",
       "<tbody>\n",
       "<tr><td style=\"text-align: right;\">    156061</td><td style=\"text-align: right;\">          3</td></tr>\n",
       "<tr><td style=\"text-align: right;\">    156062</td><td style=\"text-align: right;\">          3</td></tr>\n",
       "<tr><td style=\"text-align: right;\">    156063</td><td style=\"text-align: right;\">          2</td></tr>\n",
       "<tr><td style=\"text-align: right;\">    156064</td><td style=\"text-align: right;\">          3</td></tr>\n",
       "<tr><td style=\"text-align: right;\">    156065</td><td style=\"text-align: right;\">          3</td></tr>\n",
       "<tr><td style=\"text-align: right;\">    156066</td><td style=\"text-align: right;\">          3</td></tr>\n",
       "<tr><td style=\"text-align: right;\">    156067</td><td style=\"text-align: right;\">          3</td></tr>\n",
       "<tr><td style=\"text-align: right;\">    156068</td><td style=\"text-align: right;\">          3</td></tr>\n",
       "<tr><td style=\"text-align: right;\">    156069</td><td style=\"text-align: right;\">          3</td></tr>\n",
       "<tr><td style=\"text-align: right;\">    156070</td><td style=\"text-align: right;\">          2</td></tr>\n",
       "</tbody>\n",
       "</table>"
      ]
     },
     "metadata": {},
     "output_type": "display_data"
    },
    {
     "data": {
      "text/plain": []
     },
     "execution_count": 66,
     "metadata": {},
     "output_type": "execute_result"
    }
   ],
   "source": [
    "Submission.set_names(['PhraseId','Sentiment'])"
   ]
  },
  {
   "cell_type": "code",
   "execution_count": 68,
   "metadata": {},
   "outputs": [
    {
     "name": "stdout",
     "output_type": "stream",
     "text": [
      "Export File progress: |███████████████████████████████████████████████████| 100%\n"
     ]
    }
   ],
   "source": [
    "h2o.export_file(Submission, 'Submission_plza.csv', force=False)"
   ]
  },
  {
   "cell_type": "markdown",
   "metadata": {},
   "source": [
    "# Conclusion"
   ]
  },
  {
   "cell_type": "markdown",
   "metadata": {},
   "source": [
    "In this assignment, I separated into two parts to finish, the first one is data cleaning and preprocessing, and the second part is to use H2O library to make it better. <br><br>\n",
    "\n",
    "In the first part, I use STEMMER to clean the data, which changes some miss typing words to correct version. Then, I tokenize the words using CountVectorizer. Therefore, we get the mean cross-validation score from Part One, which is about 0.603. Before entering to part two, I save the predictions I get from part one and save them as a new column, this new dataset is the one we are going to use in part two. <br><br>\n",
    "\n",
    "Instead of importing the original dataset, we will import the one with new columns generated from Part One and then processing them by using H2O Auto ML. However H2O and sklearn cannot exist on the same notebook, that is the reason we have to create two notebooks and finish the work separately. In H2O part, first we initialize H2O and then set up AutoML. AutoML will help us find out the best model fit in our dataset by compare the rmse, log loss and so on from the leaderboard. In our case, the XGBoost run the first place on our leaderboard so we will run this model and let our dataset fit into it. By using XGBoost model, we predict our dataset result in 0.604.  <br><br>\n",
    "This is a simple combination of sklearn and H2O, however the overfitting problem is a huge problem I should pay more attention to."
   ]
  },
  {
   "cell_type": "markdown",
   "metadata": {},
   "source": [
    "# Contributions"
   ]
  },
  {
   "cell_type": "markdown",
   "metadata": {},
   "source": [
    "By own: 60%<br>\n",
    "By external source:40%"
   ]
  },
  {
   "cell_type": "markdown",
   "metadata": {},
   "source": [
    "# Citations"
   ]
  },
  {
   "cell_type": "markdown",
   "metadata": {},
   "source": [
    "https://www.kaggle.com/sshadylov/sentiment-analysis-on-rotten-tomatoes-dataset<br>\n",
    "https://github.com/h2oai/h2o-tutorials/blob/master/training/h2o_3_hands_on/nlp/WordEmbeddings-PreRun.ipynb"
   ]
  },
  {
   "cell_type": "markdown",
   "metadata": {},
   "source": [
    "# License"
   ]
  },
  {
   "cell_type": "markdown",
   "metadata": {},
   "source": [
    "Copyright 2019 RuisiGu\n",
    "\n",
    "Permission is hereby granted, free of charge, to any person obtaining a copy of this software and associated documentation files (the \"Software\"), to deal in the Software without restriction, including without limitation the rights to use, copy, modify, merge, publish, distribute, sublicense, and/or sell copies of the Software, and to permit persons to whom the Software is furnished to do so, subject to the following conditions:\n",
    "\n",
    "The above copyright notice and this permission notice shall be included in all copies or substantial portions of the Software.\n",
    "\n",
    "THE SOFTWARE IS PROVIDED \"AS IS\", WITHOUT WARRANTY OF ANY KIND, EXPRESS OR IMPLIED, INCLUDING BUT NOT LIMITED TO THE WARRANTIES OF MERCHANTABILITY, FITNESS FOR A PARTICULAR PURPOSE AND NONINFRINGEMENT. IN NO EVENT SHALL THE AUTHORS OR COPYRIGHT HOLDERS BE LIABLE FOR ANY CLAIM, DAMAGES OR OTHER LIABILITY, WHETHER IN AN ACTION OF CONTRACT, TORT OR OTHERWISE, ARISING FROM, OUT OF OR IN CONNECTION WITH THE SOFTWARE OR THE USE OR OTHER DEALINGS IN THE SOFTWARE."
   ]
  },
  {
   "cell_type": "code",
   "execution_count": null,
   "metadata": {},
   "outputs": [],
   "source": [
    "h2o.cluster().shutdown()"
   ]
  }
 ],
 "metadata": {
  "kernelspec": {
   "display_name": "Python 3",
   "language": "python",
   "name": "python3"
  },
  "language_info": {
   "codemirror_mode": {
    "name": "ipython",
    "version": 3
   },
   "file_extension": ".py",
   "mimetype": "text/x-python",
   "name": "python",
   "nbconvert_exporter": "python",
   "pygments_lexer": "ipython3",
   "version": "3.7.1"
  },
  "varInspector": {
   "cols": {
    "lenName": 16,
    "lenType": 16,
    "lenVar": 40
   },
   "kernels_config": {
    "python": {
     "delete_cmd_postfix": "",
     "delete_cmd_prefix": "del ",
     "library": "var_list.py",
     "varRefreshCmd": "print(var_dic_list())"
    },
    "r": {
     "delete_cmd_postfix": ") ",
     "delete_cmd_prefix": "rm(",
     "library": "var_list.r",
     "varRefreshCmd": "cat(var_dic_list()) "
    }
   },
   "types_to_exclude": [
    "module",
    "function",
    "builtin_function_or_method",
    "instance",
    "_Feature"
   ],
   "window_display": false
  }
 },
 "nbformat": 4,
 "nbformat_minor": 2
}
